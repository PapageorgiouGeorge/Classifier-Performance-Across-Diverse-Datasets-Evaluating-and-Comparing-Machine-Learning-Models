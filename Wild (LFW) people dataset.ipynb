{
 "cells": [
  {
   "cell_type": "markdown",
   "metadata": {},
   "source": [
    "# Using the Wild (LFW) people Data Set"
   ]
  },
  {
   "cell_type": "code",
   "execution_count": 1,
   "metadata": {},
   "outputs": [],
   "source": [
    "# Load the dataset\n",
    "from sklearn.datasets import fetch_lfw_people\n",
    "lfw_people = fetch_lfw_people(min_faces_per_person=70)"
   ]
  },
  {
   "cell_type": "code",
   "execution_count": 2,
   "metadata": {},
   "outputs": [
    {
     "name": "stdout",
     "output_type": "stream",
     "text": [
      ".. _labeled_faces_in_the_wild_dataset:\n",
      "\n",
      "The Labeled Faces in the Wild face recognition dataset\n",
      "------------------------------------------------------\n",
      "\n",
      "This dataset is a collection of JPEG pictures of famous people collected\n",
      "over the internet, all details are available on the official website:\n",
      "\n",
      "    http://vis-www.cs.umass.edu/lfw/\n",
      "\n",
      "Each picture is centered on a single face. The typical task is called\n",
      "Face Verification: given a pair of two pictures, a binary classifier\n",
      "must predict whether the two images are from the same person.\n",
      "\n",
      "An alternative task, Face Recognition or Face Identification is:\n",
      "given the picture of the face of an unknown person, identify the name\n",
      "of the person by referring to a gallery of previously seen pictures of\n",
      "identified persons.\n",
      "\n",
      "Both Face Verification and Face Recognition are tasks that are typically\n",
      "performed on the output of a model trained to perform Face Detection. The\n",
      "most popular model for Face Detection is called Viola-Jones and is\n",
      "implemented in the OpenCV library. The LFW faces were extracted by this\n",
      "face detector from various online websites.\n",
      "\n",
      "**Data Set Characteristics:**\n",
      "\n",
      "    =================   =======================\n",
      "    Classes                                5749\n",
      "    Samples total                         13233\n",
      "    Dimensionality                         5828\n",
      "    Features            real, between 0 and 255\n",
      "    =================   =======================\n",
      "\n",
      "Usage\n",
      "~~~~~\n",
      "\n",
      "``scikit-learn`` provides two loaders that will automatically download,\n",
      "cache, parse the metadata files, decode the jpeg and convert the\n",
      "interesting slices into memmapped numpy arrays. This dataset size is more\n",
      "than 200 MB. The first load typically takes more than a couple of minutes\n",
      "to fully decode the relevant part of the JPEG files into numpy arrays. If\n",
      "the dataset has  been loaded once, the following times the loading times\n",
      "less than 200ms by using a memmapped version memoized on the disk in the\n",
      "``~/scikit_learn_data/lfw_home/`` folder using ``joblib``.\n",
      "\n",
      "The first loader is used for the Face Identification task: a multi-class\n",
      "classification task (hence supervised learning)::\n",
      "\n",
      "  >>> from sklearn.datasets import fetch_lfw_people\n",
      "  >>> lfw_people = fetch_lfw_people(min_faces_per_person=70, resize=0.4)\n",
      "\n",
      "  >>> for name in lfw_people.target_names:\n",
      "  ...     print(name)\n",
      "  ...\n",
      "  Ariel Sharon\n",
      "  Colin Powell\n",
      "  Donald Rumsfeld\n",
      "  George W Bush\n",
      "  Gerhard Schroeder\n",
      "  Hugo Chavez\n",
      "  Tony Blair\n",
      "\n",
      "The default slice is a rectangular shape around the face, removing\n",
      "most of the background::\n",
      "\n",
      "  >>> lfw_people.data.dtype\n",
      "  dtype('float32')\n",
      "\n",
      "  >>> lfw_people.data.shape\n",
      "  (1288, 1850)\n",
      "\n",
      "  >>> lfw_people.images.shape\n",
      "  (1288, 50, 37)\n",
      "\n",
      "Each of the ``1140`` faces is assigned to a single person id in the ``target``\n",
      "array::\n",
      "\n",
      "  >>> lfw_people.target.shape\n",
      "  (1288,)\n",
      "\n",
      "  >>> list(lfw_people.target[:10])\n",
      "  [5, 6, 3, 1, 0, 1, 3, 4, 3, 0]\n",
      "\n",
      "The second loader is typically used for the face verification task: each sample\n",
      "is a pair of two picture belonging or not to the same person::\n",
      "\n",
      "  >>> from sklearn.datasets import fetch_lfw_pairs\n",
      "  >>> lfw_pairs_train = fetch_lfw_pairs(subset='train')\n",
      "\n",
      "  >>> list(lfw_pairs_train.target_names)\n",
      "  ['Different persons', 'Same person']\n",
      "\n",
      "  >>> lfw_pairs_train.pairs.shape\n",
      "  (2200, 2, 62, 47)\n",
      "\n",
      "  >>> lfw_pairs_train.data.shape\n",
      "  (2200, 5828)\n",
      "\n",
      "  >>> lfw_pairs_train.target.shape\n",
      "  (2200,)\n",
      "\n",
      "Both for the :func:`sklearn.datasets.fetch_lfw_people` and\n",
      ":func:`sklearn.datasets.fetch_lfw_pairs` function it is\n",
      "possible to get an additional dimension with the RGB color channels by\n",
      "passing ``color=True``, in that case the shape will be\n",
      "``(2200, 2, 62, 47, 3)``.\n",
      "\n",
      "The :func:`sklearn.datasets.fetch_lfw_pairs` datasets is subdivided into\n",
      "3 subsets: the development ``train`` set, the development ``test`` set and\n",
      "an evaluation ``10_folds`` set meant to compute performance metrics using a\n",
      "10-folds cross validation scheme.\n",
      "\n",
      ".. topic:: References:\n",
      "\n",
      " * `Labeled Faces in the Wild: A Database for Studying Face Recognition\n",
      "   in Unconstrained Environments.\n",
      "   <http://vis-www.cs.umass.edu/lfw/lfw.pdf>`_\n",
      "   Gary B. Huang, Manu Ramesh, Tamara Berg, and Erik Learned-Miller.\n",
      "   University of Massachusetts, Amherst, Technical Report 07-49, October, 2007.\n",
      "\n",
      "\n",
      "Examples\n",
      "~~~~~~~~\n",
      "\n",
      ":ref:`sphx_glr_auto_examples_applications_plot_face_recognition.py`\n",
      "\n"
     ]
    }
   ],
   "source": [
    "# Display a description of the dataset\n",
    "print(lfw_people.DESCR)"
   ]
  },
  {
   "cell_type": "code",
   "execution_count": 3,
   "metadata": {
    "scrolled": true
   },
   "outputs": [
    {
     "name": "stdout",
     "output_type": "stream",
     "text": [
      "[5 6 3 ... 5 3 5]\n"
     ]
    }
   ],
   "source": [
    "# print the target variables\n",
    "print(lfw_people.target)"
   ]
  },
  {
   "cell_type": "code",
   "execution_count": 4,
   "metadata": {},
   "outputs": [
    {
     "name": "stdout",
     "output_type": "stream",
     "text": [
      "Class labels: [0 1 2 3 4 5 6]\n"
     ]
    }
   ],
   "source": [
    "# print class labels\n",
    "import numpy as np\n",
    "\n",
    "\n",
    "print('Class labels:', np.unique(lfw_people.target))"
   ]
  },
  {
   "cell_type": "code",
   "execution_count": 5,
   "metadata": {},
   "outputs": [],
   "source": [
    "from sklearn.model_selection import train_test_split\n",
    "train_set, test_set, train_labels, test_labels = train_test_split(\n",
    "                              lfw_people.data,               # features\n",
    "                              lfw_people.target,             # labels\n",
    "                              test_size = 0.30,          # split ratio\n",
    "                              random_state = 1,          # set random seed\n",
    "                              stratify = lfw_people.target)  # randomize based on labels"
   ]
  },
  {
   "cell_type": "code",
   "execution_count": 6,
   "metadata": {},
   "outputs": [
    {
     "name": "stdout",
     "output_type": "stream",
     "text": [
      "Labels count in y: [ 77 236 121 530 109  71 144]\n",
      "Labels count in y_train: [ 54 165  84 371  76  50 101]\n",
      "Labels count in y_test: [ 23  71  37 159  33  21  43]\n"
     ]
    }
   ],
   "source": [
    "print('Labels count in y:', np.bincount(lfw_people.target))\n",
    "print('Labels count in y_train:', np.bincount(train_labels))\n",
    "print('Labels count in y_test:', np.bincount(test_labels))"
   ]
  },
  {
   "cell_type": "markdown",
   "metadata": {},
   "source": [
    "# No normalization (use raw features)"
   ]
  },
  {
   "cell_type": "markdown",
   "metadata": {},
   "source": [
    "## Logistic Regression"
   ]
  },
  {
   "cell_type": "code",
   "execution_count": 7,
   "metadata": {},
   "outputs": [],
   "source": [
    "from sklearn.linear_model import LogisticRegression\n",
    "x = train_set[:,0:2914]      \n",
    "y = train_labels             \n",
    "lr = LogisticRegression(C = 100.0, random_state=1, solver='liblinear', multi_class='ovr', max_iter = 3000)\n",
    "lr.fit(x,y)\n",
    "y_pred = lr.predict(test_set)\n",
    "preds = y_pred"
   ]
  },
  {
   "cell_type": "code",
   "execution_count": 8,
   "metadata": {},
   "outputs": [
    {
     "name": "stdout",
     "output_type": "stream",
     "text": [
      "---Confusion Matrix---\n",
      "col_0   0   1   2    3   4   5   6\n",
      "row_0                             \n",
      "0      21   2   2    1   0   0   0\n",
      "1       1  62   0    5   0   2   0\n",
      "2       1   3  31    5   2   0   1\n",
      "3       0   3   4  140   2   5   6\n",
      "4       0   0   0    3  27   3   1\n",
      "5       0   0   0    0   0  10   0\n",
      "6       0   1   0    5   2   1  35\n"
     ]
    }
   ],
   "source": [
    "import pandas as pd\n",
    "#---generate table of predictions vs actual---\n",
    "print(\"---Confusion Matrix---\")\n",
    "print(pd.crosstab(y_pred, test_labels))"
   ]
  },
  {
   "cell_type": "markdown",
   "metadata": {},
   "source": [
    "### Metrics"
   ]
  },
  {
   "cell_type": "code",
   "execution_count": 9,
   "metadata": {},
   "outputs": [
    {
     "name": "stdout",
     "output_type": "stream",
     "text": [
      "Accuracy :  0.8423772609819121\n"
     ]
    }
   ],
   "source": [
    "#𝑀1 : Classification accuracy\n",
    "from sklearn.metrics import accuracy_score\n",
    "acc_logre_nonorm = accuracy_score(test_labels, y_pred)\n",
    "print('Accuracy : ' , acc_logre_nonorm)"
   ]
  },
  {
   "cell_type": "code",
   "execution_count": 10,
   "metadata": {},
   "outputs": [
    {
     "name": "stdout",
     "output_type": "stream",
     "text": [
      "F1-Score :  0.8401375548438265\n"
     ]
    }
   ],
   "source": [
    "#𝑀2 : F1-score\n",
    "from sklearn.metrics import f1_score\n",
    "f1_logre_nonorm = f1_score(test_labels, preds, average='weighted')\n",
    "print('F1-Score : ',f1_logre_nonorm)"
   ]
  },
  {
   "cell_type": "code",
   "execution_count": 11,
   "metadata": {},
   "outputs": [
    {
     "name": "stdout",
     "output_type": "stream",
     "text": [
      "Mean Squared Error :  0.7467700258397932\n"
     ]
    }
   ],
   "source": [
    "#𝑀3 : Mean squared error\n",
    "from sklearn.metrics import mean_squared_error\n",
    "mse_logre_nonorm = mean_squared_error(test_labels, preds)\n",
    "print('Mean Squared Error : ', mse_logre_nonorm)"
   ]
  },
  {
   "cell_type": "code",
   "execution_count": 12,
   "metadata": {},
   "outputs": [
    {
     "name": "stdout",
     "output_type": "stream",
     "text": [
      "Hamming Loss :  0.15762273901808785\n"
     ]
    }
   ],
   "source": [
    "#𝑀4 : Hamming loss\n",
    "from sklearn.metrics import hamming_loss\n",
    "y_true = test_labels\n",
    "y_pred = preds\n",
    "hamloss_logre_nonorm = hamming_loss(test_labels, preds)\n",
    "print('Hamming Loss : ' ,hamloss_logre_nonorm)"
   ]
  },
  {
   "cell_type": "markdown",
   "metadata": {},
   "source": [
    "## Perceptron"
   ]
  },
  {
   "cell_type": "code",
   "execution_count": 13,
   "metadata": {},
   "outputs": [
    {
     "data": {
      "text/plain": [
       "Perceptron(eta0=0.1, random_state=1)"
      ]
     },
     "execution_count": 13,
     "metadata": {},
     "output_type": "execute_result"
    }
   ],
   "source": [
    "from sklearn.linear_model import Perceptron\n",
    "ppn = Perceptron(eta0=0.1, random_state=1)\n",
    "ppn.fit(train_set, train_labels)"
   ]
  },
  {
   "cell_type": "markdown",
   "metadata": {},
   "source": [
    "### Model Evaluation"
   ]
  },
  {
   "cell_type": "code",
   "execution_count": 14,
   "metadata": {},
   "outputs": [
    {
     "name": "stdout",
     "output_type": "stream",
     "text": [
      "Misclassified examples (All Features): 104\n"
     ]
    }
   ],
   "source": [
    "y_pred = ppn.predict(test_set)\n",
    "print('Misclassified examples (All Features): %d' % (test_labels != y_pred).sum())"
   ]
  },
  {
   "cell_type": "markdown",
   "metadata": {},
   "source": [
    "### Metrics"
   ]
  },
  {
   "cell_type": "code",
   "execution_count": 15,
   "metadata": {},
   "outputs": [
    {
     "name": "stdout",
     "output_type": "stream",
     "text": [
      "Accuracy :  0.7312661498708011\n"
     ]
    }
   ],
   "source": [
    "#𝑀1 : Classification accuracy\n",
    "from sklearn.metrics import accuracy_score\n",
    "acc_perc_nonorm = accuracy_score(test_labels, y_pred)\n",
    "print('Accuracy : ' , acc_perc_nonorm)"
   ]
  },
  {
   "cell_type": "code",
   "execution_count": 16,
   "metadata": {},
   "outputs": [
    {
     "name": "stdout",
     "output_type": "stream",
     "text": [
      "F1-Score :  0.7314483755365353\n"
     ]
    }
   ],
   "source": [
    "#𝑀2 : F1-score\n",
    "from sklearn.metrics import f1_score\n",
    "f1_perc_nonorm = f1_score(test_labels, y_pred, average='weighted')\n",
    "print('F1-Score : ', f1_perc_nonorm)"
   ]
  },
  {
   "cell_type": "code",
   "execution_count": 17,
   "metadata": {},
   "outputs": [
    {
     "name": "stdout",
     "output_type": "stream",
     "text": [
      "Mean Squared error :  1.4909560723514212\n"
     ]
    }
   ],
   "source": [
    "#𝑀3 : Mean squared error\n",
    "from sklearn.metrics import mean_squared_error\n",
    "mse_perc_nonorm = mean_squared_error(test_labels, y_pred)\n",
    "print('Mean Squared error : ', mse_perc_nonorm)"
   ]
  },
  {
   "cell_type": "code",
   "execution_count": 18,
   "metadata": {},
   "outputs": [
    {
     "name": "stdout",
     "output_type": "stream",
     "text": [
      "Hamming Loss :  0.268733850129199\n"
     ]
    }
   ],
   "source": [
    "#𝑀4 : Hamming loss\n",
    "from sklearn.metrics import hamming_loss\n",
    "hamloss_perc_nonorm = hamming_loss(test_labels, y_pred)\n",
    "print('Hamming Loss : ', hamloss_perc_nonorm)"
   ]
  },
  {
   "cell_type": "markdown",
   "metadata": {},
   "source": [
    "##  Support Vector Machines"
   ]
  },
  {
   "cell_type": "markdown",
   "metadata": {},
   "source": [
    "### With Linear Kernel"
   ]
  },
  {
   "cell_type": "code",
   "execution_count": 19,
   "metadata": {},
   "outputs": [
    {
     "data": {
      "text/plain": [
       "SVC(kernel='linear', random_state=1)"
      ]
     },
     "execution_count": 19,
     "metadata": {},
     "output_type": "execute_result"
    }
   ],
   "source": [
    "from sklearn.svm import SVC\n",
    "svm = SVC(kernel='linear', C=1.0, random_state=1)\n",
    "svm.fit(train_set, train_labels)"
   ]
  },
  {
   "cell_type": "markdown",
   "metadata": {},
   "source": [
    "### Model Evaluation"
   ]
  },
  {
   "cell_type": "code",
   "execution_count": 20,
   "metadata": {},
   "outputs": [
    {
     "name": "stdout",
     "output_type": "stream",
     "text": [
      "Misclassified examples (All Features): 64\n"
     ]
    }
   ],
   "source": [
    "y_pred = svm.predict(test_set)\n",
    "print('Misclassified examples (All Features): %d' % (test_labels != y_pred).sum())"
   ]
  },
  {
   "cell_type": "markdown",
   "metadata": {},
   "source": [
    "### Metrics"
   ]
  },
  {
   "cell_type": "code",
   "execution_count": 21,
   "metadata": {},
   "outputs": [
    {
     "name": "stdout",
     "output_type": "stream",
     "text": [
      "Accuracy :  0.834625322997416\n"
     ]
    }
   ],
   "source": [
    "#𝑀1 : Classification accuracy\n",
    "from sklearn.metrics import accuracy_score\n",
    "acc_svm_lk_nonorm = accuracy_score(test_labels, y_pred)\n",
    "print('Accuracy : ' ,acc_svm_lk_nonorm)"
   ]
  },
  {
   "cell_type": "code",
   "execution_count": 22,
   "metadata": {},
   "outputs": [
    {
     "name": "stdout",
     "output_type": "stream",
     "text": [
      "F1-Score :  0.8357552174888598\n"
     ]
    }
   ],
   "source": [
    "#𝑀2 : F1-score\n",
    "from sklearn.metrics import f1_score\n",
    "f1_svm_lk_nonorm = f1_score(test_labels, y_pred, average='weighted')\n",
    "print('F1-Score : ', f1_svm_lk_nonorm)"
   ]
  },
  {
   "cell_type": "code",
   "execution_count": 23,
   "metadata": {},
   "outputs": [
    {
     "name": "stdout",
     "output_type": "stream",
     "text": [
      "Mean Squared Error :  0.9689922480620154\n"
     ]
    }
   ],
   "source": [
    "#𝑀3 : Mean squared error\n",
    "from sklearn.metrics import mean_squared_error\n",
    "mse_svm_lk_nonorm = mean_squared_error(test_labels, y_pred)\n",
    "print('Mean Squared Error : ', mse_svm_lk_nonorm)"
   ]
  },
  {
   "cell_type": "code",
   "execution_count": 24,
   "metadata": {},
   "outputs": [
    {
     "name": "stdout",
     "output_type": "stream",
     "text": [
      "Hamming Loss :  0.165374677002584\n"
     ]
    }
   ],
   "source": [
    "#𝑀4 : Hamming loss\n",
    "from sklearn.metrics import hamming_loss\n",
    "hamloss_svm_lk_nonorm = hamming_loss(test_labels, y_pred)\n",
    "print('Hamming Loss : ',hamloss_svm_lk_nonorm)"
   ]
  },
  {
   "cell_type": "markdown",
   "metadata": {},
   "source": [
    "### With RBF Kernel"
   ]
  },
  {
   "cell_type": "code",
   "execution_count": 25,
   "metadata": {
    "scrolled": true
   },
   "outputs": [
    {
     "data": {
      "text/plain": [
       "SVC(random_state=1)"
      ]
     },
     "execution_count": 25,
     "metadata": {},
     "output_type": "execute_result"
    }
   ],
   "source": [
    "from sklearn.svm import SVC\n",
    "svm = SVC(kernel='rbf', C=1.0, random_state=1)\n",
    "svm.fit(train_set, train_labels)"
   ]
  },
  {
   "cell_type": "markdown",
   "metadata": {},
   "source": [
    "### Model Evaluation"
   ]
  },
  {
   "cell_type": "code",
   "execution_count": 26,
   "metadata": {},
   "outputs": [
    {
     "name": "stdout",
     "output_type": "stream",
     "text": [
      "Misclassified examples (All Features): 103\n"
     ]
    }
   ],
   "source": [
    "y_pred = svm.predict(test_set)\n",
    "print('Misclassified examples (All Features): %d' % (test_labels != y_pred).sum())"
   ]
  },
  {
   "cell_type": "markdown",
   "metadata": {},
   "source": [
    "### Metrics"
   ]
  },
  {
   "cell_type": "code",
   "execution_count": 27,
   "metadata": {},
   "outputs": [
    {
     "name": "stdout",
     "output_type": "stream",
     "text": [
      "Accuracy :  0.7338501291989664\n"
     ]
    }
   ],
   "source": [
    "#𝑀1 : Classification accuracy\n",
    "from sklearn.metrics import accuracy_score\n",
    "acc_svm_rbf_nonorm = accuracy_score(test_labels, y_pred)\n",
    "print('Accuracy : ', acc_svm_rbf_nonorm)"
   ]
  },
  {
   "cell_type": "code",
   "execution_count": 28,
   "metadata": {},
   "outputs": [
    {
     "name": "stdout",
     "output_type": "stream",
     "text": [
      "F1-score : 0.7068337134290631\n"
     ]
    }
   ],
   "source": [
    "#𝑀2 : F1-score\n",
    "from sklearn.metrics import f1_score\n",
    "f1_svm_rbf_nonorm = f1_score(test_labels, y_pred, average='weighted')\n",
    "print('F1-score :',f1_svm_rbf_nonorm)"
   ]
  },
  {
   "cell_type": "code",
   "execution_count": 29,
   "metadata": {},
   "outputs": [
    {
     "name": "stdout",
     "output_type": "stream",
     "text": [
      "Mean Squared Error :  0.9974160206718347\n"
     ]
    }
   ],
   "source": [
    "#𝑀3 : Mean squared error\n",
    "from sklearn.metrics import mean_squared_error\n",
    "mse_svm_rbf_nonorm = mean_squared_error(test_labels, y_pred)\n",
    "print('Mean Squared Error : ',mse_svm_rbf_nonorm)"
   ]
  },
  {
   "cell_type": "code",
   "execution_count": 30,
   "metadata": {},
   "outputs": [
    {
     "name": "stdout",
     "output_type": "stream",
     "text": [
      "Hamming Loss :  0.2661498708010336\n"
     ]
    }
   ],
   "source": [
    "#𝑀4 : Hamming loss\n",
    "from sklearn.metrics import hamming_loss\n",
    "hamloss_svm_rbf_nonorm = hamming_loss(test_labels, y_pred)\n",
    "print('Hamming Loss : ',hamloss_svm_rbf_nonorm)"
   ]
  },
  {
   "cell_type": "markdown",
   "metadata": {},
   "source": [
    "# Decision Tree"
   ]
  },
  {
   "cell_type": "code",
   "execution_count": 31,
   "metadata": {},
   "outputs": [
    {
     "data": {
      "text/plain": [
       "DecisionTreeClassifier(max_depth=4, random_state=1)"
      ]
     },
     "execution_count": 31,
     "metadata": {},
     "output_type": "execute_result"
    }
   ],
   "source": [
    "from sklearn.tree import DecisionTreeClassifier\n",
    "\n",
    "# Build a decision tree for classification tasks\n",
    "# citerion:  The function to measure the quality of a split. \n",
    "# max_depth: The maximum depth of the tree. If None, then nodes are expanded until all leaves are pure or\n",
    "#            until all leaves contain less than min_samples_split samples.\n",
    "# min_samples_split: The minimum number of samples required to split an internal node.\n",
    "# min_samples_leaf:  The minimum number of samples required to to be at a leaf node.\n",
    "tree_model = DecisionTreeClassifier(criterion = 'gini', max_depth = 4, random_state = 1)\n",
    "tree_model.fit(train_set, train_labels)"
   ]
  },
  {
   "cell_type": "markdown",
   "metadata": {},
   "source": [
    "### Model Evaluation"
   ]
  },
  {
   "cell_type": "code",
   "execution_count": 32,
   "metadata": {},
   "outputs": [
    {
     "name": "stdout",
     "output_type": "stream",
     "text": [
      "Misclassified examples (All Features): 201\n"
     ]
    }
   ],
   "source": [
    "y_pred = tree_model.predict(test_set)\n",
    "print('Misclassified examples (All Features): %d' % (test_labels != y_pred).sum())"
   ]
  },
  {
   "cell_type": "markdown",
   "metadata": {},
   "source": [
    "### Metrics"
   ]
  },
  {
   "cell_type": "code",
   "execution_count": 33,
   "metadata": {},
   "outputs": [
    {
     "name": "stdout",
     "output_type": "stream",
     "text": [
      "Accuracy :  0.4806201550387597\n"
     ]
    }
   ],
   "source": [
    "#𝑀1 : Classification accuracy\n",
    "from sklearn.metrics import accuracy_score\n",
    "acc_dtree_nonorm = accuracy_score(test_labels, y_pred)\n",
    "print('Accuracy : ', acc_dtree_nonorm)"
   ]
  },
  {
   "cell_type": "code",
   "execution_count": 34,
   "metadata": {},
   "outputs": [
    {
     "name": "stdout",
     "output_type": "stream",
     "text": [
      "F1-score : 0.38868303244948704\n"
     ]
    }
   ],
   "source": [
    "#𝑀2 : F1-score\n",
    "from sklearn.metrics import f1_score\n",
    "f1_dtree_nonorm = f1_score(test_labels, y_pred, average='weighted')\n",
    "print('F1-score :',f1_dtree_nonorm)"
   ]
  },
  {
   "cell_type": "code",
   "execution_count": 35,
   "metadata": {},
   "outputs": [
    {
     "name": "stdout",
     "output_type": "stream",
     "text": [
      "Mean Squared Error :  2.310077519379845\n"
     ]
    }
   ],
   "source": [
    "#𝑀3 : Mean squared error\n",
    "from sklearn.metrics import mean_squared_error\n",
    "mse_dtree_nonorm = mean_squared_error(test_labels, y_pred)\n",
    "print('Mean Squared Error : ',mse_dtree_nonorm)"
   ]
  },
  {
   "cell_type": "code",
   "execution_count": 36,
   "metadata": {},
   "outputs": [
    {
     "name": "stdout",
     "output_type": "stream",
     "text": [
      "Hamming Loss :  0.5193798449612403\n"
     ]
    }
   ],
   "source": [
    "#𝑀4 : Hamming loss\n",
    "from sklearn.metrics import hamming_loss\n",
    "hamloss_dtree_nonorm = hamming_loss(test_labels, y_pred)\n",
    "print('Hamming Loss : ',hamloss_dtree_nonorm)"
   ]
  },
  {
   "cell_type": "markdown",
   "metadata": {},
   "source": [
    "# Random Forests"
   ]
  },
  {
   "cell_type": "code",
   "execution_count": 37,
   "metadata": {},
   "outputs": [
    {
     "data": {
      "text/plain": [
       "RandomForestClassifier(n_estimators=25, n_jobs=-1, random_state=1)"
      ]
     },
     "execution_count": 37,
     "metadata": {},
     "output_type": "execute_result"
    }
   ],
   "source": [
    "from sklearn.ensemble import RandomForestClassifier\n",
    "\n",
    "# Create a Random Forest comprised of 25 decision trees\n",
    "# citerion:  The function to measure the quality of a split. \n",
    "# max_depth: The maximum depth of the tree. If None, then nodes are expanded until all leaves are pure or\n",
    "#            until all leaves contain less than min_samples_split samples.\n",
    "# min_samples_split: The minimum number of samples required to split an internal node.\n",
    "# min_samples_leaf:  The minimum number of samples required to to be at a leaf node.\n",
    "forest = RandomForestClassifier(criterion='gini', n_estimators=25, random_state=1, n_jobs=-1)\n",
    "forest.fit(train_set, train_labels)"
   ]
  },
  {
   "cell_type": "markdown",
   "metadata": {},
   "source": [
    "### Model Evaluation"
   ]
  },
  {
   "cell_type": "code",
   "execution_count": 38,
   "metadata": {},
   "outputs": [
    {
     "name": "stdout",
     "output_type": "stream",
     "text": [
      "Misclassified examples (All Features): 143\n"
     ]
    }
   ],
   "source": [
    "y_pred = forest.predict(test_set)\n",
    "print('Misclassified examples (All Features): %d' % (test_labels != y_pred).sum())"
   ]
  },
  {
   "cell_type": "markdown",
   "metadata": {},
   "source": [
    "### Metrics"
   ]
  },
  {
   "cell_type": "code",
   "execution_count": 39,
   "metadata": {},
   "outputs": [
    {
     "name": "stdout",
     "output_type": "stream",
     "text": [
      "Accuracy :  0.6304909560723514\n"
     ]
    }
   ],
   "source": [
    "#𝑀1 : Classification accuracy\n",
    "from sklearn.metrics import accuracy_score\n",
    "acc_rforest_nonorm = accuracy_score(test_labels, y_pred)\n",
    "print('Accuracy : ', acc_rforest_nonorm)"
   ]
  },
  {
   "cell_type": "code",
   "execution_count": 40,
   "metadata": {},
   "outputs": [
    {
     "name": "stdout",
     "output_type": "stream",
     "text": [
      "F1-score : 0.5931310120480279\n"
     ]
    }
   ],
   "source": [
    "#𝑀2 : F1-score\n",
    "from sklearn.metrics import f1_score\n",
    "f1_rforest_nonorm = f1_score(test_labels, y_pred, average='weighted')\n",
    "print('F1-score :',f1_rforest_nonorm)"
   ]
  },
  {
   "cell_type": "code",
   "execution_count": 41,
   "metadata": {},
   "outputs": [
    {
     "name": "stdout",
     "output_type": "stream",
     "text": [
      "Mean Squared Error :  1.702842377260982\n"
     ]
    }
   ],
   "source": [
    "#𝑀3 : Mean squared error\n",
    "from sklearn.metrics import mean_squared_error\n",
    "mse_rforest_nonorm = mean_squared_error(test_labels, y_pred)\n",
    "print('Mean Squared Error : ',mse_rforest_nonorm)"
   ]
  },
  {
   "cell_type": "code",
   "execution_count": 42,
   "metadata": {},
   "outputs": [
    {
     "name": "stdout",
     "output_type": "stream",
     "text": [
      "Hamming Loss :  0.3695090439276486\n"
     ]
    }
   ],
   "source": [
    "#𝑀4 : Hamming loss\n",
    "from sklearn.metrics import hamming_loss\n",
    "hamloss_rforest_nonorm = hamming_loss(test_labels, y_pred)\n",
    "print('Hamming Loss : ',hamloss_rforest_nonorm)"
   ]
  },
  {
   "cell_type": "markdown",
   "metadata": {},
   "source": [
    "# Feed-forward Neural Network with two hidden layers"
   ]
  },
  {
   "cell_type": "code",
   "execution_count": 43,
   "metadata": {},
   "outputs": [
    {
     "data": {
      "text/plain": [
       "MLPClassifier(alpha=0.3, hidden_layer_sizes=(10, 11), max_iter=1000)"
      ]
     },
     "execution_count": 43,
     "metadata": {},
     "output_type": "execute_result"
    }
   ],
   "source": [
    "from sklearn.neural_network import MLPClassifier\n",
    "mlp = MLPClassifier(activation='relu', hidden_layer_sizes=(10,11), alpha = 0.3, max_iter = 1000)\n",
    "\n",
    "mlp.fit(train_set, train_labels)"
   ]
  },
  {
   "cell_type": "markdown",
   "metadata": {},
   "source": [
    "### Model Evaluation"
   ]
  },
  {
   "cell_type": "code",
   "execution_count": 44,
   "metadata": {},
   "outputs": [
    {
     "name": "stdout",
     "output_type": "stream",
     "text": [
      "Misclassified examples (All Features): 228\n"
     ]
    }
   ],
   "source": [
    "y_pred = mlp.predict(test_set)\n",
    "print('Misclassified examples (All Features): %d' % (test_labels != y_pred).sum())"
   ]
  },
  {
   "cell_type": "markdown",
   "metadata": {},
   "source": [
    "### Metrics"
   ]
  },
  {
   "cell_type": "code",
   "execution_count": 45,
   "metadata": {},
   "outputs": [
    {
     "name": "stdout",
     "output_type": "stream",
     "text": [
      "Accuracy :  0.4108527131782946\n"
     ]
    }
   ],
   "source": [
    "#𝑀1 : Classification accuracy\n",
    "from sklearn.metrics import accuracy_score\n",
    "acc_nnet_nonorm = accuracy_score(test_labels, y_pred)\n",
    "print('Accuracy : ', acc_nnet_nonorm)"
   ]
  },
  {
   "cell_type": "code",
   "execution_count": 46,
   "metadata": {},
   "outputs": [
    {
     "name": "stdout",
     "output_type": "stream",
     "text": [
      "F1-score : 0.23928784393900673\n"
     ]
    }
   ],
   "source": [
    "#𝑀2 : F1-score\n",
    "from sklearn.metrics import f1_score\n",
    "f1_nnet_nonorm = f1_score(test_labels, y_pred, average='weighted')\n",
    "print('F1-score :',f1_nnet_nonorm)"
   ]
  },
  {
   "cell_type": "code",
   "execution_count": 47,
   "metadata": {},
   "outputs": [
    {
     "name": "stdout",
     "output_type": "stream",
     "text": [
      "Mean Squared Error :  2.6666666666666665\n"
     ]
    }
   ],
   "source": [
    "#𝑀3 : Mean squared error\n",
    "from sklearn.metrics import mean_squared_error\n",
    "mse_nnet_nonorm = mean_squared_error(test_labels, y_pred)\n",
    "print('Mean Squared Error : ',mse_nnet_nonorm)"
   ]
  },
  {
   "cell_type": "code",
   "execution_count": 48,
   "metadata": {},
   "outputs": [
    {
     "name": "stdout",
     "output_type": "stream",
     "text": [
      "Hamming Loss :  0.5891472868217055\n"
     ]
    }
   ],
   "source": [
    "#𝑀4 : Hamming loss\n",
    "from sklearn.metrics import hamming_loss\n",
    "hamloss_nnet_nonorm = hamming_loss(test_labels, y_pred)\n",
    "print('Hamming Loss : ',hamloss_nnet_nonorm)"
   ]
  },
  {
   "cell_type": "markdown",
   "metadata": {},
   "source": [
    "# Feature Standardization"
   ]
  },
  {
   "cell_type": "code",
   "execution_count": 49,
   "metadata": {},
   "outputs": [],
   "source": [
    "from sklearn.preprocessing import StandardScaler\n",
    "\n",
    "stdsc = StandardScaler()\n",
    "train_set_std = stdsc.fit_transform(train_set)\n",
    "test_set_std = stdsc.transform(test_set)"
   ]
  },
  {
   "cell_type": "markdown",
   "metadata": {},
   "source": [
    "## Logistic Regression"
   ]
  },
  {
   "cell_type": "code",
   "execution_count": 50,
   "metadata": {},
   "outputs": [],
   "source": [
    "from sklearn.linear_model import LogisticRegression\n",
    "x = train_set_std[:,0:2914]      \n",
    "y = train_labels             \n",
    "lr = LogisticRegression(max_iter = 3000)\n",
    "lr.fit(x,y)\n",
    "y_pred = lr.predict(test_set_std)\n",
    "preds = y_pred"
   ]
  },
  {
   "cell_type": "markdown",
   "metadata": {},
   "source": [
    "### Metrics"
   ]
  },
  {
   "cell_type": "code",
   "execution_count": 51,
   "metadata": {},
   "outputs": [
    {
     "name": "stdout",
     "output_type": "stream",
     "text": [
      "---Confusion Matrix---\n",
      "col_0   0   1   2    3   4   5   6\n",
      "row_0                             \n",
      "0      18   2   3    2   0   0   0\n",
      "1       3  62   0    6   0   3   1\n",
      "2       1   2  28    5   0   0   0\n",
      "3       0   3   5  142   1   4   5\n",
      "4       0   0   1    1  28   2   2\n",
      "5       1   0   0    0   0  11   0\n",
      "6       0   2   0    3   4   1  35\n"
     ]
    }
   ],
   "source": [
    "import pandas as pd\n",
    "#---generate table of predictions vs actual---\n",
    "print(\"---Confusion Matrix---\")\n",
    "print(pd.crosstab(y_pred, test_labels))"
   ]
  },
  {
   "cell_type": "code",
   "execution_count": 52,
   "metadata": {},
   "outputs": [
    {
     "name": "stdout",
     "output_type": "stream",
     "text": [
      "Accuracy :  0.8372093023255814\n"
     ]
    }
   ],
   "source": [
    "#𝑀1 : Classification accuracy\n",
    "from sklearn.metrics import accuracy_score\n",
    "acc_logre_norm = accuracy_score(test_labels, preds)\n",
    "print('Accuracy : ', acc_logre_norm)"
   ]
  },
  {
   "cell_type": "code",
   "execution_count": 53,
   "metadata": {},
   "outputs": [
    {
     "name": "stdout",
     "output_type": "stream",
     "text": [
      "F1-Score :  0.8353396006403174\n"
     ]
    }
   ],
   "source": [
    "#𝑀2 : F1-score\n",
    "from sklearn.metrics import f1_score\n",
    "f1_logre_norm = f1_score(test_labels, preds, average='weighted')\n",
    "print('F1-Score : ',f1_logre_norm)"
   ]
  },
  {
   "cell_type": "code",
   "execution_count": 54,
   "metadata": {},
   "outputs": [
    {
     "name": "stdout",
     "output_type": "stream",
     "text": [
      "Mean Squared Error :  0.9198966408268734\n"
     ]
    }
   ],
   "source": [
    "#𝑀3 : Mean squared error\n",
    "from sklearn.metrics import mean_squared_error\n",
    "mse_logre_norm = mean_squared_error(test_labels, preds)\n",
    "print('Mean Squared Error : ', mse_logre_norm)"
   ]
  },
  {
   "cell_type": "code",
   "execution_count": 55,
   "metadata": {},
   "outputs": [
    {
     "name": "stdout",
     "output_type": "stream",
     "text": [
      "Hamming Loss :  0.16279069767441862\n"
     ]
    }
   ],
   "source": [
    "#𝑀4 : Hamming loss\n",
    "from sklearn.metrics import hamming_loss\n",
    "hamloss_logre_norm = hamming_loss(test_labels, preds)\n",
    "print(\"Hamming Loss : \", hamloss_logre_norm)"
   ]
  },
  {
   "cell_type": "markdown",
   "metadata": {},
   "source": [
    "## Perceptron"
   ]
  },
  {
   "cell_type": "code",
   "execution_count": 56,
   "metadata": {},
   "outputs": [
    {
     "name": "stdout",
     "output_type": "stream",
     "text": [
      "Class labels: [0 1 2 3 4 5 6]\n"
     ]
    }
   ],
   "source": [
    "import numpy as np\n",
    "\n",
    "\n",
    "print('Class labels:', np.unique(lfw_people.target))"
   ]
  },
  {
   "cell_type": "code",
   "execution_count": 57,
   "metadata": {},
   "outputs": [
    {
     "data": {
      "text/plain": [
       "Perceptron(eta0=0.1, random_state=1)"
      ]
     },
     "execution_count": 57,
     "metadata": {},
     "output_type": "execute_result"
    }
   ],
   "source": [
    "from sklearn.linear_model import Perceptron\n",
    "ppn = Perceptron(eta0=0.1, random_state=1)\n",
    "ppn.fit(train_set_std, train_labels)"
   ]
  },
  {
   "cell_type": "markdown",
   "metadata": {},
   "source": [
    "### Model Evaluation"
   ]
  },
  {
   "cell_type": "code",
   "execution_count": 58,
   "metadata": {},
   "outputs": [
    {
     "name": "stdout",
     "output_type": "stream",
     "text": [
      "Misclassified examples (All Features): 79\n"
     ]
    }
   ],
   "source": [
    "y_pred = ppn.predict(test_set_std)\n",
    "print('Misclassified examples (All Features): %d' % (test_labels != y_pred).sum())"
   ]
  },
  {
   "cell_type": "markdown",
   "metadata": {},
   "source": [
    "### Metrics"
   ]
  },
  {
   "cell_type": "code",
   "execution_count": 59,
   "metadata": {},
   "outputs": [
    {
     "name": "stdout",
     "output_type": "stream",
     "text": [
      "Accuracy :  0.7958656330749354\n"
     ]
    }
   ],
   "source": [
    "#𝑀1 : Classification accuracy\n",
    "from sklearn.metrics import accuracy_score\n",
    "acc_perc_norm = accuracy_score(test_labels, y_pred)\n",
    "print('Accuracy : ' ,acc_perc_norm)"
   ]
  },
  {
   "cell_type": "code",
   "execution_count": 60,
   "metadata": {},
   "outputs": [
    {
     "name": "stdout",
     "output_type": "stream",
     "text": [
      "F1-Score :  0.79497262699623\n"
     ]
    }
   ],
   "source": [
    "##𝑀2 : F1-score\n",
    "from sklearn.metrics import f1_score\n",
    "f1_perc_norm = f1_score(test_labels, y_pred, average='weighted')\n",
    "print('F1-Score : ' , f1_perc_norm)"
   ]
  },
  {
   "cell_type": "code",
   "execution_count": 61,
   "metadata": {},
   "outputs": [
    {
     "name": "stdout",
     "output_type": "stream",
     "text": [
      "Mean Squared Error :  1.2196382428940569\n"
     ]
    }
   ],
   "source": [
    "#𝑀3 : Mean squared error\n",
    "from sklearn.metrics import mean_squared_error\n",
    "mse_perc_norm = mean_squared_error(test_labels, y_pred)\n",
    "print('Mean Squared Error : ',mse_perc_norm)"
   ]
  },
  {
   "cell_type": "code",
   "execution_count": 62,
   "metadata": {},
   "outputs": [
    {
     "name": "stdout",
     "output_type": "stream",
     "text": [
      "Hamming Loss :  0.2041343669250646\n"
     ]
    }
   ],
   "source": [
    "#𝑀4 : Hamming loss\n",
    "from sklearn.metrics import hamming_loss\n",
    "hamloss_perc_norm = hamming_loss(test_labels, y_pred)\n",
    "print('Hamming Loss : ', hamloss_perc_norm)"
   ]
  },
  {
   "cell_type": "markdown",
   "metadata": {},
   "source": [
    "##  Support Vector Machines"
   ]
  },
  {
   "cell_type": "markdown",
   "metadata": {},
   "source": [
    "### With Linear Kernel"
   ]
  },
  {
   "cell_type": "code",
   "execution_count": 63,
   "metadata": {},
   "outputs": [
    {
     "data": {
      "text/plain": [
       "SVC(kernel='linear', random_state=1)"
      ]
     },
     "execution_count": 63,
     "metadata": {},
     "output_type": "execute_result"
    }
   ],
   "source": [
    "from sklearn.svm import SVC\n",
    "svm = SVC(kernel='linear', C=1.0, random_state=1)\n",
    "svm.fit(train_set_std, train_labels)"
   ]
  },
  {
   "cell_type": "markdown",
   "metadata": {},
   "source": [
    "### Model Evaluation"
   ]
  },
  {
   "cell_type": "code",
   "execution_count": 64,
   "metadata": {},
   "outputs": [
    {
     "name": "stdout",
     "output_type": "stream",
     "text": [
      "Misclassified examples (All Features): 69\n"
     ]
    }
   ],
   "source": [
    "y_pred = svm.predict(test_set_std)\n",
    "print('Misclassified examples (All Features): %d' % (test_labels != y_pred).sum())"
   ]
  },
  {
   "cell_type": "markdown",
   "metadata": {},
   "source": [
    "### Metrics"
   ]
  },
  {
   "cell_type": "code",
   "execution_count": 65,
   "metadata": {},
   "outputs": [
    {
     "name": "stdout",
     "output_type": "stream",
     "text": [
      "Accuracy :  0.8217054263565892\n"
     ]
    }
   ],
   "source": [
    "#𝑀1 : Classification accuracy\n",
    "from sklearn.metrics import accuracy_score\n",
    "acc_svm_lk_norm = accuracy_score(test_labels, y_pred)\n",
    "print('Accuracy : ' ,acc_svm_lk_norm)"
   ]
  },
  {
   "cell_type": "code",
   "execution_count": 66,
   "metadata": {},
   "outputs": [
    {
     "name": "stdout",
     "output_type": "stream",
     "text": [
      "F1-Score :  0.8225132050765303\n"
     ]
    }
   ],
   "source": [
    "#𝑀2 : F1-score\n",
    "from sklearn.metrics import f1_score\n",
    "f1_svm_lk_norm = f1_score(test_labels, y_pred, average='weighted')\n",
    "print('F1-Score : ', f1_svm_lk_norm)"
   ]
  },
  {
   "cell_type": "code",
   "execution_count": 67,
   "metadata": {},
   "outputs": [
    {
     "name": "stdout",
     "output_type": "stream",
     "text": [
      "Mean Squared Error :  1.0594315245478036\n"
     ]
    }
   ],
   "source": [
    "#𝑀3 : Mean squared error\n",
    "from sklearn.metrics import mean_squared_error\n",
    "mse_svm_lk_norm = mean_squared_error(test_labels, y_pred)\n",
    "print('Mean Squared Error : ',mse_svm_lk_norm)"
   ]
  },
  {
   "cell_type": "code",
   "execution_count": 68,
   "metadata": {},
   "outputs": [
    {
     "name": "stdout",
     "output_type": "stream",
     "text": [
      "Hamming Loss :  0.17829457364341086\n"
     ]
    }
   ],
   "source": [
    "#𝑀4 : Hamming loss\n",
    "from sklearn.metrics import hamming_loss\n",
    "hamloss_svm_lk_norm = hamming_loss(test_labels, y_pred)\n",
    "print('Hamming Loss : ',hamloss_svm_lk_norm)"
   ]
  },
  {
   "cell_type": "markdown",
   "metadata": {},
   "source": [
    "### With RBF Kernel"
   ]
  },
  {
   "cell_type": "code",
   "execution_count": 69,
   "metadata": {
    "scrolled": true
   },
   "outputs": [
    {
     "data": {
      "text/plain": [
       "SVC(random_state=1)"
      ]
     },
     "execution_count": 69,
     "metadata": {},
     "output_type": "execute_result"
    }
   ],
   "source": [
    "from sklearn.svm import SVC\n",
    "svm = SVC(kernel='rbf', C=1.0, random_state=1)\n",
    "svm.fit(train_set_std, train_labels)"
   ]
  },
  {
   "cell_type": "markdown",
   "metadata": {},
   "source": [
    "### Model Evaluation"
   ]
  },
  {
   "cell_type": "code",
   "execution_count": 70,
   "metadata": {},
   "outputs": [
    {
     "name": "stdout",
     "output_type": "stream",
     "text": [
      "Misclassified examples (All Features): 98\n"
     ]
    }
   ],
   "source": [
    "y_pred = svm.predict(test_set_std)\n",
    "print('Misclassified examples (All Features): %d' % (test_labels != y_pred).sum())"
   ]
  },
  {
   "cell_type": "markdown",
   "metadata": {},
   "source": [
    "### Metrics"
   ]
  },
  {
   "cell_type": "code",
   "execution_count": 71,
   "metadata": {},
   "outputs": [
    {
     "name": "stdout",
     "output_type": "stream",
     "text": [
      "Accuracy :  0.7467700258397932\n"
     ]
    }
   ],
   "source": [
    "### Metrics#𝑀1 : Classification accuracy\n",
    "from sklearn.metrics import accuracy_score\n",
    "acc_svm_rbf_norm = accuracy_score(test_labels, y_pred)\n",
    "print('Accuracy : ' ,acc_svm_rbf_norm)"
   ]
  },
  {
   "cell_type": "code",
   "execution_count": 72,
   "metadata": {},
   "outputs": [
    {
     "name": "stdout",
     "output_type": "stream",
     "text": [
      "F1-Score :  0.7251566135303762\n"
     ]
    }
   ],
   "source": [
    "#𝑀2 : F1-score\n",
    "from sklearn.metrics import f1_score\n",
    "f1_svm_rbf_norm = f1_score(test_labels, y_pred, average='weighted')\n",
    "print('F1-Score : ',f1_svm_rbf_norm)"
   ]
  },
  {
   "cell_type": "code",
   "execution_count": 73,
   "metadata": {},
   "outputs": [
    {
     "name": "stdout",
     "output_type": "stream",
     "text": [
      "Mean Squared Error :  1.0645994832041343\n"
     ]
    }
   ],
   "source": [
    "#𝑀3 : Mean squared error\n",
    "from sklearn.metrics import mean_squared_error\n",
    "mse_svm_rbf_norm = mean_squared_error(test_labels, y_pred)\n",
    "print('Mean Squared Error : ',mse_svm_rbf_norm)"
   ]
  },
  {
   "cell_type": "code",
   "execution_count": 74,
   "metadata": {},
   "outputs": [
    {
     "name": "stdout",
     "output_type": "stream",
     "text": [
      "Hamming loss :  0.2532299741602067\n"
     ]
    }
   ],
   "source": [
    "#𝑀4 : Hamming loss\n",
    "from sklearn.metrics import hamming_loss\n",
    "hamloss_svm_rbf_norm = hamming_loss(test_labels, y_pred)\n",
    "print('Hamming loss : ',hamloss_svm_rbf_norm)"
   ]
  },
  {
   "cell_type": "markdown",
   "metadata": {},
   "source": [
    "# Decision Tree"
   ]
  },
  {
   "cell_type": "code",
   "execution_count": 75,
   "metadata": {},
   "outputs": [
    {
     "data": {
      "text/plain": [
       "DecisionTreeClassifier(max_depth=4, random_state=1)"
      ]
     },
     "execution_count": 75,
     "metadata": {},
     "output_type": "execute_result"
    }
   ],
   "source": [
    "# Decision Treefrom sklearn.tree import DecisionTreeClassifier\n",
    "\n",
    "# Build a decision tree for classification tasks\n",
    "# citerion:  The function to measure the quality of a split. \n",
    "# max_depth: The maximum depth of the tree. If None, then nodes are expanded until all leaves are pure or\n",
    "#            until all leaves contain less than min_samples_split samples.\n",
    "# min_samples_split: The minimum number of samples required to split an internal node.\n",
    "# min_samples_leaf:  The minimum number of samples required to to be at a leaf node.\n",
    "tree_model = DecisionTreeClassifier(criterion = 'gini', max_depth = 4, random_state = 1)\n",
    "tree_model.fit(train_set_std, train_labels)"
   ]
  },
  {
   "cell_type": "markdown",
   "metadata": {},
   "source": [
    "### Model Evaluation"
   ]
  },
  {
   "cell_type": "code",
   "execution_count": 76,
   "metadata": {},
   "outputs": [
    {
     "name": "stdout",
     "output_type": "stream",
     "text": [
      "Misclassified examples (All Features): 201\n"
     ]
    }
   ],
   "source": [
    "y_pred = tree_model.predict(test_set_std)\n",
    "print('Misclassified examples (All Features): %d' % (test_labels != y_pred).sum())"
   ]
  },
  {
   "cell_type": "markdown",
   "metadata": {},
   "source": [
    "### Metrics"
   ]
  },
  {
   "cell_type": "code",
   "execution_count": 77,
   "metadata": {},
   "outputs": [
    {
     "name": "stdout",
     "output_type": "stream",
     "text": [
      "Accuracy :  0.4806201550387597\n"
     ]
    }
   ],
   "source": [
    "#𝑀1 : Classification accuracy\n",
    "from sklearn.metrics import accuracy_score\n",
    "acc_dtree_norm = accuracy_score(test_labels, y_pred)\n",
    "print('Accuracy : ', acc_dtree_norm)"
   ]
  },
  {
   "cell_type": "code",
   "execution_count": 78,
   "metadata": {},
   "outputs": [
    {
     "name": "stdout",
     "output_type": "stream",
     "text": [
      "F1-score : 0.38868303244948704\n"
     ]
    }
   ],
   "source": [
    "#𝑀2 : F1-score\n",
    "from sklearn.metrics import f1_score\n",
    "f1_dtree_norm = f1_score(test_labels, y_pred, average='weighted')\n",
    "print('F1-score :',f1_dtree_norm)"
   ]
  },
  {
   "cell_type": "code",
   "execution_count": 79,
   "metadata": {},
   "outputs": [
    {
     "name": "stdout",
     "output_type": "stream",
     "text": [
      "Mean Squared Error :  2.310077519379845\n"
     ]
    }
   ],
   "source": [
    "#𝑀3 : Mean squared error\n",
    "from sklearn.metrics import mean_squared_error\n",
    "mse_dtree_norm = mean_squared_error(test_labels, y_pred)\n",
    "print('Mean Squared Error : ',mse_dtree_norm)"
   ]
  },
  {
   "cell_type": "code",
   "execution_count": 80,
   "metadata": {},
   "outputs": [
    {
     "name": "stdout",
     "output_type": "stream",
     "text": [
      "Hamming Loss :  0.5193798449612403\n"
     ]
    }
   ],
   "source": [
    "#𝑀4 : Hamming loss\n",
    "from sklearn.metrics import hamming_loss\n",
    "hamloss_dtree_norm = hamming_loss(test_labels, y_pred)\n",
    "print('Hamming Loss : ',hamloss_dtree_norm)"
   ]
  },
  {
   "cell_type": "markdown",
   "metadata": {},
   "source": [
    "# Random Forests"
   ]
  },
  {
   "cell_type": "code",
   "execution_count": 81,
   "metadata": {},
   "outputs": [
    {
     "data": {
      "text/plain": [
       "RandomForestClassifier(n_estimators=25, n_jobs=-1, random_state=1)"
      ]
     },
     "execution_count": 81,
     "metadata": {},
     "output_type": "execute_result"
    }
   ],
   "source": [
    "from sklearn.ensemble import RandomForestClassifier\n",
    "\n",
    "# Create a Random Forest comprised of 25 decision trees\n",
    "# citerion:  The function to measure the quality of a split. \n",
    "# max_depth: The maximum depth of the tree. If None, then nodes are expanded until all leaves are pure or\n",
    "#            until all leaves contain less than min_samples_split samples.\n",
    "# min_samples_split: The minimum number of samples required to split an internal node.\n",
    "# min_samples_leaf:  The minimum number of samples required to to be at a leaf node.\n",
    "forest = RandomForestClassifier(criterion='gini', n_estimators=25, random_state=1, n_jobs=-1)\n",
    "forest.fit(train_set_std, train_labels)"
   ]
  },
  {
   "cell_type": "markdown",
   "metadata": {},
   "source": [
    "### Model Evaluation"
   ]
  },
  {
   "cell_type": "code",
   "execution_count": 82,
   "metadata": {},
   "outputs": [
    {
     "name": "stdout",
     "output_type": "stream",
     "text": [
      "Misclassified examples (All Features): 143\n"
     ]
    }
   ],
   "source": [
    "y_pred = y_pred = forest.predict(test_set_std)\n",
    "print('Misclassified examples (All Features): %d' % (test_labels != y_pred).sum())"
   ]
  },
  {
   "cell_type": "markdown",
   "metadata": {},
   "source": [
    "### Metrics"
   ]
  },
  {
   "cell_type": "code",
   "execution_count": 83,
   "metadata": {},
   "outputs": [
    {
     "name": "stdout",
     "output_type": "stream",
     "text": [
      "Accuracy :  0.6304909560723514\n"
     ]
    }
   ],
   "source": [
    "#𝑀1 : Classification accuracy\n",
    "from sklearn.metrics import accuracy_score\n",
    "acc_rforest_norm = accuracy_score(test_labels, y_pred)\n",
    "print('Accuracy : ', acc_rforest_norm)"
   ]
  },
  {
   "cell_type": "code",
   "execution_count": 84,
   "metadata": {},
   "outputs": [
    {
     "name": "stdout",
     "output_type": "stream",
     "text": [
      "F1-score : 0.5931310120480279\n"
     ]
    }
   ],
   "source": [
    "#𝑀2 : F1-score\n",
    "from sklearn.metrics import f1_score\n",
    "f1_rforest_norm = f1_score(test_labels, y_pred, average='weighted')\n",
    "print('F1-score :',f1_rforest_norm)"
   ]
  },
  {
   "cell_type": "code",
   "execution_count": 85,
   "metadata": {},
   "outputs": [
    {
     "name": "stdout",
     "output_type": "stream",
     "text": [
      "Mean Squared Error :  1.702842377260982\n"
     ]
    }
   ],
   "source": [
    "#𝑀3 : Mean squared error\n",
    "from sklearn.metrics import mean_squared_error\n",
    "mse_rforest_norm = mean_squared_error(test_labels, y_pred)\n",
    "print('Mean Squared Error : ',mse_rforest_norm)"
   ]
  },
  {
   "cell_type": "code",
   "execution_count": 86,
   "metadata": {},
   "outputs": [
    {
     "name": "stdout",
     "output_type": "stream",
     "text": [
      "Hamming Loss :  0.3695090439276486\n"
     ]
    }
   ],
   "source": [
    "#𝑀4 : Hamming loss\n",
    "from sklearn.metrics import hamming_loss\n",
    "hamloss_rforest_norm = hamming_loss(test_labels, y_pred)\n",
    "print('Hamming Loss : ',hamloss_rforest_norm)"
   ]
  },
  {
   "cell_type": "markdown",
   "metadata": {},
   "source": [
    "# Feed-forward Neural Network with two hidden layers"
   ]
  },
  {
   "cell_type": "code",
   "execution_count": 87,
   "metadata": {},
   "outputs": [
    {
     "data": {
      "text/plain": [
       "MLPClassifier(alpha=0.3, hidden_layer_sizes=(10, 11), max_iter=1000)"
      ]
     },
     "execution_count": 87,
     "metadata": {},
     "output_type": "execute_result"
    }
   ],
   "source": [
    "from sklearn.neural_network import MLPClassifier\n",
    "mlp = MLPClassifier(activation='relu', hidden_layer_sizes=(10,11), alpha = 0.3, max_iter = 1000)\n",
    "\n",
    "mlp.fit(train_set_std, train_labels)"
   ]
  },
  {
   "cell_type": "markdown",
   "metadata": {},
   "source": [
    "### Model Evaluation"
   ]
  },
  {
   "cell_type": "code",
   "execution_count": 88,
   "metadata": {},
   "outputs": [
    {
     "name": "stdout",
     "output_type": "stream",
     "text": [
      "Misclassified examples (All Features): 97\n"
     ]
    }
   ],
   "source": [
    "y_pred = mlp.predict(test_set_std)\n",
    "print('Misclassified examples (All Features): %d' % (test_labels != y_pred).sum())"
   ]
  },
  {
   "cell_type": "markdown",
   "metadata": {},
   "source": [
    "### Metrics"
   ]
  },
  {
   "cell_type": "code",
   "execution_count": 89,
   "metadata": {},
   "outputs": [
    {
     "name": "stdout",
     "output_type": "stream",
     "text": [
      "Accuracy :  0.7493540051679587\n"
     ]
    }
   ],
   "source": [
    "#𝑀1 : Classification accuracy\n",
    "from sklearn.metrics import accuracy_score\n",
    "acc_nnet_norm = accuracy_score(test_labels, y_pred)\n",
    "print('Accuracy : ', acc_nnet_norm)"
   ]
  },
  {
   "cell_type": "code",
   "execution_count": 90,
   "metadata": {},
   "outputs": [
    {
     "name": "stdout",
     "output_type": "stream",
     "text": [
      "F1-score : 0.7522841182215406\n"
     ]
    }
   ],
   "source": [
    "#𝑀2 : F1-score\n",
    "from sklearn.metrics import f1_score\n",
    "f1_nnet_norm = f1_score(test_labels, y_pred, average='weighted')\n",
    "print('F1-score :',f1_nnet_norm)"
   ]
  },
  {
   "cell_type": "code",
   "execution_count": 91,
   "metadata": {},
   "outputs": [
    {
     "name": "stdout",
     "output_type": "stream",
     "text": [
      "Mean Squared Error :  1.7674418604651163\n"
     ]
    }
   ],
   "source": [
    "#𝑀3 : Mean squared error\n",
    "from sklearn.metrics import mean_squared_error\n",
    "mse_nnet_norm = mean_squared_error(test_labels, y_pred)\n",
    "print('Mean Squared Error : ',mse_nnet_norm)"
   ]
  },
  {
   "cell_type": "code",
   "execution_count": 92,
   "metadata": {
    "scrolled": true
   },
   "outputs": [
    {
     "name": "stdout",
     "output_type": "stream",
     "text": [
      "Hamming Loss :  0.25064599483204136\n"
     ]
    }
   ],
   "source": [
    "#𝑀4 : Hamming loss\n",
    "from sklearn.metrics import hamming_loss\n",
    "hamloss_nnet_norm = hamming_loss(test_labels, y_pred)\n",
    "print('Hamming Loss : ',hamloss_nnet_norm)"
   ]
  },
  {
   "cell_type": "markdown",
   "metadata": {},
   "source": [
    "# Plots"
   ]
  },
  {
   "cell_type": "markdown",
   "metadata": {},
   "source": [
    "## No Normalazation"
   ]
  },
  {
   "cell_type": "markdown",
   "metadata": {},
   "source": [
    "### IRIS Classification Accuracy Metrics"
   ]
  },
  {
   "cell_type": "code",
   "execution_count": 93,
   "metadata": {},
   "outputs": [
    {
     "data": {
      "image/png": "[encoded data removed]",
      "text/plain": [
       "<Figure size 432x288 with 1 Axes>"
      ]
     },
     "metadata": {
      "needs_background": "light"
     },
     "output_type": "display_data"
    }
   ],
   "source": [
    "import numpy as np\n",
    "import matplotlib.pyplot as plt\n",
    "classifications = [acc_logre_nonorm, acc_perc_nonorm, acc_svm_lk_nonorm, acc_svm_rbf_nonorm, acc_dtree_nonorm, acc_rforest_nonorm, acc_nnet_nonorm]\n",
    "scores = ('Logistic Regression', 'Perceptron', 'SVM Linear', 'SVM RBF', 'Decision Tree', 'Random Forests', 'Neural Network')\n",
    "y_pos = np.arange(len(scores))\n",
    "plt.barh(y_pos, classifications)\n",
    "plt.yticks(y_pos, scores)\n",
    "plt.xlabel('Scores')\n",
    "plt.ylabel('Classifiers')\n",
    "plt.title('Wild (LFW) people Classification Accuracy Metrics')\n",
    "plt.show()\n"
   ]
  },
  {
   "cell_type": "code",
   "execution_count": 94,
   "metadata": {},
   "outputs": [
    {
     "data": {
      "image/png": "[encoded data removed]",
      "text/plain": [
       "<Figure size 432x288 with 1 Axes>"
      ]
     },
     "metadata": {
      "needs_background": "light"
     },
     "output_type": "display_data"
    }
   ],
   "source": [
    "import numpy as np\n",
    "import matplotlib.pyplot as plt\n",
    "classifications = [f1_logre_nonorm, f1_perc_nonorm, f1_svm_lk_nonorm, f1_svm_rbf_nonorm, f1_dtree_nonorm, f1_rforest_nonorm, f1_nnet_nonorm]\n",
    "scores = ('Logistic Regression', 'Perceptron', 'SVM Linear', 'SVM RBF', 'Decision Tree', 'Random Forests', 'Neural Network')\n",
    "y_pos = np.arange(len(scores))\n",
    "plt.barh(y_pos, classifications)\n",
    "plt.yticks(y_pos, scores)\n",
    "plt.xlabel('Scores')\n",
    "plt.ylabel('Classifiers')\n",
    "plt.title('Wild (LFW) people F1-Score Metrics')\n",
    "plt.show()\n"
   ]
  },
  {
   "cell_type": "code",
   "execution_count": 95,
   "metadata": {},
   "outputs": [
    {
     "data": {
      "image/png": "[encoded data removed]",
      "text/plain": [
       "<Figure size 432x288 with 1 Axes>"
      ]
     },
     "metadata": {
      "needs_background": "light"
     },
     "output_type": "display_data"
    }
   ],
   "source": [
    "import numpy as np\n",
    "import matplotlib.pyplot as plt\n",
    "classifications = [mse_logre_nonorm, mse_perc_nonorm, mse_svm_lk_nonorm, mse_svm_rbf_nonorm, mse_dtree_nonorm, mse_rforest_nonorm, mse_nnet_nonorm]\n",
    "scores = ('Logistic Regression', 'Perceptron', 'SVM Linear', 'SVM RBF', 'Decision Tree', 'Random Forests', 'Neural Network')\n",
    "y_pos = np.arange(len(scores))\n",
    "plt.barh(y_pos, classifications)\n",
    "plt.yticks(y_pos, scores)\n",
    "plt.xlabel('Scores')\n",
    "plt.ylabel('Classifiers')\n",
    "plt.title('Wild (LFW) people Mean Squared Error Metrics')\n",
    "plt.show()"
   ]
  },
  {
   "cell_type": "code",
   "execution_count": 96,
   "metadata": {},
   "outputs": [
    {
     "data": {
      "image/png": "[encoded data removed]",
      "text/plain": [
       "<Figure size 432x288 with 1 Axes>"
      ]
     },
     "metadata": {
      "needs_background": "light"
     },
     "output_type": "display_data"
    }
   ],
   "source": [
    "import numpy as np\n",
    "import matplotlib.pyplot as plt\n",
    "classifications = [hamloss_logre_nonorm, hamloss_perc_nonorm, hamloss_svm_lk_nonorm, hamloss_svm_rbf_nonorm, hamloss_dtree_nonorm, hamloss_rforest_nonorm, hamloss_nnet_nonorm]\n",
    "scores = ('Logistic Regression', 'Perceptron', 'SVM Linear', 'SVM RBF', 'Decision Tree', 'Random Forests', 'Neural Network')\n",
    "y_pos = np.arange(len(scores))\n",
    "plt.barh(y_pos, classifications)\n",
    "plt.yticks(y_pos, scores)\n",
    "plt.xlabel('Scores')\n",
    "plt.ylabel('Classifiers')\n",
    "plt.title('Wild (LFW) people Hamming Loss Metrics')\n",
    "plt.show()"
   ]
  },
  {
   "cell_type": "markdown",
   "metadata": {},
   "source": [
    "## Feature Standardization"
   ]
  },
  {
   "cell_type": "markdown",
   "metadata": {},
   "source": [
    "### IRIS Classification Accuracy Metrics"
   ]
  },
  {
   "cell_type": "code",
   "execution_count": 97,
   "metadata": {},
   "outputs": [
    {
     "data": {
      "image/png": "[encoded data removed]",
      "text/plain": [
       "<Figure size 432x288 with 1 Axes>"
      ]
     },
     "metadata": {
      "needs_background": "light"
     },
     "output_type": "display_data"
    }
   ],
   "source": [
    "import numpy as np\n",
    "import matplotlib.pyplot as plt\n",
    "classifications = [acc_logre_norm, acc_perc_norm, acc_svm_lk_norm, acc_svm_rbf_norm, acc_dtree_norm, acc_rforest_norm, acc_nnet_norm]\n",
    "scores = ('Logistic Regression', 'Perceptron', 'SVM Linear', 'SVM RBF', 'Decision Tree', 'Random Forests', 'Neural Network')\n",
    "y_pos = np.arange(len(scores))\n",
    "plt.barh(y_pos, classifications)\n",
    "plt.yticks(y_pos, scores)\n",
    "plt.xlabel('Scores')\n",
    "plt.ylabel('Classifiers')\n",
    "plt.title('Wild (LFW) people Classification Accuracy Metrics')\n",
    "plt.show()\n"
   ]
  },
  {
   "cell_type": "code",
   "execution_count": 98,
   "metadata": {},
   "outputs": [
    {
     "data": {
      "image/png": "[encoded data removed]",
      "text/plain": [
       "<Figure size 432x288 with 1 Axes>"
      ]
     },
     "metadata": {
      "needs_background": "light"
     },
     "output_type": "display_data"
    }
   ],
   "source": [
    "import numpy as np\n",
    "import matplotlib.pyplot as plt\n",
    "classifications = [f1_logre_norm, f1_perc_norm, f1_svm_lk_norm, f1_svm_rbf_norm, f1_dtree_norm, f1_rforest_norm, f1_nnet_norm]\n",
    "scores = ('Logistic Regression', 'Perceptron', 'SVM Linear', 'SVM RBF', 'Decision Tree', 'Random Forests', 'Neural Network')\n",
    "y_pos = np.arange(len(scores))\n",
    "plt.barh(y_pos, classifications)\n",
    "plt.yticks(y_pos, scores)\n",
    "plt.xlabel('Scores')\n",
    "plt.ylabel('Classifiers')\n",
    "plt.title('Wild (LFW) people F1-Score Metrics')\n",
    "plt.show()\n"
   ]
  },
  {
   "cell_type": "code",
   "execution_count": 99,
   "metadata": {},
   "outputs": [
    {
     "data": {
      "image/png": "[encoded data removed]",
      "text/plain": [
       "<Figure size 432x288 with 1 Axes>"
      ]
     },
     "metadata": {
      "needs_background": "light"
     },
     "output_type": "display_data"
    }
   ],
   "source": [
    "import numpy as np\n",
    "import matplotlib.pyplot as plt\n",
    "classifications = [mse_logre_norm, mse_perc_norm, mse_svm_lk_norm, mse_svm_rbf_norm, mse_dtree_norm, mse_rforest_norm, mse_nnet_norm]\n",
    "scores = ('Logistic Regression', 'Perceptron', 'SVM Linear', 'SVM RBF', 'Decision Tree', 'Random Forests', 'Neural Network')\n",
    "y_pos = np.arange(len(scores))\n",
    "plt.barh(y_pos, classifications)\n",
    "plt.yticks(y_pos, scores)\n",
    "plt.xlabel('Scores')\n",
    "plt.ylabel('Classifiers')\n",
    "plt.title('Wild (LFW) people Mean Squared Error Metrics')\n",
    "plt.show()"
   ]
  },
  {
   "cell_type": "code",
   "execution_count": 100,
   "metadata": {
    "scrolled": true
   },
   "outputs": [
    {
     "data": {
      "image/png": "[encoded data removed]",
      "text/plain": [
       "<Figure size 432x288 with 1 Axes>"
      ]
     },
     "metadata": {
      "needs_background": "light"
     },
     "output_type": "display_data"
    }
   ],
   "source": [
    "import numpy as np\n",
    "import matplotlib.pyplot as plt\n",
    "classifications = [hamloss_logre_norm, hamloss_perc_norm, hamloss_svm_lk_norm, hamloss_svm_rbf_norm, hamloss_dtree_norm, hamloss_rforest_norm, hamloss_nnet_norm]\n",
    "scores = ('Logistic Regression', 'Perceptron', 'SVM Linear', 'SVM RBF', 'Decision Tree', 'Random Forests', 'Neural Network')\n",
    "y_pos = np.arange(len(scores))\n",
    "plt.barh(y_pos, classifications)\n",
    "plt.yticks(y_pos, scores)\n",
    "plt.xlabel('Scores')\n",
    "plt.ylabel('Classifiers')\n",
    "plt.title('Wild (LFW) people Hamming Loss Metrics')\n",
    "plt.show()"
   ]
  },
  {
   "cell_type": "markdown",
   "metadata": {},
   "source": [
    "# Comparison plots of the classifiers' performance"
   ]
  },
  {
   "cell_type": "markdown",
   "metadata": {},
   "source": [
    "### (Analysis in Notebook 7)"
   ]
  },
  {
   "cell_type": "code",
   "execution_count": 101,
   "metadata": {},
   "outputs": [
    {
     "data": {
      "image/png": "[encoded data removed]",
      "text/plain": [
       "<Figure size 432x288 with 1 Axes>"
      ]
     },
     "metadata": {
      "needs_background": "light"
     },
     "output_type": "display_data"
    }
   ],
   "source": [
    "import numpy as np\n",
    "import matplotlib.pyplot as plt\n",
    "\n",
    "# data to plot\n",
    "n_groups = 7\n",
    "No_Normalazation = (acc_logre_nonorm, acc_perc_nonorm, acc_svm_lk_nonorm, acc_svm_rbf_nonorm, acc_dtree_nonorm, acc_rforest_nonorm, acc_nnet_nonorm)\n",
    "Feature_Standardization = (acc_logre_norm, acc_perc_norm, acc_svm_lk_norm, acc_svm_rbf_norm, acc_dtree_norm, acc_rforest_norm, acc_nnet_norm)\n",
    "\n",
    "# create plot\n",
    "fig, ax = plt.subplots()\n",
    "index = np.arange(n_groups)\n",
    "bar_width = 0.25\n",
    "opacity = 0.8\n",
    "plt.ylim(0.00, 1.0)\n",
    "\n",
    "rects1 = plt.bar(index, No_Normalazation, bar_width,\n",
    "alpha=opacity,\n",
    "color='b',\n",
    "label='No Normalazation')\n",
    "\n",
    "rects2 = plt.bar(index + bar_width, Feature_Standardization, bar_width,\n",
    "alpha=opacity,\n",
    "color='g',\n",
    "label='Feature Standardization')\n",
    "\n",
    "plt.xlabel('Classifiers')\n",
    "plt.ylabel('Scores')\n",
    "plt.title('Wild (LFW) people Classification Accuracy Metrics')\n",
    "plt.xticks(index + bar_width, ('Logistic Regression', 'Perceptron', 'SVM Linear', 'SVM RBF', 'Decision Tree', 'Random Forests', 'Neural Network'), rotation = 45)\n",
    "plt.legend()\n",
    "\n",
    "plt.tight_layout()\n",
    "plt.show()"
   ]
  },
  {
   "cell_type": "code",
   "execution_count": 102,
   "metadata": {},
   "outputs": [
    {
     "data": {
      "image/png": "[encoded data removed]",
      "text/plain": [
       "<Figure size 432x288 with 1 Axes>"
      ]
     },
     "metadata": {
      "needs_background": "light"
     },
     "output_type": "display_data"
    }
   ],
   "source": [
    "import numpy as np\n",
    "import matplotlib.pyplot as plt\n",
    "# data to plot\n",
    "n_groups = 7\n",
    "No_Normalazation = (f1_logre_nonorm, f1_perc_nonorm, f1_svm_lk_nonorm, f1_svm_rbf_nonorm, f1_dtree_nonorm, f1_rforest_nonorm, f1_nnet_nonorm)\n",
    "Feature_Standardization = (f1_logre_norm, f1_perc_norm, f1_svm_lk_norm, f1_svm_rbf_norm, f1_dtree_norm, f1_rforest_norm, f1_nnet_norm)\n",
    "\n",
    "# create plot\n",
    "fig, ax = plt.subplots()\n",
    "index = np.arange(n_groups)\n",
    "bar_width = 0.25\n",
    "opacity = 0.8\n",
    "plt.ylim(0.00, 1.0)\n",
    "\n",
    "rects1 = plt.bar(index, No_Normalazation, bar_width,\n",
    "alpha=opacity,\n",
    "color='b',\n",
    "label='No Normalazation')\n",
    "\n",
    "rects2 = plt.bar(index + bar_width, Feature_Standardization, bar_width,\n",
    "alpha=opacity,\n",
    "color='g',\n",
    "label='Feature Standardization')\n",
    "\n",
    "plt.xlabel('Classifiers')\n",
    "plt.ylabel('Scores')\n",
    "plt.title('Wild (LFW) people F1-Score Metrics')\n",
    "plt.xticks(index + bar_width, ('Logistic Regression', 'Perceptron', 'SVM Linear', 'SVM RBF', 'Decision Tree', 'Random Forests', 'Neural Network'), rotation = 45)\n",
    "plt.legend()\n",
    "\n",
    "plt.tight_layout()\n",
    "plt.show()"
   ]
  },
  {
   "cell_type": "code",
   "execution_count": 103,
   "metadata": {},
   "outputs": [
    {
     "data": {
      "image/png": "[encoded data removed]",
      "text/plain": [
       "<Figure size 432x288 with 1 Axes>"
      ]
     },
     "metadata": {
      "needs_background": "light"
     },
     "output_type": "display_data"
    }
   ],
   "source": [
    "import numpy as np\n",
    "import matplotlib.pyplot as plt\n",
    "# data to plot\n",
    "n_groups = 7\n",
    "No_Normalazation = (mse_logre_nonorm, mse_perc_nonorm, mse_svm_lk_nonorm, mse_svm_rbf_nonorm, mse_dtree_nonorm, mse_rforest_nonorm, mse_nnet_nonorm)\n",
    "Feature_Standardization = (mse_logre_norm, mse_perc_norm, mse_svm_lk_norm, mse_svm_rbf_norm, mse_dtree_norm, mse_rforest_norm, mse_nnet_norm)\n",
    "\n",
    "# create plot\n",
    "fig, ax = plt.subplots()\n",
    "index = np.arange(n_groups)\n",
    "bar_width = 0.25\n",
    "opacity = 0.8\n",
    "\n",
    "\n",
    "rects1 = plt.bar(index, No_Normalazation, bar_width,\n",
    "alpha=opacity,\n",
    "color='b',\n",
    "label='No Normalazation')\n",
    "\n",
    "rects2 = plt.bar(index + bar_width, Feature_Standardization, bar_width,\n",
    "alpha=opacity,\n",
    "color='g',\n",
    "label='Feature Standardization')\n",
    "\n",
    "plt.xlabel('Classifiers')\n",
    "plt.ylabel('Scores')\n",
    "plt.title('Wild (LFW) people Mean Squared Error Metrics')\n",
    "plt.xticks(index + bar_width, ('Logistic Regression', 'Perceptron', 'SVM Linear', 'SVM RBF', 'Decision Tree', 'Random Forests', 'Neural Network'), rotation = 45)\n",
    "plt.legend()\n",
    "\n",
    "plt.tight_layout()\n",
    "plt.show()"
   ]
  },
  {
   "cell_type": "code",
   "execution_count": 104,
   "metadata": {},
   "outputs": [
    {
     "data": {
      "image/png": "[encoded data removed]",
      "text/plain": [
       "<Figure size 432x288 with 1 Axes>"
      ]
     },
     "metadata": {
      "needs_background": "light"
     },
     "output_type": "display_data"
    }
   ],
   "source": [
    "import numpy as np\n",
    "import matplotlib.pyplot as plt\n",
    "# data to plot\n",
    "n_groups = 7\n",
    "No_Normalazation = (hamloss_logre_nonorm, hamloss_perc_nonorm, hamloss_svm_lk_nonorm, hamloss_svm_rbf_nonorm, hamloss_dtree_nonorm, hamloss_rforest_nonorm, hamloss_nnet_nonorm)\n",
    "Feature_Standardization = (hamloss_logre_norm, hamloss_perc_norm, hamloss_svm_lk_norm, hamloss_svm_rbf_norm, hamloss_dtree_norm, hamloss_rforest_norm, hamloss_nnet_norm)\n",
    "\n",
    "# create plot\n",
    "fig, ax = plt.subplots()\n",
    "index = np.arange(n_groups)\n",
    "bar_width = 0.25\n",
    "opacity = 0.8\n",
    "\n",
    "\n",
    "rects1 = plt.bar(index, No_Normalazation, bar_width,\n",
    "alpha=opacity,\n",
    "color='b',\n",
    "label='No Normalazation')\n",
    "\n",
    "rects2 = plt.bar(index + bar_width, Feature_Standardization, bar_width,\n",
    "alpha=opacity,\n",
    "color='g',\n",
    "label='Feature Standardization')\n",
    "\n",
    "plt.xlabel('Classifiers')\n",
    "plt.ylabel('Scores')\n",
    "plt.title('Wild (LFW) people Hamming Loss Metrics')\n",
    "plt.xticks(index + bar_width, ('Logistic Regression', 'Perceptron', 'SVM Linear', 'SVM RBF', 'Decision Tree', 'Random Forests', 'Neural Network'), rotation = 45)\n",
    "plt.legend()\n",
    "\n",
    "plt.tight_layout()\n",
    "plt.show()"
   ]
  }
 ],
 "metadata": {
  "kernelspec": {
   "display_name": "Python 3",
   "language": "python",
   "name": "python3"
  },
  "language_info": {
   "codemirror_mode": {
    "name": "ipython",
    "version": 3
   },
   "file_extension": ".py",
   "mimetype": "text/x-python",
   "name": "python",
   "nbconvert_exporter": "python",
   "pygments_lexer": "ipython3",
   "version": "3.8.5"
  }
 },
 "nbformat": 4,
 "nbformat_minor": 4
}
