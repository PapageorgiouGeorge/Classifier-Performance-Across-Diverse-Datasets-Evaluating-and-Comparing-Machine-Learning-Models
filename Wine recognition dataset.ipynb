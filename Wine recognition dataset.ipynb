{
 "cells": [
  {
   "cell_type": "markdown",
   "metadata": {},
   "source": [
    "# Using the Wine recognition Data Set"
   ]
  },
  {
   "cell_type": "code",
   "execution_count": 1,
   "metadata": {},
   "outputs": [],
   "source": [
    "# Load the dataset\n",
    "from sklearn.datasets import load_wine\n",
    "wine = load_wine()"
   ]
  },
  {
   "cell_type": "code",
   "execution_count": 2,
   "metadata": {},
   "outputs": [
    {
     "name": "stdout",
     "output_type": "stream",
     "text": [
      ".. _wine_dataset:\n",
      "\n",
      "Wine recognition dataset\n",
      "------------------------\n",
      "\n",
      "**Data Set Characteristics:**\n",
      "\n",
      "    :Number of Instances: 178 (50 in each of three classes)\n",
      "    :Number of Attributes: 13 numeric, predictive attributes and the class\n",
      "    :Attribute Information:\n",
      " \t\t- Alcohol\n",
      " \t\t- Malic acid\n",
      " \t\t- Ash\n",
      "\t\t- Alcalinity of ash  \n",
      " \t\t- Magnesium\n",
      "\t\t- Total phenols\n",
      " \t\t- Flavanoids\n",
      " \t\t- Nonflavanoid phenols\n",
      " \t\t- Proanthocyanins\n",
      "\t\t- Color intensity\n",
      " \t\t- Hue\n",
      " \t\t- OD280/OD315 of diluted wines\n",
      " \t\t- Proline\n",
      "\n",
      "    - class:\n",
      "            - class_0\n",
      "            - class_1\n",
      "            - class_2\n",
      "\t\t\n",
      "    :Summary Statistics:\n",
      "    \n",
      "    ============================= ==== ===== ======= =====\n",
      "                                   Min   Max   Mean     SD\n",
      "    ============================= ==== ===== ======= =====\n",
      "    Alcohol:                      11.0  14.8    13.0   0.8\n",
      "    Malic Acid:                   0.74  5.80    2.34  1.12\n",
      "    Ash:                          1.36  3.23    2.36  0.27\n",
      "    Alcalinity of Ash:            10.6  30.0    19.5   3.3\n",
      "    Magnesium:                    70.0 162.0    99.7  14.3\n",
      "    Total Phenols:                0.98  3.88    2.29  0.63\n",
      "    Flavanoids:                   0.34  5.08    2.03  1.00\n",
      "    Nonflavanoid Phenols:         0.13  0.66    0.36  0.12\n",
      "    Proanthocyanins:              0.41  3.58    1.59  0.57\n",
      "    Colour Intensity:              1.3  13.0     5.1   2.3\n",
      "    Hue:                          0.48  1.71    0.96  0.23\n",
      "    OD280/OD315 of diluted wines: 1.27  4.00    2.61  0.71\n",
      "    Proline:                       278  1680     746   315\n",
      "    ============================= ==== ===== ======= =====\n",
      "\n",
      "    :Missing Attribute Values: None\n",
      "    :Class Distribution: class_0 (59), class_1 (71), class_2 (48)\n",
      "    :Creator: R.A. Fisher\n",
      "    :Donor: Michael Marshall (MARSHALL%PLU@io.arc.nasa.gov)\n",
      "    :Date: July, 1988\n",
      "\n",
      "This is a copy of UCI ML Wine recognition datasets.\n",
      "https://archive.ics.uci.edu/ml/machine-learning-databases/wine/wine.data\n",
      "\n",
      "The data is the results of a chemical analysis of wines grown in the same\n",
      "region in Italy by three different cultivators. There are thirteen different\n",
      "measurements taken for different constituents found in the three types of\n",
      "wine.\n",
      "\n",
      "Original Owners: \n",
      "\n",
      "Forina, M. et al, PARVUS - \n",
      "An Extendible Package for Data Exploration, Classification and Correlation. \n",
      "Institute of Pharmaceutical and Food Analysis and Technologies,\n",
      "Via Brigata Salerno, 16147 Genoa, Italy.\n",
      "\n",
      "Citation:\n",
      "\n",
      "Lichman, M. (2013). UCI Machine Learning Repository\n",
      "[https://archive.ics.uci.edu/ml]. Irvine, CA: University of California,\n",
      "School of Information and Computer Science. \n",
      "\n",
      ".. topic:: References\n",
      "\n",
      "  (1) S. Aeberhard, D. Coomans and O. de Vel, \n",
      "  Comparison of Classifiers in High Dimensional Settings, \n",
      "  Tech. Rep. no. 92-02, (1992), Dept. of Computer Science and Dept. of  \n",
      "  Mathematics and Statistics, James Cook University of North Queensland. \n",
      "  (Also submitted to Technometrics). \n",
      "\n",
      "  The data was used with many others for comparing various \n",
      "  classifiers. The classes are separable, though only RDA \n",
      "  has achieved 100% correct classification. \n",
      "  (RDA : 100%, QDA 99.4%, LDA 98.9%, 1NN 96.1% (z-transformed data)) \n",
      "  (All results using the leave-one-out technique) \n",
      "\n",
      "  (2) S. Aeberhard, D. Coomans and O. de Vel, \n",
      "  \"THE CLASSIFICATION PERFORMANCE OF RDA\" \n",
      "  Tech. Rep. no. 92-01, (1992), Dept. of Computer Science and Dept. of \n",
      "  Mathematics and Statistics, James Cook University of North Queensland. \n",
      "  (Also submitted to Journal of Chemometrics).\n",
      "\n"
     ]
    }
   ],
   "source": [
    "# Display a description of the dataset\n",
    "print(wine.DESCR)"
   ]
  },
  {
   "cell_type": "code",
   "execution_count": 3,
   "metadata": {
    "scrolled": true
   },
   "outputs": [
    {
     "name": "stdout",
     "output_type": "stream",
     "text": [
      "[0 0 0 0 0 0 0 0 0 0 0 0 0 0 0 0 0 0 0 0 0 0 0 0 0 0 0 0 0 0 0 0 0 0 0 0 0\n",
      " 0 0 0 0 0 0 0 0 0 0 0 0 0 0 0 0 0 0 0 0 0 0 1 1 1 1 1 1 1 1 1 1 1 1 1 1 1\n",
      " 1 1 1 1 1 1 1 1 1 1 1 1 1 1 1 1 1 1 1 1 1 1 1 1 1 1 1 1 1 1 1 1 1 1 1 1 1\n",
      " 1 1 1 1 1 1 1 1 1 1 1 1 1 1 1 1 1 1 1 2 2 2 2 2 2 2 2 2 2 2 2 2 2 2 2 2 2\n",
      " 2 2 2 2 2 2 2 2 2 2 2 2 2 2 2 2 2 2 2 2 2 2 2 2 2 2 2 2 2 2]\n"
     ]
    }
   ],
   "source": [
    "# print the target variables\n",
    "print(wine.target)"
   ]
  },
  {
   "cell_type": "code",
   "execution_count": 4,
   "metadata": {},
   "outputs": [
    {
     "name": "stdout",
     "output_type": "stream",
     "text": [
      "Class labels: [0 1 2]\n"
     ]
    }
   ],
   "source": [
    "import numpy as np\n",
    "\n",
    "\n",
    "print('Class labels:', np.unique(wine.target))"
   ]
  },
  {
   "cell_type": "code",
   "execution_count": 5,
   "metadata": {},
   "outputs": [],
   "source": [
    "from sklearn.model_selection import train_test_split\n",
    "train_set, test_set, train_labels, test_labels = train_test_split(\n",
    "                              wine.data,               # features\n",
    "                              wine.target,             # labels\n",
    "                              test_size = 0.30,          # split ratio\n",
    "                              random_state = 1,          # set random seed\n",
    "                              stratify = wine.target)  # randomize based on labels"
   ]
  },
  {
   "cell_type": "code",
   "execution_count": 6,
   "metadata": {},
   "outputs": [
    {
     "name": "stdout",
     "output_type": "stream",
     "text": [
      "Labels count in y: [59 71 48]\n",
      "Labels count in y_train: [41 50 33]\n",
      "Labels count in y_test: [18 21 15]\n"
     ]
    }
   ],
   "source": [
    "print('Labels count in y:', np.bincount(wine.target))\n",
    "print('Labels count in y_train:', np.bincount(train_labels))\n",
    "print('Labels count in y_test:', np.bincount(test_labels))"
   ]
  },
  {
   "cell_type": "markdown",
   "metadata": {},
   "source": [
    "# No normalization (use raw features)"
   ]
  },
  {
   "cell_type": "markdown",
   "metadata": {},
   "source": [
    "## Logistic Regression"
   ]
  },
  {
   "cell_type": "code",
   "execution_count": 7,
   "metadata": {},
   "outputs": [
    {
     "data": {
      "text/plain": [
       "LogisticRegression(max_iter=3000)"
      ]
     },
     "execution_count": 7,
     "metadata": {},
     "output_type": "execute_result"
    }
   ],
   "source": [
    "from sklearn import linear_model\n",
    "x = train_set[:,0:13]         \n",
    "y = train_labels             \n",
    "\n",
    "log_regress = linear_model.LogisticRegression(max_iter = 3000)\n",
    "log_regress.fit(X = x, y = y)"
   ]
  },
  {
   "cell_type": "code",
   "execution_count": 8,
   "metadata": {},
   "outputs": [
    {
     "name": "stdout",
     "output_type": "stream",
     "text": [
      "[-11.09858682  18.62045778  -7.52187096]\n",
      "[[ 4.51450483e-01  3.68239975e-01  3.02090397e-01 -3.93496098e-01\n",
      "  -9.20431309e-03  4.10491162e-01  6.85078228e-01 -1.59753217e-03\n",
      "   1.40398351e-01  1.20812597e-01  9.83218333e-03  5.07296733e-01\n",
      "   1.10241867e-02]\n",
      " [-6.61409221e-01 -7.37187212e-01 -4.19765465e-01  2.71485439e-01\n",
      "  -2.24512116e-02 -1.77214462e-01  4.04946895e-01  9.19563154e-02\n",
      "   2.55332822e-01 -8.70885587e-01  3.08927077e-01  1.27412848e-01\n",
      "  -1.03778457e-02]\n",
      " [ 2.09958739e-01  3.68947237e-01  1.17675068e-01  1.22010659e-01\n",
      "   3.16555247e-02 -2.33276700e-01 -1.09002512e+00 -9.03587832e-02\n",
      "  -3.95731172e-01  7.50072989e-01 -3.18759261e-01 -6.34709581e-01\n",
      "  -6.46340973e-04]]\n"
     ]
    }
   ],
   "source": [
    "print(log_regress.intercept_)     #\n",
    "print(log_regress.coef_)"
   ]
  },
  {
   "cell_type": "code",
   "execution_count": 9,
   "metadata": {},
   "outputs": [
    {
     "name": "stdout",
     "output_type": "stream",
     "text": [
      "    class_0   class_1   class_2  Prediction  Original Result\n",
      "0  0.000348  0.266504  0.733149           2                2\n",
      "1  0.000015  0.077706  0.922279           2                2\n",
      "2  0.000961  0.000023  0.999016           2                2\n",
      "3  0.000447  0.999416  0.000137           1                1\n",
      "4  0.000343  0.999632  0.000025           1                1\n"
     ]
    }
   ],
   "source": [
    "import pandas as pd\n",
    "\n",
    "#---get the predicted probablities and convert into a dataframe---\n",
    "preds_prob = pd.DataFrame(log_regress.predict_proba(X=test_set))\n",
    "\n",
    "#---assign column names to prediction---\n",
    "preds_prob.columns = [\"class_0\", \"class_1\",\"class_2\"]\n",
    "\n",
    "#---get the predicted class labels---\n",
    "preds = log_regress.predict(X=test_set)\n",
    "preds_class = pd.DataFrame(preds)\n",
    "preds_class.columns = [\"Prediction\"]\n",
    "\n",
    "#---actual diagnosis---\n",
    "original_result = pd.DataFrame(test_labels)\n",
    "original_result.columns = [\"Original Result\"]\n",
    "\n",
    "#---merge the three dataframes into one---\n",
    "result = pd.concat([preds_prob, preds_class, original_result], axis=1)\n",
    "print(result.head())"
   ]
  },
  {
   "cell_type": "code",
   "execution_count": 10,
   "metadata": {},
   "outputs": [
    {
     "name": "stdout",
     "output_type": "stream",
     "text": [
      "---Confusion Matrix---\n",
      "col_0   0   1   2\n",
      "row_0            \n",
      "0      17   1   0\n",
      "1       1  20   0\n",
      "2       0   0  15\n"
     ]
    }
   ],
   "source": [
    "#---generate table of predictions vs actual---\n",
    "print(\"---Confusion Matrix---\")\n",
    "print(pd.crosstab(preds, test_labels))"
   ]
  },
  {
   "cell_type": "code",
   "execution_count": 11,
   "metadata": {},
   "outputs": [
    {
     "name": "stdout",
     "output_type": "stream",
     "text": [
      "[[17  1  0]\n",
      " [ 1 20  0]\n",
      " [ 0  0 15]]\n"
     ]
    }
   ],
   "source": [
    "from sklearn import metrics\n",
    "#---view the confusion matrix---\n",
    "print(metrics.confusion_matrix(y_true = test_labels,  # True labels\n",
    "                               y_pred = preds))       # Predicted labels\n"
   ]
  },
  {
   "cell_type": "markdown",
   "metadata": {},
   "source": [
    "### Metrics"
   ]
  },
  {
   "cell_type": "code",
   "execution_count": 12,
   "metadata": {},
   "outputs": [
    {
     "name": "stdout",
     "output_type": "stream",
     "text": [
      "Accuracy :  0.9629629629629629\n"
     ]
    }
   ],
   "source": [
    "#𝑀1 : Classification accuracy\n",
    "from sklearn.metrics import accuracy_score\n",
    "acc_logre_nonorm = accuracy_score(test_labels, preds)\n",
    "print('Accuracy : ' ,acc_logre_nonorm)"
   ]
  },
  {
   "cell_type": "code",
   "execution_count": 13,
   "metadata": {},
   "outputs": [
    {
     "name": "stdout",
     "output_type": "stream",
     "text": [
      "F1-Score :  0.9629629629629629\n"
     ]
    }
   ],
   "source": [
    "#𝑀2 : F1-score\n",
    "from sklearn.metrics import f1_score\n",
    "f1_logre_nonorm = f1_score(test_labels, preds, average='weighted')\n",
    "print('F1-Score : ',f1_logre_nonorm)"
   ]
  },
  {
   "cell_type": "code",
   "execution_count": 14,
   "metadata": {},
   "outputs": [
    {
     "name": "stdout",
     "output_type": "stream",
     "text": [
      "Mean Squared Error :  0.037037037037037035\n"
     ]
    }
   ],
   "source": [
    "#𝑀3 : Mean squared error\n",
    "from sklearn.metrics import mean_squared_error\n",
    "mse_logre_nonorm = mean_squared_error(test_labels, preds)\n",
    "print('Mean Squared Error : ', mse_logre_nonorm)"
   ]
  },
  {
   "cell_type": "code",
   "execution_count": 15,
   "metadata": {},
   "outputs": [
    {
     "name": "stdout",
     "output_type": "stream",
     "text": [
      "Hamming Loss :  0.037037037037037035\n"
     ]
    }
   ],
   "source": [
    "#𝑀4 : Hamming loss\n",
    "from sklearn.metrics import hamming_loss\n",
    "y_true = test_labels\n",
    "y_pred = preds\n",
    "hamloss_logre_nonorm = hamming_loss(test_labels, preds)\n",
    "print('Hamming Loss : ' ,hamloss_logre_nonorm)"
   ]
  },
  {
   "cell_type": "markdown",
   "metadata": {},
   "source": [
    "## Perceptron"
   ]
  },
  {
   "cell_type": "code",
   "execution_count": 16,
   "metadata": {},
   "outputs": [
    {
     "data": {
      "text/plain": [
       "Perceptron(eta0=0.1, random_state=1)"
      ]
     },
     "execution_count": 16,
     "metadata": {},
     "output_type": "execute_result"
    }
   ],
   "source": [
    "from sklearn.linear_model import Perceptron\n",
    "ppn = Perceptron(eta0=0.1, random_state=1)\n",
    "ppn.fit(train_set, train_labels)"
   ]
  },
  {
   "cell_type": "markdown",
   "metadata": {},
   "source": [
    "### Model Evaluation"
   ]
  },
  {
   "cell_type": "code",
   "execution_count": 17,
   "metadata": {},
   "outputs": [
    {
     "name": "stdout",
     "output_type": "stream",
     "text": [
      "Misclassified examples (All Features): 24\n"
     ]
    }
   ],
   "source": [
    "y_pred = ppn.predict(test_set)\n",
    "print('Misclassified examples (All Features): %d' % (test_labels != y_pred).sum())"
   ]
  },
  {
   "cell_type": "markdown",
   "metadata": {},
   "source": [
    "### Metrics"
   ]
  },
  {
   "cell_type": "code",
   "execution_count": 18,
   "metadata": {},
   "outputs": [
    {
     "name": "stdout",
     "output_type": "stream",
     "text": [
      "Accuracy :  0.5555555555555556\n"
     ]
    }
   ],
   "source": [
    "#𝑀1 : Classification accuracy\n",
    "from sklearn.metrics import accuracy_score\n",
    "acc_perc_nonorm = accuracy_score(test_labels, y_pred)\n",
    "print('Accuracy : ' , acc_perc_nonorm)"
   ]
  },
  {
   "cell_type": "code",
   "execution_count": 19,
   "metadata": {},
   "outputs": [
    {
     "name": "stdout",
     "output_type": "stream",
     "text": [
      "F1-Score :  0.4668534080298786\n"
     ]
    }
   ],
   "source": [
    "#𝑀2 : F1-score\n",
    "from sklearn.metrics import f1_score\n",
    "f1_perc_nonorm = f1_score(test_labels, y_pred, average='weighted')\n",
    "print('F1-Score : ', f1_perc_nonorm)"
   ]
  },
  {
   "cell_type": "code",
   "execution_count": 20,
   "metadata": {},
   "outputs": [
    {
     "name": "stdout",
     "output_type": "stream",
     "text": [
      "Mean Squared error :  0.6111111111111112\n"
     ]
    }
   ],
   "source": [
    "#𝑀3 : Mean squared error\n",
    "from sklearn.metrics import mean_squared_error\n",
    "mse_perc_nonorm = mean_squared_error(test_labels, y_pred)\n",
    "print('Mean Squared error : ', mse_perc_nonorm)"
   ]
  },
  {
   "cell_type": "code",
   "execution_count": 21,
   "metadata": {},
   "outputs": [
    {
     "name": "stdout",
     "output_type": "stream",
     "text": [
      "Hamming Loss :  0.4444444444444444\n"
     ]
    }
   ],
   "source": [
    "#𝑀4 : Hamming loss\n",
    "from sklearn.metrics import hamming_loss\n",
    "hamloss_perc_nonorm = hamming_loss(test_labels, y_pred)\n",
    "print('Hamming Loss : ', hamloss_perc_nonorm)"
   ]
  },
  {
   "cell_type": "markdown",
   "metadata": {},
   "source": [
    "##  Support Vector Machines"
   ]
  },
  {
   "cell_type": "markdown",
   "metadata": {},
   "source": [
    "### With Linear Kernel"
   ]
  },
  {
   "cell_type": "code",
   "execution_count": 22,
   "metadata": {},
   "outputs": [
    {
     "data": {
      "text/plain": [
       "SVC(kernel='linear', random_state=1)"
      ]
     },
     "execution_count": 22,
     "metadata": {},
     "output_type": "execute_result"
    }
   ],
   "source": [
    "from sklearn.svm import SVC\n",
    "svm = SVC(kernel='linear', C=1.0, random_state=1)\n",
    "svm.fit(train_set, train_labels)"
   ]
  },
  {
   "cell_type": "markdown",
   "metadata": {},
   "source": [
    "### Model Evaluation"
   ]
  },
  {
   "cell_type": "code",
   "execution_count": 23,
   "metadata": {},
   "outputs": [
    {
     "name": "stdout",
     "output_type": "stream",
     "text": [
      "Misclassified examples (All Features): 4\n"
     ]
    }
   ],
   "source": [
    "y_pred = svm.predict(test_set)\n",
    "print('Misclassified examples (All Features): %d' % (test_labels != y_pred).sum())"
   ]
  },
  {
   "cell_type": "markdown",
   "metadata": {},
   "source": [
    "### Metrics"
   ]
  },
  {
   "cell_type": "code",
   "execution_count": 24,
   "metadata": {},
   "outputs": [
    {
     "name": "stdout",
     "output_type": "stream",
     "text": [
      "Accuracy :  0.9259259259259259\n"
     ]
    }
   ],
   "source": [
    "#𝑀1 : Classification accuracy\n",
    "from sklearn.metrics import accuracy_score\n",
    "acc_svm_lk_nonorm = accuracy_score(test_labels, y_pred)\n",
    "print('Accuracy : ' ,acc_svm_lk_nonorm)"
   ]
  },
  {
   "cell_type": "code",
   "execution_count": 25,
   "metadata": {},
   "outputs": [
    {
     "name": "stdout",
     "output_type": "stream",
     "text": [
      "F1-Score :  0.9251235106073815\n"
     ]
    }
   ],
   "source": [
    "#𝑀2 : F1-score\n",
    "from sklearn.metrics import f1_score\n",
    "f1_svm_lk_nonorm = f1_score(test_labels, y_pred, average='weighted')\n",
    "print('F1-Score : ', f1_svm_lk_nonorm)"
   ]
  },
  {
   "cell_type": "code",
   "execution_count": 26,
   "metadata": {},
   "outputs": [
    {
     "name": "stdout",
     "output_type": "stream",
     "text": [
      "Mean Squared Error :  0.07407407407407407\n"
     ]
    }
   ],
   "source": [
    "#𝑀3 : Mean squared error\n",
    "from sklearn.metrics import mean_squared_error\n",
    "mse_svm_lk_nonorm = mean_squared_error(test_labels, y_pred)\n",
    "print('Mean Squared Error : ', mse_svm_lk_nonorm)"
   ]
  },
  {
   "cell_type": "code",
   "execution_count": 27,
   "metadata": {},
   "outputs": [
    {
     "name": "stdout",
     "output_type": "stream",
     "text": [
      "Hamming Loss :  0.07407407407407407\n"
     ]
    }
   ],
   "source": [
    "#𝑀4 : Hamming loss\n",
    "from sklearn.metrics import hamming_loss\n",
    "hamloss_svm_lk_nonorm = hamming_loss(test_labels, y_pred)\n",
    "print('Hamming Loss : ',hamloss_svm_lk_nonorm)"
   ]
  },
  {
   "cell_type": "markdown",
   "metadata": {},
   "source": [
    "### With RBF Kernel"
   ]
  },
  {
   "cell_type": "code",
   "execution_count": 28,
   "metadata": {
    "scrolled": true
   },
   "outputs": [
    {
     "data": {
      "text/plain": [
       "SVC(random_state=1)"
      ]
     },
     "execution_count": 28,
     "metadata": {},
     "output_type": "execute_result"
    }
   ],
   "source": [
    "from sklearn.svm import SVC\n",
    "svm = SVC(kernel='rbf', C=1.0, random_state=1)\n",
    "svm.fit(train_set, train_labels)"
   ]
  },
  {
   "cell_type": "markdown",
   "metadata": {},
   "source": [
    "### Model Evaluation"
   ]
  },
  {
   "cell_type": "code",
   "execution_count": 29,
   "metadata": {},
   "outputs": [
    {
     "name": "stdout",
     "output_type": "stream",
     "text": [
      "Misclassified examples (All Features): 22\n"
     ]
    }
   ],
   "source": [
    "y_pred = svm.predict(test_set)\n",
    "print('Misclassified examples (All Features): %d' % (test_labels != y_pred).sum())"
   ]
  },
  {
   "cell_type": "markdown",
   "metadata": {},
   "source": [
    "### Metrics"
   ]
  },
  {
   "cell_type": "code",
   "execution_count": 30,
   "metadata": {},
   "outputs": [
    {
     "name": "stdout",
     "output_type": "stream",
     "text": [
      "Accuracy :  0.5925925925925926\n"
     ]
    }
   ],
   "source": [
    "#𝑀1 : Classification accuracy\n",
    "from sklearn.metrics import accuracy_score\n",
    "acc_svm_rbf_nonorm = accuracy_score(test_labels, y_pred)\n",
    "print('Accuracy : ', acc_svm_rbf_nonorm)"
   ]
  },
  {
   "cell_type": "code",
   "execution_count": 31,
   "metadata": {},
   "outputs": [
    {
     "name": "stdout",
     "output_type": "stream",
     "text": [
      "F1-score : 0.5985530391018196\n"
     ]
    }
   ],
   "source": [
    "#𝑀2 : F1-score\n",
    "from sklearn.metrics import f1_score\n",
    "f1_svm_rbf_nonorm = f1_score(test_labels, y_pred, average='weighted')\n",
    "print('F1-score :',f1_svm_rbf_nonorm)"
   ]
  },
  {
   "cell_type": "code",
   "execution_count": 32,
   "metadata": {},
   "outputs": [
    {
     "name": "stdout",
     "output_type": "stream",
     "text": [
      "Mean Squared Error :  0.5740740740740741\n"
     ]
    }
   ],
   "source": [
    "#𝑀3 : Mean squared error\n",
    "from sklearn.metrics import mean_squared_error\n",
    "mse_svm_rbf_nonorm = mean_squared_error(test_labels, y_pred)\n",
    "print('Mean Squared Error : ',mse_svm_rbf_nonorm)"
   ]
  },
  {
   "cell_type": "code",
   "execution_count": 33,
   "metadata": {},
   "outputs": [
    {
     "name": "stdout",
     "output_type": "stream",
     "text": [
      "Hamming Loss :  0.4074074074074074\n"
     ]
    }
   ],
   "source": [
    "#𝑀4 : Hamming loss\n",
    "from sklearn.metrics import hamming_loss\n",
    "hamloss_svm_rbf_nonorm = hamming_loss(test_labels, y_pred)\n",
    "print('Hamming Loss : ',hamloss_svm_rbf_nonorm)"
   ]
  },
  {
   "cell_type": "markdown",
   "metadata": {},
   "source": [
    "# Decision Tree"
   ]
  },
  {
   "cell_type": "code",
   "execution_count": 34,
   "metadata": {},
   "outputs": [
    {
     "data": {
      "text/plain": [
       "DecisionTreeClassifier(max_depth=4, random_state=1)"
      ]
     },
     "execution_count": 34,
     "metadata": {},
     "output_type": "execute_result"
    }
   ],
   "source": [
    "from sklearn.tree import DecisionTreeClassifier\n",
    "\n",
    "# Build a decision tree for classification tasks\n",
    "# citerion:  The function to measure the quality of a split. \n",
    "# max_depth: The maximum depth of the tree. If None, then nodes are expanded until all leaves are pure or\n",
    "#            until all leaves contain less than min_samples_split samples.\n",
    "# min_samples_split: The minimum number of samples required to split an internal node.\n",
    "# min_samples_leaf:  The minimum number of samples required to to be at a leaf node.\n",
    "tree_model = DecisionTreeClassifier(criterion = 'gini', max_depth = 4, random_state = 1)\n",
    "tree_model.fit(train_set, train_labels)"
   ]
  },
  {
   "cell_type": "markdown",
   "metadata": {},
   "source": [
    "### Model Evaluation"
   ]
  },
  {
   "cell_type": "code",
   "execution_count": 35,
   "metadata": {},
   "outputs": [
    {
     "name": "stdout",
     "output_type": "stream",
     "text": [
      "Misclassified examples (All Features): 2\n"
     ]
    }
   ],
   "source": [
    "y_pred = tree_model.predict(test_set)\n",
    "print('Misclassified examples (All Features): %d' % (test_labels != y_pred).sum())"
   ]
  },
  {
   "cell_type": "markdown",
   "metadata": {},
   "source": [
    "### Metrics"
   ]
  },
  {
   "cell_type": "code",
   "execution_count": 36,
   "metadata": {},
   "outputs": [
    {
     "name": "stdout",
     "output_type": "stream",
     "text": [
      "Accuracy :  0.9629629629629629\n"
     ]
    }
   ],
   "source": [
    "#𝑀1 : Classification accuracy\n",
    "from sklearn.metrics import accuracy_score\n",
    "acc_dtree_nonorm = accuracy_score(test_labels, y_pred)\n",
    "print('Accuracy : ', acc_dtree_nonorm)"
   ]
  },
  {
   "cell_type": "code",
   "execution_count": 37,
   "metadata": {},
   "outputs": [
    {
     "name": "stdout",
     "output_type": "stream",
     "text": [
      "F1-score : 0.9629629629629629\n"
     ]
    }
   ],
   "source": [
    "#𝑀2 : F1-score\n",
    "from sklearn.metrics import f1_score\n",
    "f1_dtree_nonorm = f1_score(test_labels, y_pred, average='weighted')\n",
    "print('F1-score :',f1_dtree_nonorm)"
   ]
  },
  {
   "cell_type": "code",
   "execution_count": 38,
   "metadata": {},
   "outputs": [
    {
     "name": "stdout",
     "output_type": "stream",
     "text": [
      "Mean Squared Error :  0.037037037037037035\n"
     ]
    }
   ],
   "source": [
    "#𝑀3 : Mean squared error\n",
    "from sklearn.metrics import mean_squared_error\n",
    "mse_dtree_nonorm = mean_squared_error(test_labels, y_pred)\n",
    "print('Mean Squared Error : ',mse_dtree_nonorm)"
   ]
  },
  {
   "cell_type": "code",
   "execution_count": 39,
   "metadata": {},
   "outputs": [
    {
     "name": "stdout",
     "output_type": "stream",
     "text": [
      "Hamming Loss :  0.037037037037037035\n"
     ]
    }
   ],
   "source": [
    "#𝑀4 : Hamming loss\n",
    "from sklearn.metrics import hamming_loss\n",
    "hamloss_dtree_nonorm = hamming_loss(test_labels, y_pred)\n",
    "print('Hamming Loss : ',hamloss_dtree_nonorm)"
   ]
  },
  {
   "cell_type": "markdown",
   "metadata": {},
   "source": [
    "# Random Forests"
   ]
  },
  {
   "cell_type": "code",
   "execution_count": 40,
   "metadata": {},
   "outputs": [
    {
     "data": {
      "text/plain": [
       "RandomForestClassifier(n_estimators=25, n_jobs=-1, random_state=1)"
      ]
     },
     "execution_count": 40,
     "metadata": {},
     "output_type": "execute_result"
    }
   ],
   "source": [
    "from sklearn.ensemble import RandomForestClassifier\n",
    "\n",
    "# Create a Random Forest comprised of 25 decision trees\n",
    "# citerion:  The function to measure the quality of a split. \n",
    "# max_depth: The maximum depth of the tree. If None, then nodes are expanded until all leaves are pure or\n",
    "#            until all leaves contain less than min_samples_split samples.\n",
    "# min_samples_split: The minimum number of samples required to split an internal node.\n",
    "# min_samples_leaf:  The minimum number of samples required to to be at a leaf node.\n",
    "forest = RandomForestClassifier(criterion='gini', n_estimators=25, random_state=1, n_jobs=-1)\n",
    "forest.fit(train_set, train_labels)"
   ]
  },
  {
   "cell_type": "markdown",
   "metadata": {},
   "source": [
    "### Model Evaluation"
   ]
  },
  {
   "cell_type": "code",
   "execution_count": 41,
   "metadata": {},
   "outputs": [
    {
     "name": "stdout",
     "output_type": "stream",
     "text": [
      "Misclassified examples (All Features): 1\n"
     ]
    }
   ],
   "source": [
    "y_pred = forest.predict(test_set)\n",
    "print('Misclassified examples (All Features): %d' % (test_labels != y_pred).sum())"
   ]
  },
  {
   "cell_type": "markdown",
   "metadata": {},
   "source": [
    "### Metrics"
   ]
  },
  {
   "cell_type": "code",
   "execution_count": 42,
   "metadata": {},
   "outputs": [
    {
     "name": "stdout",
     "output_type": "stream",
     "text": [
      "Accuracy :  0.9814814814814815\n"
     ]
    }
   ],
   "source": [
    "#𝑀1 : Classification accuracy\n",
    "from sklearn.metrics import accuracy_score\n",
    "acc_rforest_nonorm = accuracy_score(test_labels, y_pred)\n",
    "print('Accuracy : ', acc_rforest_nonorm)"
   ]
  },
  {
   "cell_type": "code",
   "execution_count": 43,
   "metadata": {},
   "outputs": [
    {
     "name": "stdout",
     "output_type": "stream",
     "text": [
      "F1-score : 0.9814322628276116\n"
     ]
    }
   ],
   "source": [
    "#𝑀2 : F1-score\n",
    "from sklearn.metrics import f1_score\n",
    "f1_rforest_nonorm = f1_score(test_labels, y_pred, average='weighted')\n",
    "print('F1-score :',f1_rforest_nonorm)"
   ]
  },
  {
   "cell_type": "code",
   "execution_count": 44,
   "metadata": {},
   "outputs": [
    {
     "name": "stdout",
     "output_type": "stream",
     "text": [
      "Mean Squared Error :  0.018518518518518517\n"
     ]
    }
   ],
   "source": [
    "#𝑀3 : Mean squared error\n",
    "from sklearn.metrics import mean_squared_error\n",
    "mse_rforest_nonorm = mean_squared_error(test_labels, y_pred)\n",
    "print('Mean Squared Error : ',mse_rforest_nonorm)"
   ]
  },
  {
   "cell_type": "code",
   "execution_count": 45,
   "metadata": {},
   "outputs": [
    {
     "name": "stdout",
     "output_type": "stream",
     "text": [
      "Hamming Loss :  0.018518518518518517\n"
     ]
    }
   ],
   "source": [
    "#𝑀4 : Hamming loss\n",
    "from sklearn.metrics import hamming_loss\n",
    "hamloss_rforest_nonorm = hamming_loss(test_labels, y_pred)\n",
    "print('Hamming Loss : ',hamloss_rforest_nonorm)"
   ]
  },
  {
   "cell_type": "markdown",
   "metadata": {},
   "source": [
    "# Feed-forward Neural Network with two hidden layers"
   ]
  },
  {
   "cell_type": "code",
   "execution_count": 46,
   "metadata": {},
   "outputs": [
    {
     "data": {
      "text/plain": [
       "MLPClassifier(alpha=0.3, hidden_layer_sizes=(10, 11), max_iter=1000)"
      ]
     },
     "execution_count": 46,
     "metadata": {},
     "output_type": "execute_result"
    }
   ],
   "source": [
    "from sklearn.neural_network import MLPClassifier\n",
    "mlp = MLPClassifier(activation='relu', hidden_layer_sizes=(10,11), alpha = 0.3, max_iter = 1000)\n",
    "\n",
    "mlp.fit(train_set, train_labels)"
   ]
  },
  {
   "cell_type": "markdown",
   "metadata": {},
   "source": [
    "### Model Evaluation"
   ]
  },
  {
   "cell_type": "code",
   "execution_count": 47,
   "metadata": {},
   "outputs": [
    {
     "name": "stdout",
     "output_type": "stream",
     "text": [
      "Misclassified examples (All Features): 23\n"
     ]
    }
   ],
   "source": [
    "y_pred = mlp.predict(test_set)\n",
    "print('Misclassified examples (All Features): %d' % (test_labels != y_pred).sum())"
   ]
  },
  {
   "cell_type": "markdown",
   "metadata": {},
   "source": [
    "### Metrics"
   ]
  },
  {
   "cell_type": "code",
   "execution_count": 48,
   "metadata": {},
   "outputs": [
    {
     "name": "stdout",
     "output_type": "stream",
     "text": [
      "Accuracy :  0.5740740740740741\n"
     ]
    }
   ],
   "source": [
    "#𝑀1 : Classification accuracy\n",
    "from sklearn.metrics import accuracy_score\n",
    "acc_nnet_nonorm = accuracy_score(test_labels, y_pred)\n",
    "print('Accuracy : ', acc_nnet_nonorm)"
   ]
  },
  {
   "cell_type": "code",
   "execution_count": 49,
   "metadata": {},
   "outputs": [
    {
     "name": "stdout",
     "output_type": "stream",
     "text": [
      "F1-score : 0.5368686868686868\n"
     ]
    }
   ],
   "source": [
    "#𝑀2 : F1-score\n",
    "from sklearn.metrics import f1_score\n",
    "f1_nnet_nonorm = f1_score(test_labels, y_pred, average='weighted')\n",
    "print('F1-score :',f1_nnet_nonorm)"
   ]
  },
  {
   "cell_type": "code",
   "execution_count": 50,
   "metadata": {},
   "outputs": [
    {
     "name": "stdout",
     "output_type": "stream",
     "text": [
      "Mean Squared Error :  0.42592592592592593\n"
     ]
    }
   ],
   "source": [
    "#𝑀3 : Mean squared error\n",
    "from sklearn.metrics import mean_squared_error\n",
    "mse_nnet_nonorm = mean_squared_error(test_labels, y_pred)\n",
    "print('Mean Squared Error : ',mse_nnet_nonorm)"
   ]
  },
  {
   "cell_type": "code",
   "execution_count": 51,
   "metadata": {},
   "outputs": [
    {
     "name": "stdout",
     "output_type": "stream",
     "text": [
      "Hamming Loss :  0.42592592592592593\n"
     ]
    }
   ],
   "source": [
    "#𝑀4 : Hamming loss\n",
    "from sklearn.metrics import hamming_loss\n",
    "hamloss_nnet_nonorm = hamming_loss(test_labels, y_pred)\n",
    "print('Hamming Loss : ',hamloss_nnet_nonorm)"
   ]
  },
  {
   "cell_type": "markdown",
   "metadata": {},
   "source": [
    "# Feature Standardization"
   ]
  },
  {
   "cell_type": "code",
   "execution_count": 52,
   "metadata": {},
   "outputs": [],
   "source": [
    "from sklearn.preprocessing import StandardScaler\n",
    "\n",
    "stdsc = StandardScaler()\n",
    "train_set_std = stdsc.fit_transform(train_set)\n",
    "test_set_std = stdsc.transform(test_set)"
   ]
  },
  {
   "cell_type": "markdown",
   "metadata": {},
   "source": [
    "## Logistic Regression"
   ]
  },
  {
   "cell_type": "code",
   "execution_count": 53,
   "metadata": {},
   "outputs": [
    {
     "data": {
      "text/plain": [
       "LogisticRegression(max_iter=3000)"
      ]
     },
     "execution_count": 53,
     "metadata": {},
     "output_type": "execute_result"
    }
   ],
   "source": [
    "from sklearn import linear_model\n",
    "x = train_set_std[:,0:13]        \n",
    "y = train_labels              \n",
    "\n",
    "log_regress = linear_model.LogisticRegression(max_iter = 3000)\n",
    "log_regress.fit(X = x, y = y)"
   ]
  },
  {
   "cell_type": "code",
   "execution_count": 54,
   "metadata": {},
   "outputs": [
    {
     "name": "stdout",
     "output_type": "stream",
     "text": [
      "[ 0.29349893  0.61240686 -0.90590579]\n",
      "[[ 0.75361285  0.06105544  0.23129826 -0.89151569  0.0254355   0.29460189\n",
      "   0.56203405 -0.20767898  0.13644792  0.12854884  0.10311919  0.61947322\n",
      "   0.90907528]\n",
      " [-0.98692141 -0.322874   -0.6520325   0.66648352 -0.22963356 -0.20480078\n",
      "   0.4387876   0.19628231  0.24626032 -0.77714941  0.63869702  0.08773225\n",
      "  -1.03332463]\n",
      " [ 0.23330855  0.26181856  0.42073425  0.22503217  0.20419806 -0.08980111\n",
      "  -1.00082165  0.01139667 -0.38270825  0.64860057 -0.74181621 -0.70720547\n",
      "   0.12424934]]\n"
     ]
    }
   ],
   "source": [
    "print(log_regress.intercept_)     #\n",
    "print(log_regress.coef_)"
   ]
  },
  {
   "cell_type": "code",
   "execution_count": 55,
   "metadata": {},
   "outputs": [
    {
     "name": "stdout",
     "output_type": "stream",
     "text": [
      "    class_0   class_1   class_2  Prediction  Original Result\n",
      "0  0.003363  0.035173  0.961464           2                2\n",
      "1  0.000950  0.009904  0.989146           2                2\n",
      "2  0.005884  0.000296  0.993820           2                2\n",
      "3  0.046992  0.949399  0.003608           1                1\n",
      "4  0.004370  0.995621  0.000009           1                1\n"
     ]
    }
   ],
   "source": [
    "import pandas as pd\n",
    "\n",
    "#---get the predicted probablities and convert into a dataframe---\n",
    "preds_prob = pd.DataFrame(log_regress.predict_proba(X=test_set_std))\n",
    "\n",
    "#---assign column names to prediction---\n",
    "preds_prob.columns = [\"class_0\", \"class_1\",\"class_2\"]\n",
    "\n",
    "#---get the predicted class labels---\n",
    "preds = log_regress.predict(X=test_set_std)\n",
    "preds_class = pd.DataFrame(preds)\n",
    "preds_class.columns = [\"Prediction\"]\n",
    "\n",
    "#---actual diagnosis---\n",
    "original_result = pd.DataFrame(test_labels)\n",
    "original_result.columns = [\"Original Result\"]\n",
    "\n",
    "#---merge the three dataframes into one---\n",
    "result = pd.concat([preds_prob, preds_class, original_result], axis=1)\n",
    "print(result.head())"
   ]
  },
  {
   "cell_type": "markdown",
   "metadata": {},
   "source": [
    "### Metrics"
   ]
  },
  {
   "cell_type": "code",
   "execution_count": 56,
   "metadata": {},
   "outputs": [
    {
     "name": "stdout",
     "output_type": "stream",
     "text": [
      "---Confusion Matrix---\n",
      "col_0   0   1   2\n",
      "row_0            \n",
      "0      18   0   0\n",
      "1       0  20   0\n",
      "2       0   1  15\n"
     ]
    }
   ],
   "source": [
    "#---generate table of predictions vs actual---\n",
    "print(\"---Confusion Matrix---\")\n",
    "print(pd.crosstab(preds, test_labels))"
   ]
  },
  {
   "cell_type": "code",
   "execution_count": 57,
   "metadata": {},
   "outputs": [
    {
     "name": "stdout",
     "output_type": "stream",
     "text": [
      "Accuracy :  0.9814814814814815\n"
     ]
    }
   ],
   "source": [
    "#𝑀1 : Classification accuracy\n",
    "from sklearn.metrics import accuracy_score\n",
    "acc_logre_norm = accuracy_score(test_labels, preds)\n",
    "print('Accuracy : ', acc_logre_norm)"
   ]
  },
  {
   "cell_type": "code",
   "execution_count": 58,
   "metadata": {},
   "outputs": [
    {
     "name": "stdout",
     "output_type": "stream",
     "text": [
      "F1-Score :  0.981554331672349\n"
     ]
    }
   ],
   "source": [
    "#𝑀2 : F1-score\n",
    "from sklearn.metrics import f1_score\n",
    "f1_logre_norm = f1_score(test_labels, preds, average='weighted')\n",
    "print('F1-Score : ',f1_logre_norm)"
   ]
  },
  {
   "cell_type": "code",
   "execution_count": 59,
   "metadata": {},
   "outputs": [
    {
     "name": "stdout",
     "output_type": "stream",
     "text": [
      "Mean Squared Error :  0.018518518518518517\n"
     ]
    }
   ],
   "source": [
    "#𝑀3 : Mean squared error\n",
    "from sklearn.metrics import mean_squared_error\n",
    "mse_logre_norm = mean_squared_error(test_labels, preds)\n",
    "print('Mean Squared Error : ', mse_logre_norm)"
   ]
  },
  {
   "cell_type": "code",
   "execution_count": 60,
   "metadata": {},
   "outputs": [
    {
     "name": "stdout",
     "output_type": "stream",
     "text": [
      "Hamming Loss :  0.018518518518518517\n"
     ]
    }
   ],
   "source": [
    "#𝑀4 : Hamming loss\n",
    "from sklearn.metrics import hamming_loss\n",
    "hamloss_logre_norm = hamming_loss(test_labels, preds)\n",
    "print(\"Hamming Loss : \", hamloss_logre_norm)"
   ]
  },
  {
   "cell_type": "markdown",
   "metadata": {},
   "source": [
    "## Perceptron"
   ]
  },
  {
   "cell_type": "code",
   "execution_count": 61,
   "metadata": {},
   "outputs": [
    {
     "name": "stdout",
     "output_type": "stream",
     "text": [
      "Class labels: [0 1 2]\n"
     ]
    }
   ],
   "source": [
    "import numpy as np\n",
    "\n",
    "\n",
    "print('Class labels:', np.unique(wine.target))"
   ]
  },
  {
   "cell_type": "code",
   "execution_count": 62,
   "metadata": {},
   "outputs": [
    {
     "data": {
      "text/plain": [
       "Perceptron(eta0=0.1, random_state=1)"
      ]
     },
     "execution_count": 62,
     "metadata": {},
     "output_type": "execute_result"
    }
   ],
   "source": [
    "from sklearn.linear_model import Perceptron\n",
    "ppn = Perceptron(eta0=0.1, random_state=1)\n",
    "ppn.fit(train_set_std, train_labels)"
   ]
  },
  {
   "cell_type": "markdown",
   "metadata": {},
   "source": [
    "### Model Evaluation"
   ]
  },
  {
   "cell_type": "code",
   "execution_count": 63,
   "metadata": {},
   "outputs": [
    {
     "name": "stdout",
     "output_type": "stream",
     "text": [
      "Misclassified examples (All Features): 2\n"
     ]
    }
   ],
   "source": [
    "y_pred = ppn.predict(test_set_std)\n",
    "print('Misclassified examples (All Features): %d' % (test_labels != y_pred).sum())"
   ]
  },
  {
   "cell_type": "markdown",
   "metadata": {},
   "source": [
    "### Metrics"
   ]
  },
  {
   "cell_type": "code",
   "execution_count": 64,
   "metadata": {},
   "outputs": [
    {
     "name": "stdout",
     "output_type": "stream",
     "text": [
      "Accuracy :  0.9629629629629629\n"
     ]
    }
   ],
   "source": [
    "#𝑀1 : Classification accuracy\n",
    "from sklearn.metrics import accuracy_score\n",
    "acc_perc_norm = accuracy_score(test_labels, y_pred)\n",
    "print('Accuracy : ', accuracy_score(test_labels, y_pred))"
   ]
  },
  {
   "cell_type": "code",
   "execution_count": 65,
   "metadata": {},
   "outputs": [
    {
     "name": "stdout",
     "output_type": "stream",
     "text": [
      "F1-Score :  0.9625859730698442\n"
     ]
    }
   ],
   "source": [
    "##𝑀2 : F1-score\n",
    "from sklearn.metrics import f1_score\n",
    "f1_perc_norm = f1_score(test_labels, y_pred, average='weighted')\n",
    "print('F1-Score : ' , f1_perc_norm)"
   ]
  },
  {
   "cell_type": "code",
   "execution_count": 66,
   "metadata": {},
   "outputs": [
    {
     "name": "stdout",
     "output_type": "stream",
     "text": [
      "Mean Squared Error :  0.037037037037037035\n"
     ]
    }
   ],
   "source": [
    "#𝑀3 : Mean squared error\n",
    "from sklearn.metrics import mean_squared_error\n",
    "mse_perc_norm = mean_squared_error(test_labels, y_pred)\n",
    "print('Mean Squared Error : ',mse_perc_norm)"
   ]
  },
  {
   "cell_type": "code",
   "execution_count": 67,
   "metadata": {},
   "outputs": [
    {
     "name": "stdout",
     "output_type": "stream",
     "text": [
      "Hamming Loss :  0.037037037037037035\n"
     ]
    }
   ],
   "source": [
    "#𝑀4 : Hamming loss\n",
    "from sklearn.metrics import hamming_loss\n",
    "hamloss_perc_norm = hamming_loss(test_labels, y_pred)\n",
    "print('Hamming Loss : ', hamloss_perc_norm)"
   ]
  },
  {
   "cell_type": "markdown",
   "metadata": {},
   "source": [
    "##  Support Vector Machines"
   ]
  },
  {
   "cell_type": "markdown",
   "metadata": {},
   "source": [
    "### With Linear Kernel"
   ]
  },
  {
   "cell_type": "code",
   "execution_count": 68,
   "metadata": {},
   "outputs": [
    {
     "data": {
      "text/plain": [
       "SVC(kernel='linear', random_state=1)"
      ]
     },
     "execution_count": 68,
     "metadata": {},
     "output_type": "execute_result"
    }
   ],
   "source": [
    "from sklearn.svm import SVC\n",
    "svm = SVC(kernel='linear', C=1.0, random_state=1)\n",
    "svm.fit(train_set_std, train_labels)"
   ]
  },
  {
   "cell_type": "markdown",
   "metadata": {},
   "source": [
    "### Model Evaluation"
   ]
  },
  {
   "cell_type": "code",
   "execution_count": 69,
   "metadata": {},
   "outputs": [
    {
     "name": "stdout",
     "output_type": "stream",
     "text": [
      "Misclassified examples (All Features): 2\n"
     ]
    }
   ],
   "source": [
    "y_pred = svm.predict(test_set_std)\n",
    "print('Misclassified examples (All Features): %d' % (test_labels != y_pred).sum())"
   ]
  },
  {
   "cell_type": "markdown",
   "metadata": {},
   "source": [
    "### Metrics"
   ]
  },
  {
   "cell_type": "code",
   "execution_count": 70,
   "metadata": {},
   "outputs": [
    {
     "name": "stdout",
     "output_type": "stream",
     "text": [
      "Accuracy :  0.9629629629629629\n"
     ]
    }
   ],
   "source": [
    "#𝑀1 : Classification accuracy\n",
    "from sklearn.metrics import accuracy_score\n",
    "acc_svm_lk_norm = accuracy_score(test_labels, y_pred)\n",
    "print('Accuracy : ' ,acc_svm_lk_norm)"
   ]
  },
  {
   "cell_type": "code",
   "execution_count": 71,
   "metadata": {},
   "outputs": [
    {
     "name": "stdout",
     "output_type": "stream",
     "text": [
      "F1-Score :  0.9631944444444445\n"
     ]
    }
   ],
   "source": [
    "#𝑀2 : F1-score\n",
    "from sklearn.metrics import f1_score\n",
    "f1_svm_lk_norm = f1_score(test_labels, y_pred, average='weighted')\n",
    "print('F1-Score : ', f1_svm_lk_norm)"
   ]
  },
  {
   "cell_type": "code",
   "execution_count": 72,
   "metadata": {},
   "outputs": [
    {
     "name": "stdout",
     "output_type": "stream",
     "text": [
      "Mean Squared Error :  0.037037037037037035\n"
     ]
    }
   ],
   "source": [
    "#𝑀3 : Mean squared error\n",
    "from sklearn.metrics import mean_squared_error\n",
    "mse_svm_lk_norm = mean_squared_error(test_labels, y_pred)\n",
    "print('Mean Squared Error : ',mse_svm_lk_norm)"
   ]
  },
  {
   "cell_type": "code",
   "execution_count": 73,
   "metadata": {},
   "outputs": [
    {
     "name": "stdout",
     "output_type": "stream",
     "text": [
      "Hamming Loss :  0.037037037037037035\n"
     ]
    }
   ],
   "source": [
    "#𝑀4 : Hamming loss\n",
    "from sklearn.metrics import hamming_loss\n",
    "hamloss_svm_lk_norm = hamming_loss(test_labels, y_pred)\n",
    "print('Hamming Loss : ',hamloss_svm_lk_norm)"
   ]
  },
  {
   "cell_type": "markdown",
   "metadata": {},
   "source": [
    "### With RBF Kernel"
   ]
  },
  {
   "cell_type": "code",
   "execution_count": 74,
   "metadata": {
    "scrolled": true
   },
   "outputs": [
    {
     "data": {
      "text/plain": [
       "SVC(random_state=1)"
      ]
     },
     "execution_count": 74,
     "metadata": {},
     "output_type": "execute_result"
    }
   ],
   "source": [
    "from sklearn.svm import SVC\n",
    "svm = SVC(kernel='rbf', C=1.0, random_state=1)\n",
    "svm.fit(train_set_std, train_labels)"
   ]
  },
  {
   "cell_type": "markdown",
   "metadata": {},
   "source": [
    "### Model Evaluation"
   ]
  },
  {
   "cell_type": "code",
   "execution_count": 75,
   "metadata": {},
   "outputs": [
    {
     "name": "stdout",
     "output_type": "stream",
     "text": [
      "Misclassified examples (All Features): 1\n"
     ]
    }
   ],
   "source": [
    "y_pred = svm.predict(test_set_std)\n",
    "print('Misclassified examples (All Features): %d' % (test_labels != y_pred).sum())"
   ]
  },
  {
   "cell_type": "markdown",
   "metadata": {},
   "source": [
    "### Metrics"
   ]
  },
  {
   "cell_type": "code",
   "execution_count": 76,
   "metadata": {},
   "outputs": [
    {
     "name": "stdout",
     "output_type": "stream",
     "text": [
      "Accuracy :  0.9814814814814815\n"
     ]
    }
   ],
   "source": [
    "#𝑀1 : Classification accuracy\n",
    "from sklearn.metrics import accuracy_score\n",
    "acc_svm_rbf_norm = accuracy_score(test_labels, y_pred)\n",
    "print('Accuracy : ' ,acc_svm_rbf_norm)"
   ]
  },
  {
   "cell_type": "code",
   "execution_count": 77,
   "metadata": {},
   "outputs": [
    {
     "name": "stdout",
     "output_type": "stream",
     "text": [
      "F1-Score :  0.9814322628276116\n"
     ]
    }
   ],
   "source": [
    "#𝑀2 : F1-score\n",
    "from sklearn.metrics import f1_score\n",
    "f1_svm_rbf_norm = f1_score(test_labels, y_pred, average='weighted')\n",
    "print('F1-Score : ',f1_svm_rbf_norm)"
   ]
  },
  {
   "cell_type": "code",
   "execution_count": 78,
   "metadata": {},
   "outputs": [
    {
     "name": "stdout",
     "output_type": "stream",
     "text": [
      "Mean Squared Error :  0.018518518518518517\n"
     ]
    }
   ],
   "source": [
    "#𝑀3 : Mean squared error\n",
    "from sklearn.metrics import mean_squared_error\n",
    "mse_svm_rbf_norm = mean_squared_error(test_labels, y_pred)\n",
    "print('Mean Squared Error : ',mse_svm_rbf_norm)"
   ]
  },
  {
   "cell_type": "code",
   "execution_count": 79,
   "metadata": {},
   "outputs": [
    {
     "name": "stdout",
     "output_type": "stream",
     "text": [
      "Hamming loss :  0.018518518518518517\n"
     ]
    }
   ],
   "source": [
    "#𝑀4 : Hamming loss\n",
    "from sklearn.metrics import hamming_loss\n",
    "hamloss_svm_rbf_norm = hamming_loss(test_labels, y_pred)\n",
    "print('Hamming loss : ',hamloss_svm_rbf_norm)"
   ]
  },
  {
   "cell_type": "markdown",
   "metadata": {},
   "source": [
    "# Decision Tree"
   ]
  },
  {
   "cell_type": "code",
   "execution_count": 80,
   "metadata": {},
   "outputs": [
    {
     "data": {
      "text/plain": [
       "DecisionTreeClassifier(max_depth=4, random_state=1)"
      ]
     },
     "execution_count": 80,
     "metadata": {},
     "output_type": "execute_result"
    }
   ],
   "source": [
    "# Decision Treefrom sklearn.tree import DecisionTreeClassifier\n",
    "\n",
    "# Build a decision tree for classification tasks\n",
    "# citerion:  The function to measure the quality of a split. \n",
    "# max_depth: The maximum depth of the tree. If None, then nodes are expanded until all leaves are pure or\n",
    "#            until all leaves contain less than min_samples_split samples.\n",
    "# min_samples_split: The minimum number of samples required to split an internal node.\n",
    "# min_samples_leaf:  The minimum number of samples required to to be at a leaf node.\n",
    "tree_model = DecisionTreeClassifier(criterion = 'gini', max_depth = 4, random_state = 1)\n",
    "tree_model.fit(train_set_std, train_labels)"
   ]
  },
  {
   "cell_type": "markdown",
   "metadata": {},
   "source": [
    "### Model Evaluation"
   ]
  },
  {
   "cell_type": "code",
   "execution_count": 81,
   "metadata": {},
   "outputs": [
    {
     "name": "stdout",
     "output_type": "stream",
     "text": [
      "Misclassified examples (All Features): 2\n"
     ]
    }
   ],
   "source": [
    "y_pred = tree_model.predict(test_set_std)\n",
    "print('Misclassified examples (All Features): %d' % (test_labels != y_pred).sum())"
   ]
  },
  {
   "cell_type": "markdown",
   "metadata": {},
   "source": [
    "### Metrics"
   ]
  },
  {
   "cell_type": "code",
   "execution_count": 82,
   "metadata": {},
   "outputs": [
    {
     "name": "stdout",
     "output_type": "stream",
     "text": [
      "Accuracy :  0.9629629629629629\n"
     ]
    }
   ],
   "source": [
    "#𝑀1 : Classification accuracy\n",
    "from sklearn.metrics import accuracy_score\n",
    "acc_dtree_norm = accuracy_score(test_labels, y_pred)\n",
    "print('Accuracy : ', acc_dtree_norm)"
   ]
  },
  {
   "cell_type": "code",
   "execution_count": 83,
   "metadata": {},
   "outputs": [
    {
     "name": "stdout",
     "output_type": "stream",
     "text": [
      "F1-score : 0.9629629629629629\n"
     ]
    }
   ],
   "source": [
    "#𝑀2 : F1-score\n",
    "from sklearn.metrics import f1_score\n",
    "f1_dtree_norm = f1_score(test_labels, y_pred, average='weighted')\n",
    "print('F1-score :',f1_dtree_norm)"
   ]
  },
  {
   "cell_type": "code",
   "execution_count": 84,
   "metadata": {},
   "outputs": [
    {
     "name": "stdout",
     "output_type": "stream",
     "text": [
      "Mean Squared Error :  0.037037037037037035\n"
     ]
    }
   ],
   "source": [
    "#𝑀3 : Mean squared error\n",
    "from sklearn.metrics import mean_squared_error\n",
    "mse_dtree_norm = mean_squared_error(test_labels, y_pred)\n",
    "print('Mean Squared Error : ',mse_dtree_norm)"
   ]
  },
  {
   "cell_type": "code",
   "execution_count": 85,
   "metadata": {},
   "outputs": [
    {
     "name": "stdout",
     "output_type": "stream",
     "text": [
      "Hamming Loss :  0.037037037037037035\n"
     ]
    }
   ],
   "source": [
    "#𝑀4 : Hamming loss\n",
    "from sklearn.metrics import hamming_loss\n",
    "hamloss_dtree_norm = hamming_loss(test_labels, y_pred)\n",
    "print('Hamming Loss : ',hamloss_dtree_norm)"
   ]
  },
  {
   "cell_type": "markdown",
   "metadata": {},
   "source": [
    "# Random Forests"
   ]
  },
  {
   "cell_type": "code",
   "execution_count": 86,
   "metadata": {},
   "outputs": [
    {
     "data": {
      "text/plain": [
       "RandomForestClassifier(n_estimators=25, n_jobs=-1, random_state=1)"
      ]
     },
     "execution_count": 86,
     "metadata": {},
     "output_type": "execute_result"
    }
   ],
   "source": [
    "from sklearn.ensemble import RandomForestClassifier\n",
    "\n",
    "# Create a Random Forest comprised of 25 decision trees\n",
    "# citerion:  The function to measure the quality of a split. \n",
    "# max_depth: The maximum depth of the tree. If None, then nodes are expanded until all leaves are pure or\n",
    "#            until all leaves contain less than min_samples_split samples.\n",
    "# min_samples_split: The minimum number of samples required to split an internal node.\n",
    "# min_samples_leaf:  The minimum number of samples required to to be at a leaf node.\n",
    "forest = RandomForestClassifier(criterion='gini', n_estimators=25, random_state=1, n_jobs=-1)\n",
    "forest.fit(train_set_std, train_labels)"
   ]
  },
  {
   "cell_type": "markdown",
   "metadata": {},
   "source": [
    "### Model Evaluation"
   ]
  },
  {
   "cell_type": "code",
   "execution_count": 87,
   "metadata": {},
   "outputs": [
    {
     "name": "stdout",
     "output_type": "stream",
     "text": [
      "Misclassified examples (All Features): 1\n"
     ]
    }
   ],
   "source": [
    "y_pred = y_pred = forest.predict(test_set_std)\n",
    "print('Misclassified examples (All Features): %d' % (test_labels != y_pred).sum())"
   ]
  },
  {
   "cell_type": "markdown",
   "metadata": {},
   "source": [
    "### Metrics"
   ]
  },
  {
   "cell_type": "code",
   "execution_count": 88,
   "metadata": {},
   "outputs": [
    {
     "name": "stdout",
     "output_type": "stream",
     "text": [
      "Accuracy :  0.9814814814814815\n"
     ]
    }
   ],
   "source": [
    "#𝑀1 : Classification accuracy\n",
    "from sklearn.metrics import accuracy_score\n",
    "acc_rforest_norm = accuracy_score(test_labels, y_pred)\n",
    "print('Accuracy : ', acc_rforest_norm)"
   ]
  },
  {
   "cell_type": "code",
   "execution_count": 89,
   "metadata": {},
   "outputs": [
    {
     "name": "stdout",
     "output_type": "stream",
     "text": [
      "F1-score : 0.9814322628276116\n"
     ]
    }
   ],
   "source": [
    "#𝑀2 : F1-score\n",
    "from sklearn.metrics import f1_score\n",
    "f1_rforest_norm = f1_score(test_labels, y_pred, average='weighted')\n",
    "print('F1-score :',f1_rforest_norm)"
   ]
  },
  {
   "cell_type": "code",
   "execution_count": 90,
   "metadata": {},
   "outputs": [
    {
     "name": "stdout",
     "output_type": "stream",
     "text": [
      "Mean Squared Error :  0.018518518518518517\n"
     ]
    }
   ],
   "source": [
    "#𝑀3 : Mean squared error\n",
    "from sklearn.metrics import mean_squared_error\n",
    "mse_rforest_norm = mean_squared_error(test_labels, y_pred)\n",
    "print('Mean Squared Error : ',mse_rforest_norm)"
   ]
  },
  {
   "cell_type": "code",
   "execution_count": 91,
   "metadata": {},
   "outputs": [
    {
     "name": "stdout",
     "output_type": "stream",
     "text": [
      "Hamming Loss :  0.018518518518518517\n"
     ]
    }
   ],
   "source": [
    "#𝑀4 : Hamming loss\n",
    "from sklearn.metrics import hamming_loss\n",
    "hamloss_rforest_norm = hamming_loss(test_labels, y_pred)\n",
    "print('Hamming Loss : ',hamloss_rforest_norm)"
   ]
  },
  {
   "cell_type": "markdown",
   "metadata": {},
   "source": [
    "# Feed-forward Neural Network with two hidden layers"
   ]
  },
  {
   "cell_type": "code",
   "execution_count": 92,
   "metadata": {},
   "outputs": [
    {
     "data": {
      "text/plain": [
       "MLPClassifier(alpha=0.3, hidden_layer_sizes=(10, 11), max_iter=1000)"
      ]
     },
     "execution_count": 92,
     "metadata": {},
     "output_type": "execute_result"
    }
   ],
   "source": [
    "from sklearn.neural_network import MLPClassifier\n",
    "mlp = MLPClassifier(activation='relu', hidden_layer_sizes=(10,11), alpha = 0.3, max_iter = 1000)\n",
    "\n",
    "mlp.fit(train_set_std, train_labels)"
   ]
  },
  {
   "cell_type": "markdown",
   "metadata": {},
   "source": [
    "### Model Evaluation"
   ]
  },
  {
   "cell_type": "code",
   "execution_count": 93,
   "metadata": {},
   "outputs": [
    {
     "name": "stdout",
     "output_type": "stream",
     "text": [
      "Misclassified examples (All Features): 1\n"
     ]
    }
   ],
   "source": [
    "y_pred = mlp.predict(test_set_std)\n",
    "print('Misclassified examples (All Features): %d' % (test_labels != y_pred).sum())"
   ]
  },
  {
   "cell_type": "markdown",
   "metadata": {},
   "source": [
    "### Metrics"
   ]
  },
  {
   "cell_type": "code",
   "execution_count": 94,
   "metadata": {},
   "outputs": [
    {
     "name": "stdout",
     "output_type": "stream",
     "text": [
      "Accuracy :  0.9814814814814815\n"
     ]
    }
   ],
   "source": [
    "#𝑀1 : Classification accuracy\n",
    "from sklearn.metrics import accuracy_score\n",
    "acc_nnet_norm = accuracy_score(test_labels, y_pred)\n",
    "print('Accuracy : ', acc_nnet_norm)"
   ]
  },
  {
   "cell_type": "code",
   "execution_count": 95,
   "metadata": {},
   "outputs": [
    {
     "name": "stdout",
     "output_type": "stream",
     "text": [
      "F1-score : 0.9814322628276116\n"
     ]
    }
   ],
   "source": [
    "#𝑀2 : F1-score\n",
    "from sklearn.metrics import f1_score\n",
    "f1_nnet_norm = f1_score(test_labels, y_pred, average='weighted')\n",
    "print('F1-score :',f1_nnet_norm)"
   ]
  },
  {
   "cell_type": "code",
   "execution_count": 96,
   "metadata": {},
   "outputs": [
    {
     "name": "stdout",
     "output_type": "stream",
     "text": [
      "Mean Squared Error :  0.018518518518518517\n"
     ]
    }
   ],
   "source": [
    "#𝑀3 : Mean squared error\n",
    "from sklearn.metrics import mean_squared_error\n",
    "mse_nnet_norm = mean_squared_error(test_labels, y_pred)\n",
    "print('Mean Squared Error : ',mse_nnet_norm)"
   ]
  },
  {
   "cell_type": "code",
   "execution_count": 97,
   "metadata": {
    "scrolled": true
   },
   "outputs": [
    {
     "name": "stdout",
     "output_type": "stream",
     "text": [
      "Hamming Loss :  0.018518518518518517\n"
     ]
    }
   ],
   "source": [
    "#𝑀4 : Hamming loss\n",
    "from sklearn.metrics import hamming_loss\n",
    "hamloss_nnet_norm = hamming_loss(test_labels, y_pred)\n",
    "print('Hamming Loss : ',hamloss_nnet_norm)"
   ]
  },
  {
   "cell_type": "markdown",
   "metadata": {},
   "source": [
    "# Plots"
   ]
  },
  {
   "cell_type": "markdown",
   "metadata": {},
   "source": [
    "## No Normalazation"
   ]
  },
  {
   "cell_type": "markdown",
   "metadata": {},
   "source": [
    "### IRIS Classification Accuracy Metrics"
   ]
  },
  {
   "cell_type": "code",
   "execution_count": 98,
   "metadata": {},
   "outputs": [
    {
     "data": {
      "image/png": "[encoded data removed]",
      "text/plain": [
       "<Figure size 432x288 with 1 Axes>"
      ]
     },
     "metadata": {
      "needs_background": "light"
     },
     "output_type": "display_data"
    }
   ],
   "source": [
    "import numpy as np\n",
    "import matplotlib.pyplot as plt\n",
    "classifications = [acc_logre_nonorm, acc_perc_nonorm, acc_svm_lk_nonorm, acc_svm_rbf_nonorm, acc_dtree_nonorm, acc_rforest_nonorm, acc_nnet_nonorm]\n",
    "scores = ('Logistic Regression', 'Perceptron', 'SVM Linear', 'SVM RBF', 'Decision Tree', 'Random Forests', 'Neural Network')\n",
    "y_pos = np.arange(len(scores))\n",
    "plt.barh(y_pos, classifications)\n",
    "plt.yticks(y_pos, scores)\n",
    "plt.xlabel('Scores')\n",
    "plt.ylabel('Classifiers')\n",
    "plt.title('Wine Classification Accuracy Metrics')\n",
    "plt.show()\n"
   ]
  },
  {
   "cell_type": "code",
   "execution_count": 99,
   "metadata": {},
   "outputs": [
    {
     "data": {
      "image/png": "[encoded data removed]",
      "text/plain": [
       "<Figure size 432x288 with 1 Axes>"
      ]
     },
     "metadata": {
      "needs_background": "light"
     },
     "output_type": "display_data"
    }
   ],
   "source": [
    "import numpy as np\n",
    "import matplotlib.pyplot as plt\n",
    "classifications = [f1_logre_nonorm, f1_perc_nonorm, f1_svm_lk_nonorm, f1_svm_rbf_nonorm, f1_dtree_nonorm, f1_rforest_nonorm, f1_nnet_nonorm]\n",
    "scores = ('Logistic Regression', 'Perceptron', 'SVM Linear', 'SVM RBF', 'Decision Tree', 'Random Forests', 'Neural Network')\n",
    "y_pos = np.arange(len(scores))\n",
    "plt.barh(y_pos, classifications)\n",
    "plt.yticks(y_pos, scores)\n",
    "plt.xlabel('Scores')\n",
    "plt.ylabel('Classifiers')\n",
    "plt.title('Wine F1-Score Metrics')\n",
    "plt.show()\n"
   ]
  },
  {
   "cell_type": "code",
   "execution_count": 100,
   "metadata": {},
   "outputs": [
    {
     "data": {
      "image/png": "[encoded data removed]",
      "text/plain": [
       "<Figure size 432x288 with 1 Axes>"
      ]
     },
     "metadata": {
      "needs_background": "light"
     },
     "output_type": "display_data"
    }
   ],
   "source": [
    "import numpy as np\n",
    "import matplotlib.pyplot as plt\n",
    "classifications = [mse_logre_nonorm, mse_perc_nonorm, mse_svm_lk_nonorm, mse_svm_rbf_nonorm, mse_dtree_nonorm, mse_rforest_nonorm, mse_nnet_nonorm]\n",
    "scores = ('Logistic Regression', 'Perceptron', 'SVM Linear', 'SVM RBF', 'Decision Tree', 'Random Forests', 'Neural Network')\n",
    "y_pos = np.arange(len(scores))\n",
    "plt.barh(y_pos, classifications)\n",
    "plt.yticks(y_pos, scores)\n",
    "plt.xlabel('Scores')\n",
    "plt.ylabel('Classifiers')\n",
    "plt.title('Wine Mean Squared Error Metrics')\n",
    "plt.show()"
   ]
  },
  {
   "cell_type": "code",
   "execution_count": 101,
   "metadata": {},
   "outputs": [
    {
     "data": {
      "image/png": "[encoded data removed]",
      "text/plain": [
       "<Figure size 432x288 with 1 Axes>"
      ]
     },
     "metadata": {
      "needs_background": "light"
     },
     "output_type": "display_data"
    }
   ],
   "source": [
    "import numpy as np\n",
    "import matplotlib.pyplot as plt\n",
    "classifications = [hamloss_logre_nonorm, hamloss_perc_nonorm, hamloss_svm_lk_nonorm, hamloss_svm_rbf_nonorm, hamloss_dtree_nonorm, hamloss_rforest_nonorm, hamloss_nnet_nonorm]\n",
    "scores = ('Logistic Regression', 'Perceptron', 'SVM Linear', 'SVM RBF', 'Decision Tree', 'Random Forests', 'Neural Network')\n",
    "y_pos = np.arange(len(scores))\n",
    "plt.barh(y_pos, classifications)\n",
    "plt.yticks(y_pos, scores)\n",
    "plt.xlabel('Scores')\n",
    "plt.ylabel('Classifiers')\n",
    "plt.title('Wine Hamming Loss Metrics')\n",
    "plt.show()"
   ]
  },
  {
   "cell_type": "markdown",
   "metadata": {},
   "source": [
    "## Feature Standardization"
   ]
  },
  {
   "cell_type": "markdown",
   "metadata": {},
   "source": [
    "### IRIS Classification Accuracy Metrics"
   ]
  },
  {
   "cell_type": "code",
   "execution_count": 102,
   "metadata": {},
   "outputs": [
    {
     "data": {
      "image/png": "[encoded data removed]",
      "text/plain": [
       "<Figure size 432x288 with 1 Axes>"
      ]
     },
     "metadata": {
      "needs_background": "light"
     },
     "output_type": "display_data"
    }
   ],
   "source": [
    "import numpy as np\n",
    "import matplotlib.pyplot as plt\n",
    "classifications = [acc_logre_norm, acc_perc_norm, acc_svm_lk_norm, acc_svm_rbf_norm, acc_dtree_norm, acc_rforest_norm, acc_nnet_norm]\n",
    "scores = ('Logistic Regression', 'Perceptron', 'SVM Linear', 'SVM RBF', 'Decision Tree', 'Random Forests', 'Neural Network')\n",
    "y_pos = np.arange(len(scores))\n",
    "plt.barh(y_pos, classifications)\n",
    "plt.yticks(y_pos, scores)\n",
    "plt.xlabel('Scores')\n",
    "plt.ylabel('Classifiers')\n",
    "plt.title('Wine Classification Accuracy Metrics')\n",
    "plt.show()\n"
   ]
  },
  {
   "cell_type": "code",
   "execution_count": 103,
   "metadata": {},
   "outputs": [
    {
     "data": {
      "image/png": "[encoded data removed]",
      "text/plain": [
       "<Figure size 432x288 with 1 Axes>"
      ]
     },
     "metadata": {
      "needs_background": "light"
     },
     "output_type": "display_data"
    }
   ],
   "source": [
    "import numpy as np\n",
    "import matplotlib.pyplot as plt\n",
    "classifications = [f1_logre_norm, f1_perc_norm, f1_svm_lk_norm, f1_svm_rbf_norm, f1_dtree_norm, f1_rforest_norm, f1_nnet_norm]\n",
    "scores = ('Logistic Regression', 'Perceptron', 'SVM Linear', 'SVM RBF', 'Decision Tree', 'Random Forests', 'Neural Network')\n",
    "y_pos = np.arange(len(scores))\n",
    "plt.barh(y_pos, classifications)\n",
    "plt.yticks(y_pos, scores)\n",
    "plt.xlabel('Scores')\n",
    "plt.ylabel('Classifiers')\n",
    "plt.title('Wine F1-Score Metrics')\n",
    "plt.show()\n"
   ]
  },
  {
   "cell_type": "code",
   "execution_count": 104,
   "metadata": {},
   "outputs": [
    {
     "data": {
      "image/png": "[encoded data removed]",
      "text/plain": [
       "<Figure size 432x288 with 1 Axes>"
      ]
     },
     "metadata": {
      "needs_background": "light"
     },
     "output_type": "display_data"
    }
   ],
   "source": [
    "import numpy as np\n",
    "import matplotlib.pyplot as plt\n",
    "classifications = [mse_logre_norm, mse_perc_norm, mse_svm_lk_norm, mse_svm_rbf_norm, mse_dtree_norm, mse_rforest_norm, mse_nnet_norm]\n",
    "scores = ('Logistic Regression', 'Perceptron', 'SVM Linear', 'SVM RBF', 'Decision Tree', 'Random Forests', 'Neural Network')\n",
    "y_pos = np.arange(len(scores))\n",
    "plt.barh(y_pos, classifications)\n",
    "plt.yticks(y_pos, scores)\n",
    "plt.xlabel('Scores')\n",
    "plt.ylabel('Classifiers')\n",
    "plt.title('Wine Mean Squared Error Metrics')\n",
    "plt.show()"
   ]
  },
  {
   "cell_type": "code",
   "execution_count": 105,
   "metadata": {},
   "outputs": [
    {
     "data": {
      "image/png": "[encoded data removed]",
      "text/plain": [
       "<Figure size 432x288 with 1 Axes>"
      ]
     },
     "metadata": {
      "needs_background": "light"
     },
     "output_type": "display_data"
    }
   ],
   "source": [
    "import numpy as np\n",
    "import matplotlib.pyplot as plt\n",
    "classifications = [hamloss_logre_norm, hamloss_perc_norm, hamloss_svm_lk_norm, hamloss_svm_rbf_norm, hamloss_dtree_norm, hamloss_rforest_norm, hamloss_nnet_norm]\n",
    "scores = ('Logistic Regression', 'Perceptron', 'SVM Linear', 'SVM RBF', 'Decision Tree', 'Random Forests', 'Neural Network')\n",
    "y_pos = np.arange(len(scores))\n",
    "plt.barh(y_pos, classifications)\n",
    "plt.yticks(y_pos, scores)\n",
    "plt.xlabel('Scores')\n",
    "plt.ylabel('Classifiers')\n",
    "plt.title('Wine Hamming Loss Metrics')\n",
    "plt.show()"
   ]
  },
  {
   "cell_type": "markdown",
   "metadata": {},
   "source": [
    "# Comparison plots of the classifiers' performance"
   ]
  },
  {
   "cell_type": "markdown",
   "metadata": {},
   "source": [
    "### (Analysis in Notebook 7)"
   ]
  },
  {
   "cell_type": "code",
   "execution_count": 106,
   "metadata": {},
   "outputs": [
    {
     "data": {
      "image/png": "[encoded data removed]",
      "text/plain": [
       "<Figure size 432x288 with 1 Axes>"
      ]
     },
     "metadata": {
      "needs_background": "light"
     },
     "output_type": "display_data"
    }
   ],
   "source": [
    "import numpy as np\n",
    "import matplotlib.pyplot as plt\n",
    "\n",
    "# data to plot\n",
    "n_groups = 7\n",
    "No_Normalazation = (acc_logre_nonorm, acc_perc_nonorm, acc_svm_lk_nonorm, acc_svm_rbf_nonorm, acc_dtree_nonorm, acc_rforest_nonorm, acc_nnet_nonorm)\n",
    "Feature_Standardization = (acc_logre_norm, acc_perc_norm, acc_svm_lk_norm, acc_svm_rbf_norm, acc_dtree_norm, acc_rforest_norm, acc_nnet_norm)\n",
    "\n",
    "# create plot\n",
    "fig, ax = plt.subplots()\n",
    "index = np.arange(n_groups)\n",
    "bar_width = 0.25\n",
    "opacity = 0.8\n",
    "plt.ylim(0.00, 1.0)\n",
    "\n",
    "rects1 = plt.bar(index, No_Normalazation, bar_width,\n",
    "alpha=opacity,\n",
    "color='b',\n",
    "label='No Normalazation')\n",
    "\n",
    "rects2 = plt.bar(index + bar_width, Feature_Standardization, bar_width,\n",
    "alpha=opacity,\n",
    "color='g',\n",
    "label='Feature Standardization')\n",
    "\n",
    "plt.xlabel('Classifiers')\n",
    "plt.ylabel('Scores')\n",
    "plt.title('Wine Classification Accuracy Metrics')\n",
    "plt.xticks(index + bar_width, ('Logistic Regression', 'Perceptron', 'SVM Linear', 'SVM RBF', 'Decision Tree', 'Random Forests', 'Neural Network'), rotation = 45)\n",
    "plt.legend()\n",
    "\n",
    "plt.tight_layout()\n",
    "plt.show()"
   ]
  },
  {
   "cell_type": "code",
   "execution_count": 107,
   "metadata": {},
   "outputs": [
    {
     "data": {
      "image/png": "[encoded data removed]",
      "text/plain": [
       "<Figure size 432x288 with 1 Axes>"
      ]
     },
     "metadata": {
      "needs_background": "light"
     },
     "output_type": "display_data"
    }
   ],
   "source": [
    "import numpy as np\n",
    "import matplotlib.pyplot as plt\n",
    "# data to plot\n",
    "n_groups = 7\n",
    "No_Normalazation = (f1_logre_nonorm, f1_perc_nonorm, f1_svm_lk_nonorm, f1_svm_rbf_nonorm, f1_dtree_nonorm, f1_rforest_nonorm, f1_nnet_nonorm)\n",
    "Feature_Standardization = (f1_logre_norm, f1_perc_norm, f1_svm_lk_norm, f1_svm_rbf_norm, f1_dtree_norm, f1_rforest_norm, f1_nnet_norm)\n",
    "\n",
    "# create plot\n",
    "fig, ax = plt.subplots()\n",
    "index = np.arange(n_groups)\n",
    "bar_width = 0.25\n",
    "opacity = 0.8\n",
    "plt.ylim(0.00, 1.0)\n",
    "\n",
    "rects1 = plt.bar(index, No_Normalazation, bar_width,\n",
    "alpha=opacity,\n",
    "color='b',\n",
    "label='No Normalazation')\n",
    "\n",
    "rects2 = plt.bar(index + bar_width, Feature_Standardization, bar_width,\n",
    "alpha=opacity,\n",
    "color='g',\n",
    "label='Feature Standardization')\n",
    "\n",
    "plt.xlabel('Classifiers')\n",
    "plt.ylabel('Scores')\n",
    "plt.title('Wine F1-Score Metrics')\n",
    "plt.xticks(index + bar_width, ('Logistic Regression', 'Perceptron', 'SVM Linear', 'SVM RBF', 'Decision Tree', 'Random Forests', 'Neural Network'), rotation = 45)\n",
    "plt.legend()\n",
    "\n",
    "plt.tight_layout()\n",
    "plt.show()"
   ]
  },
  {
   "cell_type": "code",
   "execution_count": 108,
   "metadata": {},
   "outputs": [
    {
     "data": {
      "image/png": "[encoded data removed]",
      "text/plain": [
       "<Figure size 432x288 with 1 Axes>"
      ]
     },
     "metadata": {
      "needs_background": "light"
     },
     "output_type": "display_data"
    }
   ],
   "source": [
    "import numpy as np\n",
    "import matplotlib.pyplot as plt\n",
    "# data to plot\n",
    "n_groups = 7\n",
    "No_Normalazation = (mse_logre_nonorm, mse_perc_nonorm, mse_svm_lk_nonorm, mse_svm_rbf_nonorm, mse_dtree_nonorm, mse_rforest_nonorm, mse_nnet_nonorm)\n",
    "Feature_Standardization = (mse_logre_norm, mse_perc_norm, mse_svm_lk_norm, mse_svm_rbf_norm, mse_dtree_norm, mse_rforest_norm, mse_nnet_norm)\n",
    "\n",
    "# create plot\n",
    "fig, ax = plt.subplots()\n",
    "index = np.arange(n_groups)\n",
    "bar_width = 0.25\n",
    "opacity = 0.8\n",
    "\n",
    "\n",
    "rects1 = plt.bar(index, No_Normalazation, bar_width,\n",
    "alpha=opacity,\n",
    "color='b',\n",
    "label='No Normalazation')\n",
    "\n",
    "rects2 = plt.bar(index + bar_width, Feature_Standardization, bar_width,\n",
    "alpha=opacity,\n",
    "color='g',\n",
    "label='Feature Standardization')\n",
    "\n",
    "plt.xlabel('Classifiers')\n",
    "plt.ylabel('Scores')\n",
    "plt.title('Wine Mean Squared Error Metrics')\n",
    "plt.xticks(index + bar_width, ('Logistic Regression', 'Perceptron', 'SVM Linear', 'SVM RBF', 'Decision Tree', 'Random Forests', 'Neural Network'), rotation = 45)\n",
    "plt.legend()\n",
    "\n",
    "plt.tight_layout()\n",
    "plt.show()"
   ]
  },
  {
   "cell_type": "code",
   "execution_count": 109,
   "metadata": {},
   "outputs": [
    {
     "data": {
      "image/png": "[encoded data removed]",
      "text/plain": [
       "<Figure size 432x288 with 1 Axes>"
      ]
     },
     "metadata": {
      "needs_background": "light"
     },
     "output_type": "display_data"
    }
   ],
   "source": [
    "import numpy as np\n",
    "import matplotlib.pyplot as plt\n",
    "# data to plot\n",
    "n_groups = 7\n",
    "No_Normalazation = (hamloss_logre_nonorm, hamloss_perc_nonorm, hamloss_svm_lk_nonorm, hamloss_svm_rbf_nonorm, hamloss_dtree_nonorm, hamloss_rforest_nonorm, hamloss_nnet_nonorm)\n",
    "Feature_Standardization = (hamloss_logre_norm, hamloss_perc_norm, hamloss_svm_lk_norm, hamloss_svm_rbf_norm, hamloss_dtree_norm, hamloss_rforest_norm, hamloss_nnet_norm)\n",
    "\n",
    "# create plot\n",
    "fig, ax = plt.subplots()\n",
    "index = np.arange(n_groups)\n",
    "bar_width = 0.25\n",
    "opacity = 0.8\n",
    "\n",
    "\n",
    "rects1 = plt.bar(index, No_Normalazation, bar_width,\n",
    "alpha=opacity,\n",
    "color='b',\n",
    "label='No Normalazation')\n",
    "\n",
    "rects2 = plt.bar(index + bar_width, Feature_Standardization, bar_width,\n",
    "alpha=opacity,\n",
    "color='g',\n",
    "label='Feature Standardization')\n",
    "\n",
    "plt.xlabel('Classifiers')\n",
    "plt.ylabel('Scores')\n",
    "plt.title('Wine Hamming Loss Metrics')\n",
    "plt.xticks(index + bar_width, ('Logistic Regression', 'Perceptron', 'SVM Linear', 'SVM RBF', 'Decision Tree', 'Random Forests', 'Neural Network'), rotation = 45)\n",
    "plt.legend()\n",
    "\n",
    "plt.tight_layout()\n",
    "plt.show()"
   ]
  },
  {
   "cell_type": "code",
   "execution_count": null,
   "metadata": {},
   "outputs": [],
   "source": []
  }
 ],
 "metadata": {
  "kernelspec": {
   "display_name": "Python 3",
   "language": "python",
   "name": "python3"
  },
  "language_info": {
   "codemirror_mode": {
    "name": "ipython",
    "version": 3
   },
   "file_extension": ".py",
   "mimetype": "text/x-python",
   "name": "python",
   "nbconvert_exporter": "python",
   "pygments_lexer": "ipython3",
   "version": "3.8.5"
  }
 },
 "nbformat": 4,
 "nbformat_minor": 4
}
