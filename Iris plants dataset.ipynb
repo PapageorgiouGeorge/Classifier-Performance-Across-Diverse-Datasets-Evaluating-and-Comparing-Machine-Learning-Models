{
 "cells": [
  {
   "cell_type": "markdown",
   "metadata": {},
   "source": [
    "# Using the Iris plants Data Set"
   ]
  },
  {
   "cell_type": "code",
   "execution_count": 1,
   "metadata": {},
   "outputs": [],
   "source": [
    "# Load the dataset\n",
    "from sklearn.datasets import load_iris\n",
    "iris = load_iris()"
   ]
  },
  {
   "cell_type": "code",
   "execution_count": 2,
   "metadata": {},
   "outputs": [
    {
     "name": "stdout",
     "output_type": "stream",
     "text": [
      ".. _iris_dataset:\n",
      "\n",
      "Iris plants dataset\n",
      "--------------------\n",
      "\n",
      "**Data Set Characteristics:**\n",
      "\n",
      "    :Number of Instances: 150 (50 in each of three classes)\n",
      "    :Number of Attributes: 4 numeric, predictive attributes and the class\n",
      "    :Attribute Information:\n",
      "        - sepal length in cm\n",
      "        - sepal width in cm\n",
      "        - petal length in cm\n",
      "        - petal width in cm\n",
      "        - class:\n",
      "                - Iris-Setosa\n",
      "                - Iris-Versicolour\n",
      "                - Iris-Virginica\n",
      "                \n",
      "    :Summary Statistics:\n",
      "\n",
      "    ============== ==== ==== ======= ===== ====================\n",
      "                    Min  Max   Mean    SD   Class Correlation\n",
      "    ============== ==== ==== ======= ===== ====================\n",
      "    sepal length:   4.3  7.9   5.84   0.83    0.7826\n",
      "    sepal width:    2.0  4.4   3.05   0.43   -0.4194\n",
      "    petal length:   1.0  6.9   3.76   1.76    0.9490  (high!)\n",
      "    petal width:    0.1  2.5   1.20   0.76    0.9565  (high!)\n",
      "    ============== ==== ==== ======= ===== ====================\n",
      "\n",
      "    :Missing Attribute Values: None\n",
      "    :Class Distribution: 33.3% for each of 3 classes.\n",
      "    :Creator: R.A. Fisher\n",
      "    :Donor: Michael Marshall (MARSHALL%PLU@io.arc.nasa.gov)\n",
      "    :Date: July, 1988\n",
      "\n",
      "The famous Iris database, first used by Sir R.A. Fisher. The dataset is taken\n",
      "from Fisher's paper. Note that it's the same as in R, but not as in the UCI\n",
      "Machine Learning Repository, which has two wrong data points.\n",
      "\n",
      "This is perhaps the best known database to be found in the\n",
      "pattern recognition literature.  Fisher's paper is a classic in the field and\n",
      "is referenced frequently to this day.  (See Duda & Hart, for example.)  The\n",
      "data set contains 3 classes of 50 instances each, where each class refers to a\n",
      "type of iris plant.  One class is linearly separable from the other 2; the\n",
      "latter are NOT linearly separable from each other.\n",
      "\n",
      ".. topic:: References\n",
      "\n",
      "   - Fisher, R.A. \"The use of multiple measurements in taxonomic problems\"\n",
      "     Annual Eugenics, 7, Part II, 179-188 (1936); also in \"Contributions to\n",
      "     Mathematical Statistics\" (John Wiley, NY, 1950).\n",
      "   - Duda, R.O., & Hart, P.E. (1973) Pattern Classification and Scene Analysis.\n",
      "     (Q327.D83) John Wiley & Sons.  ISBN 0-471-22361-1.  See page 218.\n",
      "   - Dasarathy, B.V. (1980) \"Nosing Around the Neighborhood: A New System\n",
      "     Structure and Classification Rule for Recognition in Partially Exposed\n",
      "     Environments\".  IEEE Transactions on Pattern Analysis and Machine\n",
      "     Intelligence, Vol. PAMI-2, No. 1, 67-71.\n",
      "   - Gates, G.W. (1972) \"The Reduced Nearest Neighbor Rule\".  IEEE Transactions\n",
      "     on Information Theory, May 1972, 431-433.\n",
      "   - See also: 1988 MLC Proceedings, 54-64.  Cheeseman et al\"s AUTOCLASS II\n",
      "     conceptual clustering system finds 3 classes in the data.\n",
      "   - Many, many more ...\n"
     ]
    }
   ],
   "source": [
    "# Display a description of the dataset\n",
    "print(iris.DESCR)"
   ]
  },
  {
   "cell_type": "code",
   "execution_count": 3,
   "metadata": {
    "scrolled": true
   },
   "outputs": [
    {
     "name": "stdout",
     "output_type": "stream",
     "text": [
      "[0 0 0 0 0 0 0 0 0 0 0 0 0 0 0 0 0 0 0 0 0 0 0 0 0 0 0 0 0 0 0 0 0 0 0 0 0\n",
      " 0 0 0 0 0 0 0 0 0 0 0 0 0 1 1 1 1 1 1 1 1 1 1 1 1 1 1 1 1 1 1 1 1 1 1 1 1\n",
      " 1 1 1 1 1 1 1 1 1 1 1 1 1 1 1 1 1 1 1 1 1 1 1 1 1 1 2 2 2 2 2 2 2 2 2 2 2\n",
      " 2 2 2 2 2 2 2 2 2 2 2 2 2 2 2 2 2 2 2 2 2 2 2 2 2 2 2 2 2 2 2 2 2 2 2 2 2\n",
      " 2 2]\n"
     ]
    }
   ],
   "source": [
    "# print the target variables \n",
    "print(iris.target)"
   ]
  },
  {
   "cell_type": "code",
   "execution_count": 4,
   "metadata": {},
   "outputs": [
    {
     "name": "stdout",
     "output_type": "stream",
     "text": [
      "Class labels: [0 1 2]\n"
     ]
    }
   ],
   "source": [
    "import numpy as np\n",
    "\n",
    "\n",
    "print('Class labels:', np.unique(iris.target))"
   ]
  },
  {
   "cell_type": "code",
   "execution_count": 5,
   "metadata": {},
   "outputs": [],
   "source": [
    "from sklearn.model_selection import train_test_split\n",
    "train_set, test_set, train_labels, test_labels = train_test_split(\n",
    "                              iris.data,               # features\n",
    "                              iris.target,             # labels\n",
    "                              test_size = 0.30,          # split ratio\n",
    "                              random_state = 1,          # set random seed\n",
    "                              stratify = iris.target)  # randomize based on labels"
   ]
  },
  {
   "cell_type": "code",
   "execution_count": 6,
   "metadata": {},
   "outputs": [
    {
     "name": "stdout",
     "output_type": "stream",
     "text": [
      "Labels count in y: [50 50 50]\n",
      "Labels count in y_train: [35 35 35]\n",
      "Labels count in y_test: [15 15 15]\n"
     ]
    }
   ],
   "source": [
    "print('Labels count in y:', np.bincount(iris.target))\n",
    "print('Labels count in y_train:', np.bincount(train_labels))\n",
    "print('Labels count in y_test:', np.bincount(test_labels))"
   ]
  },
  {
   "cell_type": "markdown",
   "metadata": {},
   "source": [
    "# No normalization (use raw features)"
   ]
  },
  {
   "cell_type": "markdown",
   "metadata": {},
   "source": [
    "## Logistic Regression"
   ]
  },
  {
   "cell_type": "code",
   "execution_count": 7,
   "metadata": {},
   "outputs": [
    {
     "data": {
      "text/plain": [
       "LogisticRegression(max_iter=3000)"
      ]
     },
     "execution_count": 7,
     "metadata": {},
     "output_type": "execute_result"
    }
   ],
   "source": [
    "from sklearn import linear_model\n",
    "x = train_set[:,0:4]      \n",
    "y = train_labels             \n",
    "\n",
    "log_regress = linear_model.LogisticRegression(max_iter = 3000)\n",
    "log_regress.fit(X = x, y = y)"
   ]
  },
  {
   "cell_type": "code",
   "execution_count": 8,
   "metadata": {},
   "outputs": [
    {
     "name": "stdout",
     "output_type": "stream",
     "text": [
      "[  9.77833322   3.11464019 -12.89297341]\n",
      "[[-0.47927525  0.78036999 -2.29258291 -0.91834137]\n",
      " [ 0.15205962 -0.21849006 -0.07826914 -0.69417198]\n",
      " [ 0.32721563 -0.56187993  2.37085205  1.61251336]]\n"
     ]
    }
   ],
   "source": [
    "print(log_regress.intercept_)    \n",
    "print(log_regress.coef_)"
   ]
  },
  {
   "cell_type": "code",
   "execution_count": 9,
   "metadata": {},
   "outputs": [
    {
     "name": "stdout",
     "output_type": "stream",
     "text": [
      "     Setosa  Versicolour     Virginica  Prediction  Original Result\n",
      "0  0.000143     0.080054  9.198030e-01           2                2\n",
      "1  0.964292     0.035707  4.353088e-07           0                0\n",
      "2  0.981807     0.018192  8.717110e-08           0                0\n",
      "3  0.010208     0.736131  2.536601e-01           1                2\n",
      "4  0.008961     0.859410  1.316287e-01           1                1\n"
     ]
    }
   ],
   "source": [
    "import pandas as pd\n",
    "\n",
    "#---get the predicted probablities and convert into a dataframe---\n",
    "preds_prob = pd.DataFrame(log_regress.predict_proba(X=test_set))\n",
    "\n",
    "#---assign column names to prediction---\n",
    "preds_prob.columns = [\"Setosa\", \"Versicolour\", \"Virginica\"]\n",
    "\n",
    "#---get the predicted class labels---\n",
    "preds = log_regress.predict(X=test_set)\n",
    "preds_class = pd.DataFrame(preds)\n",
    "preds_class.columns = [\"Prediction\"]\n",
    "\n",
    "#---actual diagnosis---\n",
    "original_result = pd.DataFrame(test_labels)\n",
    "original_result.columns = [\"Original Result\"]\n",
    "\n",
    "#---merge the three dataframes into one---\n",
    "result = pd.concat([preds_prob, preds_class, original_result], axis=1)\n",
    "print(result.head())"
   ]
  },
  {
   "cell_type": "code",
   "execution_count": 10,
   "metadata": {},
   "outputs": [
    {
     "name": "stdout",
     "output_type": "stream",
     "text": [
      "---Confusion Matrix---\n",
      "col_0   0   1   2\n",
      "row_0            \n",
      "0      15   0   0\n",
      "1       0  15   1\n",
      "2       0   0  14\n"
     ]
    }
   ],
   "source": [
    "#---generate table of predictions vs actual---\n",
    "print(\"---Confusion Matrix---\")\n",
    "print(pd.crosstab(preds, test_labels))\n"
   ]
  },
  {
   "cell_type": "code",
   "execution_count": 11,
   "metadata": {},
   "outputs": [
    {
     "name": "stdout",
     "output_type": "stream",
     "text": [
      "[[15  0  0]\n",
      " [ 0 15  0]\n",
      " [ 0  1 14]]\n"
     ]
    }
   ],
   "source": [
    "from sklearn import metrics\n",
    "#---view the confusion matrix---\n",
    "print(metrics.confusion_matrix(y_true = test_labels,  # True labels\n",
    "                               y_pred = preds))       # Predicted labels\n"
   ]
  },
  {
   "cell_type": "markdown",
   "metadata": {},
   "source": [
    "### Metrics"
   ]
  },
  {
   "cell_type": "code",
   "execution_count": 12,
   "metadata": {},
   "outputs": [
    {
     "name": "stdout",
     "output_type": "stream",
     "text": [
      "Accuracy :  0.9777777777777777\n"
     ]
    }
   ],
   "source": [
    "#𝑀1 : Classification accuracy\n",
    "from sklearn.metrics import accuracy_score\n",
    "acc_logre_nonorm = accuracy_score(test_labels, preds)\n",
    "print('Accuracy : ' ,acc_logre_nonorm)"
   ]
  },
  {
   "cell_type": "code",
   "execution_count": 13,
   "metadata": {},
   "outputs": [
    {
     "name": "stdout",
     "output_type": "stream",
     "text": [
      "F1-Score :  0.9777530589543938\n"
     ]
    }
   ],
   "source": [
    "#𝑀2 : F1-score\n",
    "from sklearn.metrics import f1_score\n",
    "f1_logre_nonorm = f1_score(test_labels, preds, average='weighted')\n",
    "print('F1-Score : ',f1_logre_nonorm)"
   ]
  },
  {
   "cell_type": "code",
   "execution_count": 14,
   "metadata": {},
   "outputs": [
    {
     "name": "stdout",
     "output_type": "stream",
     "text": [
      "Mean Squared Error :  0.022222222222222223\n"
     ]
    }
   ],
   "source": [
    "#𝑀3 : Mean squared error\n",
    "from sklearn.metrics import mean_squared_error\n",
    "mse_logre_nonorm = mean_squared_error(test_labels, preds)\n",
    "print('Mean Squared Error : ', mse_logre_nonorm)"
   ]
  },
  {
   "cell_type": "code",
   "execution_count": 15,
   "metadata": {},
   "outputs": [
    {
     "name": "stdout",
     "output_type": "stream",
     "text": [
      "Hamming Loss :  0.022222222222222223\n"
     ]
    }
   ],
   "source": [
    "#𝑀4 : Hamming loss\n",
    "from sklearn.metrics import hamming_loss\n",
    "y_true = test_labels\n",
    "y_pred = preds\n",
    "hamloss_logre_nonorm = hamming_loss(test_labels, preds)\n",
    "print('Hamming Loss : ' ,hamloss_logre_nonorm)"
   ]
  },
  {
   "cell_type": "markdown",
   "metadata": {},
   "source": [
    "## Perceptron"
   ]
  },
  {
   "cell_type": "code",
   "execution_count": 16,
   "metadata": {},
   "outputs": [
    {
     "data": {
      "text/plain": [
       "Perceptron(eta0=0.1, random_state=1)"
      ]
     },
     "execution_count": 16,
     "metadata": {},
     "output_type": "execute_result"
    }
   ],
   "source": [
    "from sklearn.linear_model import Perceptron\n",
    "ppn = Perceptron(eta0=0.1, random_state=1)\n",
    "ppn.fit(train_set, train_labels)"
   ]
  },
  {
   "cell_type": "markdown",
   "metadata": {},
   "source": [
    "### Model Evaluation"
   ]
  },
  {
   "cell_type": "code",
   "execution_count": 17,
   "metadata": {},
   "outputs": [
    {
     "name": "stdout",
     "output_type": "stream",
     "text": [
      "Misclassified examples (All Features): 1\n"
     ]
    }
   ],
   "source": [
    "y_pred = ppn.predict(test_set)\n",
    "print('Misclassified examples (All Features): %d' % (test_labels != y_pred).sum())"
   ]
  },
  {
   "cell_type": "markdown",
   "metadata": {},
   "source": [
    "### Metrics"
   ]
  },
  {
   "cell_type": "code",
   "execution_count": 18,
   "metadata": {},
   "outputs": [
    {
     "name": "stdout",
     "output_type": "stream",
     "text": [
      "Accuracy :  0.9777777777777777\n"
     ]
    }
   ],
   "source": [
    "#𝑀1 : Classification accuracy\n",
    "from sklearn.metrics import accuracy_score\n",
    "acc_perc_nonorm = accuracy_score(test_labels, y_pred)\n",
    "print('Accuracy : ' , acc_perc_nonorm)"
   ]
  },
  {
   "cell_type": "code",
   "execution_count": 19,
   "metadata": {},
   "outputs": [
    {
     "name": "stdout",
     "output_type": "stream",
     "text": [
      "F1-Score :  0.9777530589543938\n"
     ]
    }
   ],
   "source": [
    "#𝑀2 : F1-score\n",
    "from sklearn.metrics import f1_score\n",
    "f1_perc_nonorm = f1_score(test_labels, y_pred, average='weighted')\n",
    "print('F1-Score : ', f1_perc_nonorm)"
   ]
  },
  {
   "cell_type": "code",
   "execution_count": 20,
   "metadata": {},
   "outputs": [
    {
     "name": "stdout",
     "output_type": "stream",
     "text": [
      "Mean Squared error :  0.022222222222222223\n"
     ]
    }
   ],
   "source": [
    "#𝑀3 : Mean squared error\n",
    "from sklearn.metrics import mean_squared_error\n",
    "mse_perc_nonorm = mean_squared_error(test_labels, y_pred)\n",
    "print('Mean Squared error : ', mse_perc_nonorm)"
   ]
  },
  {
   "cell_type": "code",
   "execution_count": 21,
   "metadata": {},
   "outputs": [
    {
     "name": "stdout",
     "output_type": "stream",
     "text": [
      "Hamming Loss :  0.022222222222222223\n"
     ]
    }
   ],
   "source": [
    "#𝑀4 : Hamming loss\n",
    "from sklearn.metrics import hamming_loss\n",
    "hamloss_perc_nonorm = hamming_loss(test_labels, y_pred)\n",
    "print('Hamming Loss : ', hamloss_perc_nonorm)"
   ]
  },
  {
   "cell_type": "markdown",
   "metadata": {},
   "source": [
    "##  Support Vector Machines"
   ]
  },
  {
   "cell_type": "markdown",
   "metadata": {},
   "source": [
    "### With Linear Kernel"
   ]
  },
  {
   "cell_type": "code",
   "execution_count": 22,
   "metadata": {},
   "outputs": [
    {
     "data": {
      "text/plain": [
       "SVC(kernel='linear', random_state=1)"
      ]
     },
     "execution_count": 22,
     "metadata": {},
     "output_type": "execute_result"
    }
   ],
   "source": [
    "from sklearn.svm import SVC\n",
    "svm = SVC(kernel='linear', C=1.0, random_state=1)\n",
    "svm.fit(train_set, train_labels)"
   ]
  },
  {
   "cell_type": "markdown",
   "metadata": {},
   "source": [
    "### Model Evaluation"
   ]
  },
  {
   "cell_type": "code",
   "execution_count": 23,
   "metadata": {},
   "outputs": [
    {
     "name": "stdout",
     "output_type": "stream",
     "text": [
      "Misclassified examples (All Features): 1\n"
     ]
    }
   ],
   "source": [
    "y_pred = svm.predict(test_set)\n",
    "print('Misclassified examples (All Features): %d' % (test_labels != y_pred).sum())"
   ]
  },
  {
   "cell_type": "markdown",
   "metadata": {},
   "source": [
    "### Metrics"
   ]
  },
  {
   "cell_type": "code",
   "execution_count": 24,
   "metadata": {},
   "outputs": [
    {
     "name": "stdout",
     "output_type": "stream",
     "text": [
      "Accuracy :  0.9777777777777777\n"
     ]
    }
   ],
   "source": [
    "#𝑀1 : Classification accuracy\n",
    "from sklearn.metrics import accuracy_score\n",
    "acc_svm_lk_nonorm = accuracy_score(test_labels, y_pred)\n",
    "print('Accuracy : ' ,acc_svm_lk_nonorm)"
   ]
  },
  {
   "cell_type": "code",
   "execution_count": 25,
   "metadata": {},
   "outputs": [
    {
     "name": "stdout",
     "output_type": "stream",
     "text": [
      "F1-Score :  0.9777530589543938\n"
     ]
    }
   ],
   "source": [
    "#𝑀2 : F1-score\n",
    "from sklearn.metrics import f1_score\n",
    "f1_svm_lk_nonorm = f1_score(test_labels, y_pred, average='weighted')\n",
    "print('F1-Score : ', f1_svm_lk_nonorm)"
   ]
  },
  {
   "cell_type": "code",
   "execution_count": 26,
   "metadata": {},
   "outputs": [
    {
     "name": "stdout",
     "output_type": "stream",
     "text": [
      "Mean Squared Error :  0.022222222222222223\n"
     ]
    }
   ],
   "source": [
    "#𝑀3 : Mean squared error\n",
    "from sklearn.metrics import mean_squared_error\n",
    "mse_svm_lk_nonorm = mean_squared_error(test_labels, y_pred)\n",
    "print('Mean Squared Error : ', mse_svm_lk_nonorm)"
   ]
  },
  {
   "cell_type": "code",
   "execution_count": 27,
   "metadata": {},
   "outputs": [
    {
     "name": "stdout",
     "output_type": "stream",
     "text": [
      "Hamming Loss :  0.022222222222222223\n"
     ]
    }
   ],
   "source": [
    "#𝑀4 : Hamming loss\n",
    "from sklearn.metrics import hamming_loss\n",
    "hamloss_svm_lk_nonorm = hamming_loss(test_labels, y_pred)\n",
    "print('Hamming Loss : ',hamloss_svm_lk_nonorm)"
   ]
  },
  {
   "cell_type": "markdown",
   "metadata": {},
   "source": [
    "### With RBF Kernel"
   ]
  },
  {
   "cell_type": "code",
   "execution_count": 28,
   "metadata": {
    "scrolled": true
   },
   "outputs": [
    {
     "data": {
      "text/plain": [
       "SVC(random_state=1)"
      ]
     },
     "execution_count": 28,
     "metadata": {},
     "output_type": "execute_result"
    }
   ],
   "source": [
    "from sklearn.svm import SVC\n",
    "svm = SVC(kernel='rbf', C=1.0, random_state=1)\n",
    "svm.fit(train_set, train_labels)"
   ]
  },
  {
   "cell_type": "markdown",
   "metadata": {},
   "source": [
    "### Model Evaluation"
   ]
  },
  {
   "cell_type": "code",
   "execution_count": 29,
   "metadata": {},
   "outputs": [
    {
     "name": "stdout",
     "output_type": "stream",
     "text": [
      "Misclassified examples (All Features): 1\n"
     ]
    }
   ],
   "source": [
    "y_pred = svm.predict(test_set)\n",
    "print('Misclassified examples (All Features): %d' % (test_labels != y_pred).sum())"
   ]
  },
  {
   "cell_type": "markdown",
   "metadata": {},
   "source": [
    "### Metrics"
   ]
  },
  {
   "cell_type": "code",
   "execution_count": 30,
   "metadata": {},
   "outputs": [
    {
     "name": "stdout",
     "output_type": "stream",
     "text": [
      "Accuracy :  0.9777777777777777\n"
     ]
    }
   ],
   "source": [
    "#𝑀1 : Classification accuracy\n",
    "from sklearn.metrics import accuracy_score\n",
    "acc_svm_rbf_nonorm = accuracy_score(test_labels, y_pred)\n",
    "print('Accuracy : ', acc_svm_rbf_nonorm)"
   ]
  },
  {
   "cell_type": "code",
   "execution_count": 31,
   "metadata": {},
   "outputs": [
    {
     "name": "stdout",
     "output_type": "stream",
     "text": [
      "F1-score : 0.9777530589543938\n"
     ]
    }
   ],
   "source": [
    "#𝑀2 : F1-score\n",
    "from sklearn.metrics import f1_score\n",
    "f1_svm_rbf_nonorm = f1_score(test_labels, y_pred, average='weighted')\n",
    "print('F1-score :',f1_svm_rbf_nonorm)"
   ]
  },
  {
   "cell_type": "code",
   "execution_count": 32,
   "metadata": {},
   "outputs": [
    {
     "name": "stdout",
     "output_type": "stream",
     "text": [
      "Mean Squared Error :  0.022222222222222223\n"
     ]
    }
   ],
   "source": [
    "#𝑀3 : Mean squared error\n",
    "from sklearn.metrics import mean_squared_error\n",
    "mse_svm_rbf_nonorm = mean_squared_error(test_labels, y_pred)\n",
    "print('Mean Squared Error : ',mse_svm_rbf_nonorm)"
   ]
  },
  {
   "cell_type": "code",
   "execution_count": 33,
   "metadata": {},
   "outputs": [
    {
     "name": "stdout",
     "output_type": "stream",
     "text": [
      "Hamming Loss :  0.022222222222222223\n"
     ]
    }
   ],
   "source": [
    "#𝑀4 : Hamming loss\n",
    "from sklearn.metrics import hamming_loss\n",
    "hamloss_svm_rbf_nonorm = hamming_loss(test_labels, y_pred)\n",
    "print('Hamming Loss : ',hamloss_svm_rbf_nonorm)"
   ]
  },
  {
   "cell_type": "markdown",
   "metadata": {},
   "source": [
    "# Decision Tree"
   ]
  },
  {
   "cell_type": "code",
   "execution_count": 34,
   "metadata": {},
   "outputs": [
    {
     "data": {
      "text/plain": [
       "DecisionTreeClassifier(max_depth=4, random_state=1)"
      ]
     },
     "execution_count": 34,
     "metadata": {},
     "output_type": "execute_result"
    }
   ],
   "source": [
    "from sklearn.tree import DecisionTreeClassifier\n",
    "\n",
    "# Build a decision tree for classification tasks\n",
    "# citerion:  The function to measure the quality of a split. \n",
    "# max_depth: The maximum depth of the tree. If None, then nodes are expanded until all leaves are pure or\n",
    "#            until all leaves contain less than min_samples_split samples.\n",
    "# min_samples_split: The minimum number of samples required to split an internal node.\n",
    "# min_samples_leaf:  The minimum number of samples required to to be at a leaf node.\n",
    "tree_model = DecisionTreeClassifier(criterion = 'gini', max_depth = 4, random_state = 1)\n",
    "tree_model.fit(train_set, train_labels)"
   ]
  },
  {
   "cell_type": "markdown",
   "metadata": {},
   "source": [
    "### Model Evaluation"
   ]
  },
  {
   "cell_type": "code",
   "execution_count": 35,
   "metadata": {},
   "outputs": [
    {
     "name": "stdout",
     "output_type": "stream",
     "text": [
      "Misclassified examples (All Features): 1\n"
     ]
    }
   ],
   "source": [
    "y_pred = tree_model.predict(test_set)\n",
    "print('Misclassified examples (All Features): %d' % (test_labels != y_pred).sum())"
   ]
  },
  {
   "cell_type": "markdown",
   "metadata": {},
   "source": [
    "### Metrics"
   ]
  },
  {
   "cell_type": "code",
   "execution_count": 36,
   "metadata": {},
   "outputs": [
    {
     "name": "stdout",
     "output_type": "stream",
     "text": [
      "Accuracy :  0.9777777777777777\n"
     ]
    }
   ],
   "source": [
    "#𝑀1 : Classification accuracy\n",
    "from sklearn.metrics import accuracy_score\n",
    "acc_dtree_nonorm = accuracy_score(test_labels, y_pred)\n",
    "print('Accuracy : ', acc_dtree_nonorm)"
   ]
  },
  {
   "cell_type": "code",
   "execution_count": 37,
   "metadata": {},
   "outputs": [
    {
     "name": "stdout",
     "output_type": "stream",
     "text": [
      "F1-score : 0.9777530589543938\n"
     ]
    }
   ],
   "source": [
    "#𝑀2 : F1-score\n",
    "from sklearn.metrics import f1_score\n",
    "f1_dtree_nonorm = f1_score(test_labels, y_pred, average='weighted')\n",
    "print('F1-score :',f1_dtree_nonorm)"
   ]
  },
  {
   "cell_type": "code",
   "execution_count": 38,
   "metadata": {},
   "outputs": [
    {
     "name": "stdout",
     "output_type": "stream",
     "text": [
      "Mean Squared Error :  0.022222222222222223\n"
     ]
    }
   ],
   "source": [
    "#𝑀3 : Mean squared error\n",
    "from sklearn.metrics import mean_squared_error\n",
    "mse_dtree_nonorm = mean_squared_error(test_labels, y_pred)\n",
    "print('Mean Squared Error : ',mse_dtree_nonorm)"
   ]
  },
  {
   "cell_type": "code",
   "execution_count": 39,
   "metadata": {},
   "outputs": [
    {
     "name": "stdout",
     "output_type": "stream",
     "text": [
      "Hamming Loss :  0.022222222222222223\n"
     ]
    }
   ],
   "source": [
    "#𝑀4 : Hamming loss\n",
    "from sklearn.metrics import hamming_loss\n",
    "hamloss_dtree_nonorm = hamming_loss(test_labels, y_pred)\n",
    "print('Hamming Loss : ',hamloss_dtree_nonorm)"
   ]
  },
  {
   "cell_type": "markdown",
   "metadata": {},
   "source": [
    "# Random Forests"
   ]
  },
  {
   "cell_type": "code",
   "execution_count": 40,
   "metadata": {},
   "outputs": [
    {
     "data": {
      "text/plain": [
       "RandomForestClassifier(n_estimators=25, n_jobs=-1, random_state=1)"
      ]
     },
     "execution_count": 40,
     "metadata": {},
     "output_type": "execute_result"
    }
   ],
   "source": [
    "from sklearn.ensemble import RandomForestClassifier\n",
    "\n",
    "# Create a Random Forest comprised of 25 decision trees\n",
    "# citerion:  The function to measure the quality of a split. \n",
    "# max_depth: The maximum depth of the tree. If None, then nodes are expanded until all leaves are pure or\n",
    "#            until all leaves contain less than min_samples_split samples.\n",
    "# min_samples_split: The minimum number of samples required to split an internal node.\n",
    "# min_samples_leaf:  The minimum number of samples required to to be at a leaf node.\n",
    "forest = RandomForestClassifier(criterion='gini', n_estimators=25, random_state=1, n_jobs=-1)\n",
    "forest.fit(train_set, train_labels)"
   ]
  },
  {
   "cell_type": "markdown",
   "metadata": {},
   "source": [
    "### Model Evaluation"
   ]
  },
  {
   "cell_type": "code",
   "execution_count": 41,
   "metadata": {},
   "outputs": [
    {
     "name": "stdout",
     "output_type": "stream",
     "text": [
      "Misclassified examples (All Features): 1\n"
     ]
    }
   ],
   "source": [
    "y_pred = forest.predict(test_set)\n",
    "print('Misclassified examples (All Features): %d' % (test_labels != y_pred).sum())"
   ]
  },
  {
   "cell_type": "markdown",
   "metadata": {},
   "source": [
    "### Metrics"
   ]
  },
  {
   "cell_type": "code",
   "execution_count": 42,
   "metadata": {},
   "outputs": [
    {
     "name": "stdout",
     "output_type": "stream",
     "text": [
      "Accuracy :  0.9777777777777777\n"
     ]
    }
   ],
   "source": [
    "#𝑀1 : Classification accuracy\n",
    "from sklearn.metrics import accuracy_score\n",
    "acc_rforest_nonorm = accuracy_score(test_labels, y_pred)\n",
    "print('Accuracy : ', acc_rforest_nonorm)"
   ]
  },
  {
   "cell_type": "code",
   "execution_count": 43,
   "metadata": {},
   "outputs": [
    {
     "name": "stdout",
     "output_type": "stream",
     "text": [
      "F1-score : 0.9777530589543938\n"
     ]
    }
   ],
   "source": [
    "#𝑀2 : F1-score\n",
    "from sklearn.metrics import f1_score\n",
    "f1_rforest_nonorm = f1_score(test_labels, y_pred, average='weighted')\n",
    "print('F1-score :',f1_rforest_nonorm)"
   ]
  },
  {
   "cell_type": "code",
   "execution_count": 44,
   "metadata": {},
   "outputs": [
    {
     "name": "stdout",
     "output_type": "stream",
     "text": [
      "Mean Squared Error :  0.022222222222222223\n"
     ]
    }
   ],
   "source": [
    "#𝑀3 : Mean squared error\n",
    "from sklearn.metrics import mean_squared_error\n",
    "mse_rforest_nonorm = mean_squared_error(test_labels, y_pred)\n",
    "print('Mean Squared Error : ',mse_rforest_nonorm)"
   ]
  },
  {
   "cell_type": "code",
   "execution_count": 45,
   "metadata": {},
   "outputs": [
    {
     "name": "stdout",
     "output_type": "stream",
     "text": [
      "Hamming Loss :  0.022222222222222223\n"
     ]
    }
   ],
   "source": [
    "#𝑀4 : Hamming loss\n",
    "from sklearn.metrics import hamming_loss\n",
    "hamloss_rforest_nonorm = hamming_loss(test_labels, y_pred)\n",
    "print('Hamming Loss : ',hamloss_rforest_nonorm)"
   ]
  },
  {
   "cell_type": "markdown",
   "metadata": {},
   "source": [
    "# Feed-forward Neural Network with two hidden layers"
   ]
  },
  {
   "cell_type": "code",
   "execution_count": 46,
   "metadata": {},
   "outputs": [
    {
     "data": {
      "text/plain": [
       "MLPClassifier(alpha=0.3, hidden_layer_sizes=(10, 12), max_iter=1000)"
      ]
     },
     "execution_count": 46,
     "metadata": {},
     "output_type": "execute_result"
    }
   ],
   "source": [
    "from sklearn.neural_network import MLPClassifier\n",
    "mlp = MLPClassifier(activation='relu', hidden_layer_sizes=(10,12), alpha = 0.3, max_iter = 1000)\n",
    "\n",
    "mlp.fit(train_set, train_labels)"
   ]
  },
  {
   "cell_type": "markdown",
   "metadata": {},
   "source": [
    "### Model Evaluation"
   ]
  },
  {
   "cell_type": "code",
   "execution_count": 47,
   "metadata": {},
   "outputs": [
    {
     "name": "stdout",
     "output_type": "stream",
     "text": [
      "Misclassified examples (All Features): 1\n"
     ]
    }
   ],
   "source": [
    "y_pred = mlp.predict(test_set)\n",
    "print('Misclassified examples (All Features): %d' % (test_labels != y_pred).sum())"
   ]
  },
  {
   "cell_type": "markdown",
   "metadata": {},
   "source": [
    "### Metrics"
   ]
  },
  {
   "cell_type": "code",
   "execution_count": 48,
   "metadata": {},
   "outputs": [
    {
     "name": "stdout",
     "output_type": "stream",
     "text": [
      "Accuracy :  0.9777777777777777\n"
     ]
    }
   ],
   "source": [
    "#𝑀1 : Classification accuracy\n",
    "from sklearn.metrics import accuracy_score\n",
    "acc_nnet_nonorm = accuracy_score(test_labels, y_pred)\n",
    "print('Accuracy : ', acc_nnet_nonorm)"
   ]
  },
  {
   "cell_type": "code",
   "execution_count": 49,
   "metadata": {},
   "outputs": [
    {
     "name": "stdout",
     "output_type": "stream",
     "text": [
      "F1-score : 0.9777530589543938\n"
     ]
    }
   ],
   "source": [
    "#𝑀2 : F1-score\n",
    "from sklearn.metrics import f1_score\n",
    "f1_nnet_nonorm = f1_score(test_labels, y_pred, average='weighted')\n",
    "print('F1-score :',f1_nnet_nonorm)"
   ]
  },
  {
   "cell_type": "code",
   "execution_count": 50,
   "metadata": {},
   "outputs": [
    {
     "name": "stdout",
     "output_type": "stream",
     "text": [
      "Mean Squared Error :  0.022222222222222223\n"
     ]
    }
   ],
   "source": [
    "#𝑀3 : Mean squared error\n",
    "from sklearn.metrics import mean_squared_error\n",
    "mse_nnet_nonorm = mean_squared_error(test_labels, y_pred)\n",
    "print('Mean Squared Error : ',mse_nnet_nonorm)"
   ]
  },
  {
   "cell_type": "code",
   "execution_count": 51,
   "metadata": {},
   "outputs": [
    {
     "name": "stdout",
     "output_type": "stream",
     "text": [
      "Hamming Loss :  0.022222222222222223\n"
     ]
    }
   ],
   "source": [
    "#𝑀4 : Hamming loss\n",
    "from sklearn.metrics import hamming_loss\n",
    "hamloss_nnet_nonorm = hamming_loss(test_labels, y_pred)\n",
    "print('Hamming Loss : ',hamloss_nnet_nonorm)"
   ]
  },
  {
   "cell_type": "markdown",
   "metadata": {},
   "source": [
    "# Feature Standardization"
   ]
  },
  {
   "cell_type": "code",
   "execution_count": 52,
   "metadata": {},
   "outputs": [],
   "source": [
    "from sklearn.preprocessing import StandardScaler\n",
    "\n",
    "stdsc = StandardScaler()\n",
    "stdsc.fit(train_set)\n",
    "train_set_std = stdsc.fit_transform(train_set)\n",
    "test_set_std = stdsc.transform(test_set)"
   ]
  },
  {
   "cell_type": "markdown",
   "metadata": {},
   "source": [
    "## Logistic Regression"
   ]
  },
  {
   "cell_type": "code",
   "execution_count": 53,
   "metadata": {},
   "outputs": [
    {
     "data": {
      "text/plain": [
       "LogisticRegression(max_iter=3000)"
      ]
     },
     "execution_count": 53,
     "metadata": {},
     "output_type": "execute_result"
    }
   ],
   "source": [
    "from sklearn import linear_model\n",
    "x = train_set_std[:,0:4]      \n",
    "y = train_labels              \n",
    "\n",
    "log_regress = linear_model.LogisticRegression(max_iter = 3000)\n",
    "log_regress.fit(X = x, y = y)"
   ]
  },
  {
   "cell_type": "code",
   "execution_count": 54,
   "metadata": {},
   "outputs": [
    {
     "name": "stdout",
     "output_type": "stream",
     "text": [
      "[-0.24859523  1.84710937 -1.59851414]\n",
      "[[-1.05621992  1.01443299 -1.75912759 -1.60015229]\n",
      " [ 0.22758382 -0.26580597 -0.13715157 -0.58315373]\n",
      " [ 0.8286361  -0.74862702  1.89627916  2.18330602]]\n"
     ]
    }
   ],
   "source": [
    "print(log_regress.intercept_)    \n",
    "print(log_regress.coef_)"
   ]
  },
  {
   "cell_type": "code",
   "execution_count": 55,
   "metadata": {},
   "outputs": [
    {
     "name": "stdout",
     "output_type": "stream",
     "text": [
      "     Setosa  Versicolour     Virginica  Prediction  Original Result\n",
      "0  0.000982     0.094605  9.044132e-01           2                2\n",
      "1  0.982685     0.017314  8.094636e-07           0                0\n",
      "2  0.985086     0.014914  3.393378e-07           0                0\n",
      "3  0.018409     0.691541  2.900500e-01           1                2\n",
      "4  0.011050     0.793586  1.953639e-01           1                1\n"
     ]
    }
   ],
   "source": [
    "import pandas as pd\n",
    "\n",
    "#---get the predicted probablities and convert into a dataframe---\n",
    "preds_prob = pd.DataFrame(log_regress.predict_proba(X=test_set_std))\n",
    "\n",
    "#---assign column names to prediction---\n",
    "preds_prob.columns = [\"Setosa\", \"Versicolour\", \"Virginica\"]\n",
    "\n",
    "#---get the predicted class labels---\n",
    "preds = log_regress.predict(X=test_set_std)\n",
    "preds_class = pd.DataFrame(preds)\n",
    "preds_class.columns = [\"Prediction\"]\n",
    "\n",
    "#---actual diagnosis---\n",
    "original_result = pd.DataFrame(test_labels)\n",
    "original_result.columns = [\"Original Result\"]\n",
    "\n",
    "#---merge the three dataframes into one---\n",
    "result = pd.concat([preds_prob, preds_class, original_result], axis=1)\n",
    "print(result.head())"
   ]
  },
  {
   "cell_type": "markdown",
   "metadata": {},
   "source": [
    "### Metrics"
   ]
  },
  {
   "cell_type": "code",
   "execution_count": 56,
   "metadata": {
    "scrolled": true
   },
   "outputs": [
    {
     "name": "stdout",
     "output_type": "stream",
     "text": [
      "---Confusion Matrix---\n",
      "col_0   0   1   2\n",
      "row_0            \n",
      "0      15   0   0\n",
      "1       0  15   1\n",
      "2       0   0  14\n"
     ]
    }
   ],
   "source": [
    "#---generate table of predictions vs actual---\n",
    "print(\"---Confusion Matrix---\")\n",
    "print(pd.crosstab(preds, test_labels))"
   ]
  },
  {
   "cell_type": "code",
   "execution_count": 57,
   "metadata": {},
   "outputs": [
    {
     "name": "stdout",
     "output_type": "stream",
     "text": [
      "[[15  0  0]\n",
      " [ 0 15  0]\n",
      " [ 0  1 14]]\n"
     ]
    }
   ],
   "source": [
    "from sklearn import metrics\n",
    "#---view the confusion matrix---\n",
    "print(metrics.confusion_matrix(y_true = test_labels,  # True labels\n",
    "                               y_pred = preds))       # Predicted labels"
   ]
  },
  {
   "cell_type": "code",
   "execution_count": 58,
   "metadata": {},
   "outputs": [
    {
     "name": "stdout",
     "output_type": "stream",
     "text": [
      "Accuracy :  0.9777777777777777\n"
     ]
    }
   ],
   "source": [
    "#𝑀1 : Classification accuracy\n",
    "from sklearn.metrics import accuracy_score\n",
    "acc_logre_norm = accuracy_score(test_labels, preds)\n",
    "print('Accuracy : ', acc_logre_norm)"
   ]
  },
  {
   "cell_type": "code",
   "execution_count": 59,
   "metadata": {},
   "outputs": [
    {
     "name": "stdout",
     "output_type": "stream",
     "text": [
      "F1-Score :  0.9777530589543938\n"
     ]
    }
   ],
   "source": [
    "#𝑀2 : F1-score\n",
    "from sklearn.metrics import f1_score\n",
    "f1_logre_norm = f1_score(test_labels, preds, average='weighted')\n",
    "print('F1-Score : ',f1_logre_norm)"
   ]
  },
  {
   "cell_type": "code",
   "execution_count": 60,
   "metadata": {},
   "outputs": [
    {
     "name": "stdout",
     "output_type": "stream",
     "text": [
      "Mean Squared Error :  0.022222222222222223\n"
     ]
    }
   ],
   "source": [
    "#𝑀3 : Mean squared error\n",
    "from sklearn.metrics import mean_squared_error\n",
    "mse_logre_norm = mean_squared_error(test_labels, preds)\n",
    "print('Mean Squared Error : ', mse_logre_norm)"
   ]
  },
  {
   "cell_type": "code",
   "execution_count": 61,
   "metadata": {},
   "outputs": [
    {
     "name": "stdout",
     "output_type": "stream",
     "text": [
      "Hamming Loss :  0.022222222222222223\n"
     ]
    }
   ],
   "source": [
    "#𝑀4 : Hamming loss\n",
    "from sklearn.metrics import hamming_loss\n",
    "hamloss_logre_norm = hamming_loss(test_labels, preds)\n",
    "print(\"Hamming Loss : \", hamloss_logre_norm)"
   ]
  },
  {
   "cell_type": "markdown",
   "metadata": {},
   "source": [
    "## Perceptron"
   ]
  },
  {
   "cell_type": "code",
   "execution_count": 62,
   "metadata": {},
   "outputs": [
    {
     "name": "stdout",
     "output_type": "stream",
     "text": [
      "Class labels: [0 1 2]\n"
     ]
    }
   ],
   "source": [
    "import numpy as np\n",
    "\n",
    "\n",
    "print('Class labels:', np.unique(iris.target))"
   ]
  },
  {
   "cell_type": "code",
   "execution_count": 63,
   "metadata": {},
   "outputs": [
    {
     "data": {
      "text/plain": [
       "Perceptron(eta0=0.1, random_state=1)"
      ]
     },
     "execution_count": 63,
     "metadata": {},
     "output_type": "execute_result"
    }
   ],
   "source": [
    "from sklearn.linear_model import Perceptron\n",
    "ppn = Perceptron(eta0=0.1, random_state=1)\n",
    "ppn.fit(train_set_std, train_labels)"
   ]
  },
  {
   "cell_type": "markdown",
   "metadata": {},
   "source": [
    "### Model Evaluation"
   ]
  },
  {
   "cell_type": "code",
   "execution_count": 64,
   "metadata": {},
   "outputs": [
    {
     "name": "stdout",
     "output_type": "stream",
     "text": [
      "Misclassified examples (All Features): 2\n"
     ]
    }
   ],
   "source": [
    "y_pred = ppn.predict(test_set_std)\n",
    "print('Misclassified examples (All Features): %d' % (test_labels != y_pred).sum())"
   ]
  },
  {
   "cell_type": "markdown",
   "metadata": {},
   "source": [
    "### Metrics"
   ]
  },
  {
   "cell_type": "code",
   "execution_count": 65,
   "metadata": {},
   "outputs": [
    {
     "name": "stdout",
     "output_type": "stream",
     "text": [
      "Accuracy :  0.9555555555555556\n"
     ]
    }
   ],
   "source": [
    "#𝑀1 : Classification accuracy\n",
    "from sklearn.metrics import accuracy_score\n",
    "acc_perc_norm = accuracy_score(test_labels, y_pred)\n",
    "print('Accuracy : ', accuracy_score(test_labels, y_pred))"
   ]
  },
  {
   "cell_type": "code",
   "execution_count": 66,
   "metadata": {},
   "outputs": [
    {
     "name": "stdout",
     "output_type": "stream",
     "text": [
      "F1-Score :  0.9555308367321717\n"
     ]
    }
   ],
   "source": [
    "##𝑀2 : F1-score\n",
    "from sklearn.metrics import f1_score\n",
    "f1_perc_norm = f1_score(test_labels, y_pred, average='weighted')\n",
    "print('F1-Score : ' , f1_perc_norm)"
   ]
  },
  {
   "cell_type": "code",
   "execution_count": 67,
   "metadata": {},
   "outputs": [
    {
     "name": "stdout",
     "output_type": "stream",
     "text": [
      "Mean Squared Error :  0.044444444444444446\n"
     ]
    }
   ],
   "source": [
    "#𝑀3 : Mean squared error\n",
    "from sklearn.metrics import mean_squared_error\n",
    "mse_perc_norm = mean_squared_error(test_labels, y_pred)\n",
    "print('Mean Squared Error : ',mse_perc_norm)"
   ]
  },
  {
   "cell_type": "code",
   "execution_count": 68,
   "metadata": {},
   "outputs": [
    {
     "name": "stdout",
     "output_type": "stream",
     "text": [
      "Hamming Loss :  0.044444444444444446\n"
     ]
    }
   ],
   "source": [
    "#𝑀4 : Hamming loss\n",
    "from sklearn.metrics import hamming_loss\n",
    "hamloss_perc_norm = hamming_loss(test_labels, y_pred)\n",
    "print('Hamming Loss : ', hamloss_perc_norm)"
   ]
  },
  {
   "cell_type": "markdown",
   "metadata": {},
   "source": [
    "##  Support Vector Machines"
   ]
  },
  {
   "cell_type": "markdown",
   "metadata": {},
   "source": [
    "### With Linear Kernel"
   ]
  },
  {
   "cell_type": "code",
   "execution_count": 69,
   "metadata": {},
   "outputs": [
    {
     "data": {
      "text/plain": [
       "SVC(kernel='linear', random_state=1)"
      ]
     },
     "execution_count": 69,
     "metadata": {},
     "output_type": "execute_result"
    }
   ],
   "source": [
    "from sklearn.svm import SVC\n",
    "svm = SVC(kernel='linear', C=1.0, random_state=1)\n",
    "svm.fit(train_set_std, train_labels)"
   ]
  },
  {
   "cell_type": "markdown",
   "metadata": {},
   "source": [
    "### Model Evaluation"
   ]
  },
  {
   "cell_type": "code",
   "execution_count": 70,
   "metadata": {},
   "outputs": [
    {
     "name": "stdout",
     "output_type": "stream",
     "text": [
      "Misclassified examples (All Features): 1\n"
     ]
    }
   ],
   "source": [
    "y_pred = svm.predict(test_set_std)\n",
    "print('Misclassified examples (All Features): %d' % (test_labels != y_pred).sum())"
   ]
  },
  {
   "cell_type": "markdown",
   "metadata": {},
   "source": [
    "### Metrics"
   ]
  },
  {
   "cell_type": "code",
   "execution_count": 71,
   "metadata": {},
   "outputs": [
    {
     "name": "stdout",
     "output_type": "stream",
     "text": [
      "Accuracy :  0.9777777777777777\n"
     ]
    }
   ],
   "source": [
    "#𝑀1 : Classification accuracy\n",
    "from sklearn.metrics import accuracy_score\n",
    "acc_svm_lk_norm = accuracy_score(test_labels, y_pred)\n",
    "print('Accuracy : ' ,acc_svm_lk_norm)"
   ]
  },
  {
   "cell_type": "code",
   "execution_count": 72,
   "metadata": {},
   "outputs": [
    {
     "name": "stdout",
     "output_type": "stream",
     "text": [
      "F1-Score :  0.9777530589543938\n"
     ]
    }
   ],
   "source": [
    "#𝑀2 : F1-score\n",
    "from sklearn.metrics import f1_score\n",
    "f1_svm_lk_norm = f1_score(test_labels, y_pred, average='weighted')\n",
    "print('F1-Score : ', f1_svm_lk_norm)"
   ]
  },
  {
   "cell_type": "code",
   "execution_count": 73,
   "metadata": {},
   "outputs": [
    {
     "name": "stdout",
     "output_type": "stream",
     "text": [
      "Mean Squared Error :  0.022222222222222223\n"
     ]
    }
   ],
   "source": [
    "#𝑀3 : Mean squared error\n",
    "from sklearn.metrics import mean_squared_error\n",
    "mse_svm_lk_norm = mean_squared_error(test_labels, y_pred)\n",
    "print('Mean Squared Error : ',mse_svm_lk_norm)"
   ]
  },
  {
   "cell_type": "code",
   "execution_count": 74,
   "metadata": {},
   "outputs": [
    {
     "name": "stdout",
     "output_type": "stream",
     "text": [
      "Hamming Loss :  0.022222222222222223\n"
     ]
    }
   ],
   "source": [
    "#𝑀4 : Hamming loss\n",
    "from sklearn.metrics import hamming_loss\n",
    "hamloss_svm_lk_norm = hamming_loss(test_labels, y_pred)\n",
    "print('Hamming Loss : ',hamloss_svm_lk_norm)"
   ]
  },
  {
   "cell_type": "markdown",
   "metadata": {},
   "source": [
    "### With RBF Kernel"
   ]
  },
  {
   "cell_type": "code",
   "execution_count": 75,
   "metadata": {
    "scrolled": true
   },
   "outputs": [
    {
     "data": {
      "text/plain": [
       "SVC(random_state=1)"
      ]
     },
     "execution_count": 75,
     "metadata": {},
     "output_type": "execute_result"
    }
   ],
   "source": [
    "from sklearn.svm import SVC\n",
    "svm = SVC(kernel='rbf', C=1.0, random_state=1)\n",
    "svm.fit(train_set_std, train_labels)"
   ]
  },
  {
   "cell_type": "markdown",
   "metadata": {},
   "source": [
    "### Model Evaluation"
   ]
  },
  {
   "cell_type": "code",
   "execution_count": 76,
   "metadata": {},
   "outputs": [
    {
     "name": "stdout",
     "output_type": "stream",
     "text": [
      "Misclassified examples (All Features): 1\n"
     ]
    }
   ],
   "source": [
    "y_pred = svm.predict(test_set_std)\n",
    "print('Misclassified examples (All Features): %d' % (test_labels != y_pred).sum())"
   ]
  },
  {
   "cell_type": "markdown",
   "metadata": {},
   "source": [
    "### Metrics"
   ]
  },
  {
   "cell_type": "code",
   "execution_count": 77,
   "metadata": {},
   "outputs": [
    {
     "name": "stdout",
     "output_type": "stream",
     "text": [
      "Accuracy :  0.9777777777777777\n"
     ]
    }
   ],
   "source": [
    "#𝑀1 : Classification accuracy\n",
    "from sklearn.metrics import accuracy_score\n",
    "acc_svm_rbf_norm = accuracy_score(test_labels, y_pred)\n",
    "print('Accuracy : ' ,acc_svm_rbf_norm)"
   ]
  },
  {
   "cell_type": "code",
   "execution_count": 78,
   "metadata": {},
   "outputs": [
    {
     "name": "stdout",
     "output_type": "stream",
     "text": [
      "F1-Score :  0.9777530589543938\n"
     ]
    }
   ],
   "source": [
    "#𝑀2 : F1-score\n",
    "from sklearn.metrics import f1_score\n",
    "f1_svm_rbf_norm = f1_score(test_labels, y_pred, average='weighted')\n",
    "print('F1-Score : ',f1_svm_rbf_norm)"
   ]
  },
  {
   "cell_type": "code",
   "execution_count": 79,
   "metadata": {},
   "outputs": [
    {
     "name": "stdout",
     "output_type": "stream",
     "text": [
      "Mean Squared Error :  0.022222222222222223\n"
     ]
    }
   ],
   "source": [
    "#𝑀3 : Mean squared error\n",
    "from sklearn.metrics import mean_squared_error\n",
    "mse_svm_rbf_norm = mean_squared_error(test_labels, y_pred)\n",
    "print('Mean Squared Error : ',mse_svm_rbf_norm)"
   ]
  },
  {
   "cell_type": "code",
   "execution_count": 80,
   "metadata": {},
   "outputs": [
    {
     "name": "stdout",
     "output_type": "stream",
     "text": [
      "Hamming loss :  0.022222222222222223\n"
     ]
    }
   ],
   "source": [
    "#𝑀4 : Hamming loss\n",
    "from sklearn.metrics import hamming_loss\n",
    "hamloss_svm_rbf_norm = hamming_loss(test_labels, y_pred)\n",
    "print('Hamming loss : ',hamloss_svm_rbf_norm)"
   ]
  },
  {
   "cell_type": "markdown",
   "metadata": {},
   "source": [
    "# Decision Tree"
   ]
  },
  {
   "cell_type": "code",
   "execution_count": 81,
   "metadata": {},
   "outputs": [
    {
     "data": {
      "text/plain": [
       "DecisionTreeClassifier(max_depth=4, random_state=1)"
      ]
     },
     "execution_count": 81,
     "metadata": {},
     "output_type": "execute_result"
    }
   ],
   "source": [
    "# Decision Treefrom sklearn.tree import DecisionTreeClassifier\n",
    "\n",
    "# Build a decision tree for classification tasks\n",
    "# citerion:  The function to measure the quality of a split. \n",
    "# max_depth: The maximum depth of the tree. If None, then nodes are expanded until all leaves are pure or\n",
    "#            until all leaves contain less than min_samples_split samples.\n",
    "# min_samples_split: The minimum number of samples required to split an internal node.\n",
    "# min_samples_leaf:  The minimum number of samples required to to be at a leaf node.\n",
    "tree_model = DecisionTreeClassifier(criterion = 'gini', max_depth = 4, random_state = 1)\n",
    "tree_model.fit(train_set_std, train_labels)"
   ]
  },
  {
   "cell_type": "markdown",
   "metadata": {},
   "source": [
    "### Model Evaluation"
   ]
  },
  {
   "cell_type": "code",
   "execution_count": 82,
   "metadata": {},
   "outputs": [
    {
     "name": "stdout",
     "output_type": "stream",
     "text": [
      "Misclassified examples (All Features): 1\n"
     ]
    }
   ],
   "source": [
    "y_pred = tree_model.predict(test_set_std)\n",
    "print('Misclassified examples (All Features): %d' % (test_labels != y_pred).sum())"
   ]
  },
  {
   "cell_type": "markdown",
   "metadata": {},
   "source": [
    "### Metrics"
   ]
  },
  {
   "cell_type": "code",
   "execution_count": 83,
   "metadata": {},
   "outputs": [
    {
     "name": "stdout",
     "output_type": "stream",
     "text": [
      "Accuracy :  0.9777777777777777\n"
     ]
    }
   ],
   "source": [
    "#𝑀1 : Classification accuracy\n",
    "from sklearn.metrics import accuracy_score\n",
    "acc_dtree_norm = accuracy_score(test_labels, y_pred)\n",
    "print('Accuracy : ', acc_dtree_norm)"
   ]
  },
  {
   "cell_type": "code",
   "execution_count": 84,
   "metadata": {},
   "outputs": [
    {
     "name": "stdout",
     "output_type": "stream",
     "text": [
      "F1-score : 0.9777530589543938\n"
     ]
    }
   ],
   "source": [
    "#𝑀2 : F1-score\n",
    "from sklearn.metrics import f1_score\n",
    "f1_dtree_norm = f1_score(test_labels, y_pred, average='weighted')\n",
    "print('F1-score :',f1_dtree_norm)"
   ]
  },
  {
   "cell_type": "code",
   "execution_count": 85,
   "metadata": {},
   "outputs": [
    {
     "name": "stdout",
     "output_type": "stream",
     "text": [
      "Mean Squared Error :  0.022222222222222223\n"
     ]
    }
   ],
   "source": [
    "#𝑀3 : Mean squared error\n",
    "from sklearn.metrics import mean_squared_error\n",
    "mse_dtree_norm = mean_squared_error(test_labels, y_pred)\n",
    "print('Mean Squared Error : ',mse_dtree_norm)"
   ]
  },
  {
   "cell_type": "code",
   "execution_count": 86,
   "metadata": {},
   "outputs": [
    {
     "name": "stdout",
     "output_type": "stream",
     "text": [
      "Hamming Loss :  0.022222222222222223\n"
     ]
    }
   ],
   "source": [
    "#𝑀4 : Hamming loss\n",
    "from sklearn.metrics import hamming_loss\n",
    "hamloss_dtree_norm = hamming_loss(test_labels, y_pred)\n",
    "print('Hamming Loss : ',hamloss_dtree_norm)"
   ]
  },
  {
   "cell_type": "markdown",
   "metadata": {},
   "source": [
    "# Random Forests"
   ]
  },
  {
   "cell_type": "code",
   "execution_count": 87,
   "metadata": {},
   "outputs": [
    {
     "data": {
      "text/plain": [
       "RandomForestClassifier(n_estimators=25, n_jobs=-1, random_state=1)"
      ]
     },
     "execution_count": 87,
     "metadata": {},
     "output_type": "execute_result"
    }
   ],
   "source": [
    "from sklearn.ensemble import RandomForestClassifier\n",
    "\n",
    "# Create a Random Forest comprised of 25 decision trees\n",
    "# citerion:  The function to measure the quality of a split. \n",
    "# max_depth: The maximum depth of the tree. If None, then nodes are expanded until all leaves are pure or\n",
    "#            until all leaves contain less than min_samples_split samples.\n",
    "# min_samples_split: The minimum number of samples required to split an internal node.\n",
    "# min_samples_leaf:  The minimum number of samples required to to be at a leaf node.\n",
    "forest = RandomForestClassifier(criterion='gini', n_estimators=25, random_state=1, n_jobs=-1)\n",
    "forest.fit(train_set_std, train_labels)"
   ]
  },
  {
   "cell_type": "markdown",
   "metadata": {},
   "source": [
    "### Model Evaluation"
   ]
  },
  {
   "cell_type": "code",
   "execution_count": 88,
   "metadata": {},
   "outputs": [
    {
     "name": "stdout",
     "output_type": "stream",
     "text": [
      "Misclassified examples (All Features): 1\n"
     ]
    }
   ],
   "source": [
    "y_pred = y_pred = forest.predict(test_set_std)\n",
    "print('Misclassified examples (All Features): %d' % (test_labels != y_pred).sum())"
   ]
  },
  {
   "cell_type": "markdown",
   "metadata": {},
   "source": [
    "### Metrics"
   ]
  },
  {
   "cell_type": "code",
   "execution_count": 89,
   "metadata": {},
   "outputs": [
    {
     "name": "stdout",
     "output_type": "stream",
     "text": [
      "Accuracy :  0.9777777777777777\n"
     ]
    }
   ],
   "source": [
    "#𝑀1 : Classification accuracy\n",
    "from sklearn.metrics import accuracy_score\n",
    "acc_rforest_norm = accuracy_score(test_labels, y_pred)\n",
    "print('Accuracy : ', acc_rforest_norm)"
   ]
  },
  {
   "cell_type": "code",
   "execution_count": 90,
   "metadata": {},
   "outputs": [
    {
     "name": "stdout",
     "output_type": "stream",
     "text": [
      "F1-score : 0.9777530589543938\n"
     ]
    }
   ],
   "source": [
    "#𝑀2 : F1-score\n",
    "from sklearn.metrics import f1_score\n",
    "f1_rforest_norm = f1_score(test_labels, y_pred, average='weighted')\n",
    "print('F1-score :',f1_rforest_norm)"
   ]
  },
  {
   "cell_type": "code",
   "execution_count": 91,
   "metadata": {},
   "outputs": [
    {
     "name": "stdout",
     "output_type": "stream",
     "text": [
      "Mean Squared Error :  0.022222222222222223\n"
     ]
    }
   ],
   "source": [
    "#𝑀3 : Mean squared error\n",
    "from sklearn.metrics import mean_squared_error\n",
    "mse_rforest_norm = mean_squared_error(test_labels, y_pred)\n",
    "print('Mean Squared Error : ',mse_rforest_norm)"
   ]
  },
  {
   "cell_type": "code",
   "execution_count": 92,
   "metadata": {},
   "outputs": [
    {
     "name": "stdout",
     "output_type": "stream",
     "text": [
      "Hamming Loss :  0.022222222222222223\n"
     ]
    }
   ],
   "source": [
    "#𝑀4 : Hamming loss\n",
    "from sklearn.metrics import hamming_loss\n",
    "hamloss_rforest_norm = hamming_loss(test_labels, y_pred)\n",
    "print('Hamming Loss : ',hamloss_rforest_norm)"
   ]
  },
  {
   "cell_type": "markdown",
   "metadata": {},
   "source": [
    "# Feed-forward Neural Network with two hidden layers"
   ]
  },
  {
   "cell_type": "code",
   "execution_count": 93,
   "metadata": {},
   "outputs": [
    {
     "data": {
      "text/plain": [
       "MLPClassifier(alpha=0.3, hidden_layer_sizes=(10, 12), max_iter=1000)"
      ]
     },
     "execution_count": 93,
     "metadata": {},
     "output_type": "execute_result"
    }
   ],
   "source": [
    "from sklearn.neural_network import MLPClassifier\n",
    "mlp = MLPClassifier(activation='relu', hidden_layer_sizes=(10,12), alpha = 0.3, max_iter = 1000)\n",
    "\n",
    "mlp.fit(train_set_std, train_labels)"
   ]
  },
  {
   "cell_type": "markdown",
   "metadata": {},
   "source": [
    "### Model Evaluation"
   ]
  },
  {
   "cell_type": "code",
   "execution_count": 94,
   "metadata": {},
   "outputs": [
    {
     "name": "stdout",
     "output_type": "stream",
     "text": [
      "Misclassified examples (All Features): 2\n"
     ]
    }
   ],
   "source": [
    "y_pred = mlp.predict(test_set_std)\n",
    "print('Misclassified examples (All Features): %d' % (test_labels != y_pred).sum())"
   ]
  },
  {
   "cell_type": "markdown",
   "metadata": {},
   "source": [
    "### Metrics"
   ]
  },
  {
   "cell_type": "code",
   "execution_count": 95,
   "metadata": {},
   "outputs": [
    {
     "name": "stdout",
     "output_type": "stream",
     "text": [
      "Accuracy :  0.9555555555555556\n"
     ]
    }
   ],
   "source": [
    "#𝑀1 : Classification accuracy\n",
    "from sklearn.metrics import accuracy_score\n",
    "acc_nnet_norm = accuracy_score(test_labels, y_pred)\n",
    "print('Accuracy : ', acc_nnet_norm)"
   ]
  },
  {
   "cell_type": "code",
   "execution_count": 96,
   "metadata": {},
   "outputs": [
    {
     "name": "stdout",
     "output_type": "stream",
     "text": [
      "F1-score : 0.9555555555555556\n"
     ]
    }
   ],
   "source": [
    "#𝑀2 : F1-score\n",
    "from sklearn.metrics import f1_score\n",
    "f1_nnet_norm = f1_score(test_labels, y_pred, average='weighted')\n",
    "print('F1-score :',f1_nnet_norm)"
   ]
  },
  {
   "cell_type": "code",
   "execution_count": 97,
   "metadata": {},
   "outputs": [
    {
     "name": "stdout",
     "output_type": "stream",
     "text": [
      "Mean Squared Error :  0.044444444444444446\n"
     ]
    }
   ],
   "source": [
    "#𝑀3 : Mean squared error\n",
    "from sklearn.metrics import mean_squared_error\n",
    "mse_nnet_norm = mean_squared_error(test_labels, y_pred)\n",
    "print('Mean Squared Error : ',mse_nnet_norm)"
   ]
  },
  {
   "cell_type": "code",
   "execution_count": 98,
   "metadata": {
    "scrolled": false
   },
   "outputs": [
    {
     "name": "stdout",
     "output_type": "stream",
     "text": [
      "Hamming Loss :  0.044444444444444446\n"
     ]
    }
   ],
   "source": [
    "#𝑀4 : Hamming loss\n",
    "from sklearn.metrics import hamming_loss\n",
    "hamloss_nnet_norm = hamming_loss(test_labels, y_pred)\n",
    "print('Hamming Loss : ',hamloss_nnet_norm)"
   ]
  },
  {
   "cell_type": "markdown",
   "metadata": {},
   "source": [
    "# Plots"
   ]
  },
  {
   "cell_type": "markdown",
   "metadata": {},
   "source": [
    "## No Normalazation"
   ]
  },
  {
   "cell_type": "markdown",
   "metadata": {},
   "source": [
    "### IRIS Classification Accuracy Metrics"
   ]
  },
  {
   "cell_type": "code",
   "execution_count": 99,
   "metadata": {},
   "outputs": [
    {
     "data": {
      "image/png": "[encoded data removed]",
      "text/plain": [
       "<Figure size 432x288 with 1 Axes>"
      ]
     },
     "metadata": {
      "needs_background": "light"
     },
     "output_type": "display_data"
    }
   ],
   "source": [
    "import numpy as np\n",
    "import matplotlib.pyplot as plt\n",
    "classifications = [acc_logre_nonorm, acc_perc_nonorm, acc_svm_lk_nonorm, acc_svm_rbf_nonorm, acc_dtree_nonorm, acc_rforest_nonorm, acc_nnet_nonorm]\n",
    "scores = ('Logistic Regression', 'Perceptron', 'SVM Linear', 'SVM RBF', 'Decision Tree', 'Random Forests', 'Neural Network')\n",
    "y_pos = np.arange(len(scores))\n",
    "plt.barh(y_pos, classifications)\n",
    "plt.yticks(y_pos, scores)\n",
    "plt.xlabel('Scores')\n",
    "plt.ylabel('Classifiers')\n",
    "plt.title('IRIS Classification Accuracy Metrics')\n",
    "plt.show()\n"
   ]
  },
  {
   "cell_type": "code",
   "execution_count": 100,
   "metadata": {},
   "outputs": [
    {
     "data": {
      "image/png": "[encoded data removed]",
      "text/plain": [
       "<Figure size 432x288 with 1 Axes>"
      ]
     },
     "metadata": {
      "needs_background": "light"
     },
     "output_type": "display_data"
    }
   ],
   "source": [
    "import numpy as np\n",
    "import matplotlib.pyplot as plt\n",
    "classifications = [f1_logre_nonorm, f1_perc_nonorm, f1_svm_lk_nonorm, f1_svm_rbf_nonorm, f1_dtree_nonorm, f1_rforest_nonorm, f1_nnet_nonorm]\n",
    "scores = ('Logistic Regression', 'Perceptron', 'SVM Linear', 'SVM RBF', 'Decision Tree', 'Random Forests', 'Neural Network')\n",
    "y_pos = np.arange(len(scores))\n",
    "plt.barh(y_pos, classifications)\n",
    "plt.yticks(y_pos, scores)\n",
    "plt.xlabel('Scores')\n",
    "plt.ylabel('Classifiers')\n",
    "plt.title('IRIS F1-Score Metrics')\n",
    "plt.show()\n"
   ]
  },
  {
   "cell_type": "code",
   "execution_count": 101,
   "metadata": {},
   "outputs": [
    {
     "data": {
      "image/png": "[encoded data removed]",
      "text/plain": [
       "<Figure size 432x288 with 1 Axes>"
      ]
     },
     "metadata": {
      "needs_background": "light"
     },
     "output_type": "display_data"
    }
   ],
   "source": [
    "import numpy as np\n",
    "import matplotlib.pyplot as plt\n",
    "classifications = [mse_logre_nonorm, mse_perc_nonorm, mse_svm_lk_nonorm, mse_svm_rbf_nonorm, mse_dtree_nonorm, mse_rforest_nonorm, mse_nnet_nonorm]\n",
    "scores = ('Logistic Regression', 'Perceptron', 'SVM Linear', 'SVM RBF', 'Decision Tree', 'Random Forests', 'Neural Network')\n",
    "y_pos = np.arange(len(scores))\n",
    "plt.barh(y_pos, classifications)\n",
    "plt.yticks(y_pos, scores)\n",
    "plt.xlabel('Scores')\n",
    "plt.ylabel('Classifiers')\n",
    "plt.title('IRIS Mean Squared Error Metrics')\n",
    "plt.show()"
   ]
  },
  {
   "cell_type": "code",
   "execution_count": 102,
   "metadata": {},
   "outputs": [
    {
     "data": {
      "image/png": "[encoded data removed]",
      "text/plain": [
       "<Figure size 432x288 with 1 Axes>"
      ]
     },
     "metadata": {
      "needs_background": "light"
     },
     "output_type": "display_data"
    }
   ],
   "source": [
    "import numpy as np\n",
    "import matplotlib.pyplot as plt\n",
    "classifications = [hamloss_logre_nonorm, hamloss_perc_nonorm, hamloss_svm_lk_nonorm, hamloss_svm_rbf_nonorm, hamloss_dtree_nonorm, hamloss_rforest_nonorm, hamloss_nnet_nonorm]\n",
    "scores = ('Logistic Regression', 'Perceptron', 'SVM Linear', 'SVM RBF', 'Decision Tree', 'Random Forests', 'Neural Network')\n",
    "y_pos = np.arange(len(scores))\n",
    "plt.barh(y_pos, classifications)\n",
    "plt.yticks(y_pos, scores)\n",
    "plt.xlabel('Scores')\n",
    "plt.ylabel('Classifiers')\n",
    "plt.title('IRIS Hamming Loss Metrics')\n",
    "plt.show()"
   ]
  },
  {
   "cell_type": "markdown",
   "metadata": {},
   "source": [
    "## Feature Standardization"
   ]
  },
  {
   "cell_type": "markdown",
   "metadata": {},
   "source": [
    "### IRIS Classification Accuracy Metrics"
   ]
  },
  {
   "cell_type": "code",
   "execution_count": 103,
   "metadata": {},
   "outputs": [
    {
     "data": {
      "image/png": "[encoded data removed]",
      "text/plain": [
       "<Figure size 432x288 with 1 Axes>"
      ]
     },
     "metadata": {
      "needs_background": "light"
     },
     "output_type": "display_data"
    }
   ],
   "source": [
    "import numpy as np\n",
    "import matplotlib.pyplot as plt\n",
    "classifications = [acc_logre_norm, acc_perc_norm, acc_svm_lk_norm, acc_svm_rbf_norm, acc_dtree_norm, acc_rforest_norm, acc_nnet_norm]\n",
    "scores = ('Logistic Regression', 'Perceptron', 'SVM Linear', 'SVM RBF', 'Decision Tree', 'Random Forests', 'Neural Network')\n",
    "y_pos = np.arange(len(scores))\n",
    "plt.barh(y_pos, classifications)\n",
    "plt.yticks(y_pos, scores)\n",
    "plt.xlabel('Scores')\n",
    "plt.ylabel('Classifiers')\n",
    "plt.title('IRIS Classification Accuracy Metrics')\n",
    "plt.show()\n"
   ]
  },
  {
   "cell_type": "code",
   "execution_count": 104,
   "metadata": {},
   "outputs": [
    {
     "data": {
      "image/png": "[encoded data removed]",
      "text/plain": [
       "<Figure size 432x288 with 1 Axes>"
      ]
     },
     "metadata": {
      "needs_background": "light"
     },
     "output_type": "display_data"
    }
   ],
   "source": [
    "import numpy as np\n",
    "import matplotlib.pyplot as plt\n",
    "classifications = [f1_logre_norm, f1_perc_norm, f1_svm_lk_norm, f1_svm_rbf_norm, f1_dtree_norm, f1_rforest_norm, f1_nnet_norm]\n",
    "scores = ('Logistic Regression', 'Perceptron', 'SVM Linear', 'SVM RBF', 'Decision Tree', 'Random Forests', 'Neural Network')\n",
    "y_pos = np.arange(len(scores))\n",
    "plt.barh(y_pos, classifications)\n",
    "plt.yticks(y_pos, scores)\n",
    "plt.xlabel('Scores')\n",
    "plt.ylabel('Classifiers')\n",
    "plt.title('IRIS F1-Score Metrics')\n",
    "plt.show()\n"
   ]
  },
  {
   "cell_type": "code",
   "execution_count": 105,
   "metadata": {},
   "outputs": [
    {
     "data": {
      "image/png": "[encoded data removed]",
      "text/plain": [
       "<Figure size 432x288 with 1 Axes>"
      ]
     },
     "metadata": {
      "needs_background": "light"
     },
     "output_type": "display_data"
    }
   ],
   "source": [
    "import numpy as np\n",
    "import matplotlib.pyplot as plt\n",
    "classifications = [mse_logre_norm, mse_perc_norm, mse_svm_lk_norm, mse_svm_rbf_norm, mse_dtree_norm, mse_rforest_norm, mse_nnet_norm]\n",
    "scores = ('Logistic Regression', 'Perceptron', 'SVM Linear', 'SVM RBF', 'Decision Tree', 'Random Forests', 'Neural Network')\n",
    "y_pos = np.arange(len(scores))\n",
    "plt.barh(y_pos, classifications)\n",
    "plt.yticks(y_pos, scores)\n",
    "plt.xlabel('Scores')\n",
    "plt.ylabel('Classifiers')\n",
    "plt.title('IRIS Mean Squared Error Metrics')\n",
    "plt.show()"
   ]
  },
  {
   "cell_type": "code",
   "execution_count": 106,
   "metadata": {
    "scrolled": true
   },
   "outputs": [
    {
     "data": {
      "image/png": "[encoded data removed]",
      "text/plain": [
       "<Figure size 432x288 with 1 Axes>"
      ]
     },
     "metadata": {
      "needs_background": "light"
     },
     "output_type": "display_data"
    }
   ],
   "source": [
    "import numpy as np\n",
    "import matplotlib.pyplot as plt\n",
    "classifications = [hamloss_logre_norm, hamloss_perc_norm, hamloss_svm_lk_norm, hamloss_svm_rbf_norm, hamloss_dtree_norm, hamloss_rforest_norm, hamloss_nnet_norm]\n",
    "scores = ('Logistic Regression', 'Perceptron', 'SVM Linear', 'SVM RBF', 'Decision Tree', 'Random Forests', 'Neural Network')\n",
    "y_pos = np.arange(len(scores))\n",
    "plt.barh(y_pos, classifications)\n",
    "plt.yticks(y_pos, scores)\n",
    "plt.xlabel('Scores')\n",
    "plt.ylabel('Classifiers')\n",
    "plt.title('IRIS Hamming Loss Metrics')\n",
    "plt.show()"
   ]
  },
  {
   "cell_type": "markdown",
   "metadata": {},
   "source": [
    "# Comparison plots of the classifiers' performance"
   ]
  },
  {
   "cell_type": "markdown",
   "metadata": {},
   "source": [
    "### (Analysis in Notebook 7)"
   ]
  },
  {
   "cell_type": "code",
   "execution_count": 107,
   "metadata": {},
   "outputs": [
    {
     "data": {
      "image/png": "[encoded data removed]",
      "text/plain": [
       "<Figure size 432x288 with 1 Axes>"
      ]
     },
     "metadata": {
      "needs_background": "light"
     },
     "output_type": "display_data"
    }
   ],
   "source": [
    "import numpy as np\n",
    "import matplotlib.pyplot as plt\n",
    "\n",
    "# data to plot\n",
    "n_groups = 7\n",
    "No_Normalazation = (acc_logre_nonorm, acc_perc_nonorm, acc_svm_lk_nonorm, acc_svm_rbf_nonorm, acc_dtree_nonorm, acc_rforest_nonorm, acc_nnet_nonorm)\n",
    "Feature_Standardization = (acc_logre_norm, acc_perc_norm, acc_svm_lk_norm, acc_svm_rbf_norm, acc_dtree_norm, acc_rforest_norm, acc_nnet_norm)\n",
    "\n",
    "# create plot\n",
    "fig, ax = plt.subplots()\n",
    "index = np.arange(n_groups)\n",
    "bar_width = 0.25\n",
    "opacity = 0.8\n",
    "plt.ylim(0.90, 1.0)\n",
    "\n",
    "rects1 = plt.bar(index, No_Normalazation, bar_width,\n",
    "alpha=opacity,\n",
    "color='b',\n",
    "label='No Normalazation')\n",
    "\n",
    "rects2 = plt.bar(index + bar_width, Feature_Standardization, bar_width,\n",
    "alpha=opacity,\n",
    "color='g',\n",
    "label='Feature Standardization')\n",
    "\n",
    "plt.xlabel('Classifiers')\n",
    "plt.ylabel('Scores')\n",
    "plt.title('IRIS Classification Accuracy Metrics')\n",
    "plt.xticks(index + bar_width, ('Logistic Regression', 'Perceptron', 'SVM Linear', 'SVM RBF', 'Decision Tree', 'Random Forests', 'Neural Network'),rotation = 45)\n",
    "plt.legend()\n",
    "\n",
    "plt.tight_layout()\n",
    "plt.show()"
   ]
  },
  {
   "cell_type": "code",
   "execution_count": 108,
   "metadata": {},
   "outputs": [
    {
     "data": {
      "image/png": "[encoded data removed]",
      "text/plain": [
       "<Figure size 432x288 with 1 Axes>"
      ]
     },
     "metadata": {
      "needs_background": "light"
     },
     "output_type": "display_data"
    }
   ],
   "source": [
    "import numpy as np\n",
    "import matplotlib.pyplot as plt\n",
    "# data to plot\n",
    "n_groups = 7\n",
    "No_Normalazation = (f1_logre_nonorm, f1_perc_nonorm, f1_svm_lk_nonorm, f1_svm_rbf_nonorm, f1_dtree_nonorm, f1_rforest_nonorm, f1_nnet_nonorm)\n",
    "Feature_Standardization = (f1_logre_norm, f1_perc_norm, f1_svm_lk_norm, f1_svm_rbf_norm, f1_dtree_norm, f1_rforest_norm, f1_nnet_norm)\n",
    "\n",
    "# create plot\n",
    "fig, ax = plt.subplots()\n",
    "index = np.arange(n_groups)\n",
    "bar_width = 0.25\n",
    "opacity = 0.8\n",
    "plt.ylim(0.90, 1.0)\n",
    "\n",
    "rects1 = plt.bar(index, No_Normalazation, bar_width,\n",
    "alpha=opacity,\n",
    "color='b',\n",
    "label='No Normalazation')\n",
    "\n",
    "rects2 = plt.bar(index + bar_width, Feature_Standardization, bar_width,\n",
    "alpha=opacity,\n",
    "color='g',\n",
    "label='Feature Standardization')\n",
    "\n",
    "plt.xlabel('Classifiers')\n",
    "plt.ylabel('Scores')\n",
    "plt.title('IRIS F1-Score Metrics')\n",
    "plt.xticks(index + bar_width, ('Logistic Regression', 'Perceptron', 'SVM Linear', 'SVM RBF', 'Decision Tree', 'Random Forests', 'Neural Network'),rotation = 45)\n",
    "plt.legend()\n",
    "\n",
    "plt.tight_layout()\n",
    "plt.show()"
   ]
  },
  {
   "cell_type": "code",
   "execution_count": 109,
   "metadata": {},
   "outputs": [
    {
     "data": {
      "image/png": "[encoded data removed]",
      "text/plain": [
       "<Figure size 432x288 with 1 Axes>"
      ]
     },
     "metadata": {
      "needs_background": "light"
     },
     "output_type": "display_data"
    }
   ],
   "source": [
    "import numpy as np\n",
    "import matplotlib.pyplot as plt\n",
    "# data to plot\n",
    "n_groups = 7\n",
    "No_Normalazation = (mse_logre_nonorm, mse_perc_nonorm, mse_svm_lk_nonorm, mse_svm_rbf_nonorm, mse_dtree_nonorm, mse_rforest_nonorm, mse_nnet_nonorm)\n",
    "Feature_Standardization = (mse_logre_norm, mse_perc_norm, mse_svm_lk_norm, mse_svm_rbf_norm, mse_dtree_norm, mse_rforest_norm, mse_nnet_norm)\n",
    "\n",
    "# create plot\n",
    "fig, ax = plt.subplots()\n",
    "index = np.arange(n_groups)\n",
    "bar_width = 0.25\n",
    "opacity = 0.8\n",
    "\n",
    "\n",
    "rects1 = plt.bar(index, No_Normalazation, bar_width,\n",
    "alpha=opacity,\n",
    "color='b',\n",
    "label='No Normalazation')\n",
    "\n",
    "rects2 = plt.bar(index + bar_width, Feature_Standardization, bar_width,\n",
    "alpha=opacity,\n",
    "color='g',\n",
    "label='Feature Standardization')\n",
    "\n",
    "plt.xlabel('Classifiers')\n",
    "plt.ylabel('Scores')\n",
    "plt.title('IRIS Mean Squared Error Metrics')\n",
    "plt.xticks(index + bar_width, ('Logistic Regression', 'Perceptron', 'SVM Linear', 'SVM RBF', 'Decision Tree', 'Random Forests', 'Neural Network'),rotation = 45)\n",
    "plt.legend()\n",
    "\n",
    "plt.tight_layout()\n",
    "plt.show()"
   ]
  },
  {
   "cell_type": "code",
   "execution_count": 110,
   "metadata": {},
   "outputs": [
    {
     "data": {
      "image/png": "[encoded data removed]",
      "text/plain": [
       "<Figure size 432x288 with 1 Axes>"
      ]
     },
     "metadata": {
      "needs_background": "light"
     },
     "output_type": "display_data"
    }
   ],
   "source": [
    "import numpy as np\n",
    "import matplotlib.pyplot as plt\n",
    "# data to plot\n",
    "n_groups = 7\n",
    "No_Normalazation = (hamloss_logre_nonorm, hamloss_perc_nonorm, hamloss_svm_lk_nonorm, hamloss_svm_rbf_nonorm, hamloss_dtree_nonorm, hamloss_rforest_nonorm, hamloss_nnet_nonorm)\n",
    "Feature_Standardization = (hamloss_logre_norm, hamloss_perc_norm, hamloss_svm_lk_norm, hamloss_svm_rbf_norm, hamloss_dtree_norm, hamloss_rforest_norm, hamloss_nnet_norm)\n",
    "\n",
    "# create plot\n",
    "fig, ax = plt.subplots()\n",
    "index = np.arange(n_groups)\n",
    "bar_width = 0.25\n",
    "opacity = 0.8\n",
    "\n",
    "\n",
    "rects1 = plt.bar(index, No_Normalazation, bar_width,\n",
    "alpha=opacity,\n",
    "color='b',\n",
    "label='No Normalazation')\n",
    "\n",
    "rects2 = plt.bar(index + bar_width, Feature_Standardization, bar_width,\n",
    "alpha=opacity,\n",
    "color='g',\n",
    "label='Feature Standardization')\n",
    "\n",
    "plt.xlabel('Classifiers')\n",
    "plt.ylabel('Scores')\n",
    "plt.title('IRIS Hamming Loss Metrics')\n",
    "plt.xticks(index + bar_width, ('Logistic Regression', 'Perceptron', 'SVM Linear', 'SVM RBF', 'Decision Tree', 'Random Forests', 'Neural Network'),rotation = 45)\n",
    "plt.legend()\n",
    "\n",
    "plt.tight_layout()\n",
    "plt.show()"
   ]
  }
 ],
 "metadata": {
  "kernelspec": {
   "display_name": "Python 3",
   "language": "python",
   "name": "python3"
  },
  "language_info": {
   "codemirror_mode": {
    "name": "ipython",
    "version": 3
   },
   "file_extension": ".py",
   "mimetype": "text/x-python",
   "name": "python",
   "nbconvert_exporter": "python",
   "pygments_lexer": "ipython3",
   "version": "3.8.5"
  }
 },
 "nbformat": 4,
 "nbformat_minor": 4
}
